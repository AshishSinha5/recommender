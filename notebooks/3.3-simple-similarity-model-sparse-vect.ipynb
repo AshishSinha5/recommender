{
 "cells": [
  {
   "cell_type": "code",
   "execution_count": 2,
   "metadata": {},
   "outputs": [],
   "source": [
    "import numpy as np\n",
    "from sklearn.metrics import jaccard_score\n",
    "from collections import defaultdict\n",
    "import json\n",
    "import random\n",
    "from tqdm import tqdm\n",
    "from sklearn.model_selection import train_test_split\n",
    "import sys\n",
    "import random\n",
    "from operator import itemgetter"
   ]
  },
  {
   "cell_type": "code",
   "execution_count": 3,
   "metadata": {},
   "outputs": [],
   "source": [
    "from sklearn.preprocessing import LabelEncoder"
   ]
  },
  {
   "cell_type": "code",
   "execution_count": 4,
   "metadata": {},
   "outputs": [],
   "source": [
    "from scipy.sparse import csr_matrix"
   ]
  },
  {
   "cell_type": "code",
   "execution_count": 5,
   "metadata": {},
   "outputs": [],
   "source": [
    "data_path = '../data/cleaned/RC_2023-01_2.json'\n",
    "with open(data_path, 'r') as fh:\n",
    "    comments = json.load(fh)"
   ]
  },
  {
   "attachments": {},
   "cell_type": "markdown",
   "metadata": {},
   "source": [
    "### Simple Data Stats"
   ]
  },
  {
   "cell_type": "code",
   "execution_count": 6,
   "metadata": {},
   "outputs": [
    {
     "name": "stdout",
     "output_type": "stream",
     "text": [
      "No. of comments in the data - 314599\n",
      "No. of unique subreddits : 18645\n",
      "No. of unique users : 77996\n"
     ]
    }
   ],
   "source": [
    "print(f'No. of comments in the data - {len(comments)}')\n",
    "n_subreddit = len(set([comment['subreddit_id'] for comment in comments]))\n",
    "print(f'No. of unique subreddits : {n_subreddit}')\n",
    "n_users = len(set([comment['author'] for comment in comments]))\n",
    "print(f'No. of unique users : {n_users}')"
   ]
  },
  {
   "attachments": {},
   "cell_type": "markdown",
   "metadata": {},
   "source": [
    "### Sparse Representation of the data"
   ]
  },
  {
   "cell_type": "code",
   "execution_count": 60,
   "metadata": {},
   "outputs": [
    {
     "name": "stderr",
     "output_type": "stream",
     "text": [
      "100%|██████████| 77996/77996 [00:00<00:00, 943429.61it/s]\n"
     ]
    },
    {
     "data": {
      "text/plain": [
       "(77996, 18645)"
      ]
     },
     "execution_count": 60,
     "metadata": {},
     "output_type": "execute_result"
    }
   ],
   "source": [
    "\n",
    "usersperitem = defaultdict(set)\n",
    "itemsperuser = defaultdict(set)\n",
    "item_name = defaultdict()\n",
    "for comment in comments:\n",
    "    user = comment['author_fullname']\n",
    "    item = comment['subreddit_id']\n",
    "    item_name[item] = comment['subreddit']\n",
    "    usersperitem[item].add(user)\n",
    "    itemsperuser[user].add(item)\n",
    "user_encoder = LabelEncoder().fit(list(itemsperuser.keys()))\n",
    "item_encoder = LabelEncoder().fit(list(usersperitem.keys()))\n",
    "# data : binary indicator whether user uses an item\n",
    "# idxptr : col index\n",
    "# indices : row index\n",
    "# create (n_item*n_user) sparse matrix each row represents one user and each column represents one item\n",
    "\n",
    "row_idx = []\n",
    "col_idx = []\n",
    "for user in tqdm(itemsperuser):\n",
    "    # user_idx = user_encoder.transform(user)\n",
    "    for item in itemsperuser[user]:\n",
    "        # item_idx = item_encoder.transform(item)\n",
    "        row_idx.append(user)\n",
    "        col_idx.append(item)\n",
    "col_idx = item_encoder.transform(np.array(col_idx))\n",
    "row_idx = user_encoder.transform(np.array(row_idx))\n",
    "col_idx.shape\n",
    "row_idx.shape\n",
    "data = np.ones_like(col_idx)\n",
    "data.dtype\n",
    "# creating a user item interaction matrix \n",
    "# each row is an item\n",
    "# each column is a matrix\n",
    "user_item_interaction = csr_matrix((data, (row_idx, col_idx)))\n",
    "user_item_interaction.shape"
   ]
  },
  {
   "cell_type": "code",
   "execution_count": 76,
   "metadata": {},
   "outputs": [],
   "source": [
    "def Jaccard(s1: np.ndarray, s2: np.ndarray):\n",
    "    \"\"\"\n",
    "    Jaccard similarity between two arrays.\n",
    "\n",
    "    Parameters:\n",
    "        s1: input array 1\n",
    "        s2: input array 2\n",
    "    \n",
    "    Returns:\n",
    "        Jaccard similarity for the two arrays\n",
    "    \"\"\"\n",
    "    numer = np.intersect1d(s1, s2).size\n",
    "    denom = np.union1d(s1, s2).size\n",
    "\n",
    "    if denom == 0:\n",
    "        return 0\n",
    "    return numer/denom\n",
    "\n",
    "def score(user_history, item_history, user_item_interaction):\n",
    "    \"\"\"\n",
    "    Return the similarity score for item i and user u.\n",
    "\n",
    "    Parameters:\n",
    "        u: user_label\n",
    "        i: item_label\n",
    "        user_history: array of items user has interacted with\n",
    "        item_history: array of users who have used item i\n",
    "        user_item_interaction: csr_matrix containing the user_item_interaction\n",
    "    \"\"\"\n",
    "    # user_v_history = np.unique(user_item_interaction[item_history].nonzero()[1])\n",
    "    sims = np.vectorize(lambda v: Jaccard(user_history, user_item_interaction[v].nonzero()[1]))(item_history)\n",
    "    bestsim = sims.max()\n",
    "    if bestsim == None:\n",
    "        return 0 \n",
    "    return bestsim\n",
    "\n",
    "def rec(u:int, user_item_interaction:csr_matrix):\n",
    "    \"\"\"\n",
    "    Given user `u` and user_item_interaction matrix with rows as items and columns as users,\n",
    "    return the recommendation for the user beasr on jaccard similarity.\n",
    "\n",
    "    Parameters:\n",
    "        u: user label\n",
    "        user_item_interaction : csr_matrix containing the user_item_interaction\n",
    "\n",
    "    Return:\n",
    "        most similar item based on user u's history,\n",
    "    \"\"\"\n",
    "    user_history = user_item_interaction[u].nonzero()[1]\n",
    "    n_items, n_users = user_item_interaction.shape\n",
    "    items = np.arange(n_items)\n",
    "    item_history = user_item_interaction[:, items].nonzero()[0]\n",
    "    valid_items = items[~np.isin(items, user_history)]\n",
    "    valid_item_history = item_history[~np.isin(items, user_history)]\n",
    "    sims = np.vectorize(lambda i: score(user_history, valid_item_history[i==valid_items], user_item_interaction))(valid_items)\n",
    "    bestitem = valid_items[sims.argmax()]\n",
    "    bestscore = sims.max()\n",
    "\n",
    "    return bestitem, bestscore"
   ]
  },
  {
   "cell_type": "code",
   "execution_count": 81,
   "metadata": {},
   "outputs": [
    {
     "data": {
      "text/plain": [
       "array([4676, 7261, 8672, 8929], dtype=int32)"
      ]
     },
     "execution_count": 81,
     "metadata": {},
     "output_type": "execute_result"
    }
   ],
   "source": [
    "u = 12\n",
    "user_history = user_item_interaction[u].nonzero()[1]\n",
    "user_history # items that are used by the user"
   ]
  },
  {
   "cell_type": "code",
   "execution_count": 82,
   "metadata": {},
   "outputs": [
    {
     "data": {
      "text/plain": [
       "(77996, 18645)"
      ]
     },
     "execution_count": 82,
     "metadata": {},
     "output_type": "execute_result"
    }
   ],
   "source": [
    "n_users, n_items = user_item_interaction.shape\n",
    "n_users, n_items"
   ]
  },
  {
   "cell_type": "code",
   "execution_count": 83,
   "metadata": {},
   "outputs": [
    {
     "data": {
      "text/plain": [
       "array([    0,     1,     2, ..., 18642, 18643, 18644])"
      ]
     },
     "execution_count": 83,
     "metadata": {},
     "output_type": "execute_result"
    }
   ],
   "source": [
    "items = np.arange(n_items)\n",
    "items"
   ]
  },
  {
   "cell_type": "code",
   "execution_count": 84,
   "metadata": {},
   "outputs": [
    {
     "data": {
      "text/plain": [
       "(array([    0,     1,     1, ..., 77994, 77994, 77995], dtype=int32),\n",
       " array([ 2351,  5507, 13533, ..., 13788, 15423,  3285], dtype=int32))"
      ]
     },
     "execution_count": 84,
     "metadata": {},
     "output_type": "execute_result"
    }
   ],
   "source": [
    "item_history = user_item_interaction[:, items].nonzero()\n",
    "item_history"
   ]
  },
  {
   "cell_type": "code",
   "execution_count": 85,
   "metadata": {},
   "outputs": [
    {
     "data": {
      "text/plain": [
       "array([    0,     1,     2, ..., 18642, 18643, 18644])"
      ]
     },
     "execution_count": 85,
     "metadata": {},
     "output_type": "execute_result"
    }
   ],
   "source": [
    "valid_items = items[~np.isin(items, user_history)]\n",
    "valid_items"
   ]
  },
  {
   "cell_type": "code",
   "execution_count": 86,
   "metadata": {},
   "outputs": [
    {
     "data": {
      "text/plain": [
       "(18641,)"
      ]
     },
     "execution_count": 86,
     "metadata": {},
     "output_type": "execute_result"
    }
   ],
   "source": [
    "valid_items.shape"
   ]
  },
  {
   "cell_type": "code",
   "execution_count": 87,
   "metadata": {},
   "outputs": [
    {
     "data": {
      "text/plain": [
       "(array([    0,     1,     1, ..., 77994, 77994, 77995], dtype=int32),\n",
       " array([ 2351,  5507, 13533, ..., 13788, 15423,  3285], dtype=int32))"
      ]
     },
     "execution_count": 87,
     "metadata": {},
     "output_type": "execute_result"
    }
   ],
   "source": [
    "idx = np.where(np.isin(item_history[1], valid_items))\n",
    "valid_item_history = (item_history[0][idx], item_history[1][idx])\n",
    "valid_item_history"
   ]
  },
  {
   "cell_type": "code",
   "execution_count": 88,
   "metadata": {},
   "outputs": [
    {
     "data": {
      "text/plain": [
       "array([], dtype=int32)"
      ]
     },
     "execution_count": 88,
     "metadata": {},
     "output_type": "execute_result"
    }
   ],
   "source": [
    "valid_item_history[0][valid_item_history[1] == 4676]"
   ]
  },
  {
   "cell_type": "code",
   "execution_count": 90,
   "metadata": {},
   "outputs": [],
   "source": [
    "sims = np.vectorize(lambda i: score(user_history, \n",
    "                                    valid_item_history[0][valid_item_history[1] == i], \n",
    "                                    user_item_interaction))(valid_items)"
   ]
  },
  {
   "cell_type": "code",
   "execution_count": 97,
   "metadata": {},
   "outputs": [
    {
     "data": {
      "text/plain": [
       "(18641,)"
      ]
     },
     "execution_count": 97,
     "metadata": {},
     "output_type": "execute_result"
    }
   ],
   "source": [
    "sims.shape"
   ]
  },
  {
   "cell_type": "code",
   "execution_count": 98,
   "metadata": {},
   "outputs": [
    {
     "data": {
      "text/plain": [
       "array([0.        , 0.00068823, 0.07692308, 0.11111111, 0.125     ,\n",
       "       0.14285714, 0.16666667, 0.2       , 0.4       ])"
      ]
     },
     "execution_count": 98,
     "metadata": {},
     "output_type": "execute_result"
    }
   ],
   "source": [
    "np.unique(sims)"
   ]
  },
  {
   "cell_type": "code",
   "execution_count": 100,
   "metadata": {},
   "outputs": [],
   "source": [
    "bestitems = np.argsort(sims)[::-1]\n",
    "bestscore = sims[bestitems]"
   ]
  },
  {
   "cell_type": "code",
   "execution_count": 101,
   "metadata": {},
   "outputs": [
    {
     "data": {
      "text/plain": [
       "array([ 9657, 18177, 17768,  1892,  9301])"
      ]
     },
     "execution_count": 101,
     "metadata": {},
     "output_type": "execute_result"
    }
   ],
   "source": [
    "bestitems[:5]"
   ]
  },
  {
   "cell_type": "code",
   "execution_count": 102,
   "metadata": {},
   "outputs": [
    {
     "data": {
      "text/plain": [
       "array([0.4, 0.4, 0.2, 0.2, 0.2])"
      ]
     },
     "execution_count": 102,
     "metadata": {},
     "output_type": "execute_result"
    }
   ],
   "source": [
    "bestscore[:5]"
   ]
  },
  {
   "cell_type": "code",
   "execution_count": 105,
   "metadata": {},
   "outputs": [
    {
     "name": "stdout",
     "output_type": "stream",
     "text": [
      "BabyBumps\n",
      "AskALiberal\n",
      "namenerds\n",
      "AskConservatives\n"
     ]
    }
   ],
   "source": [
    "for item in item_encoder.inverse_transform(user_history):\n",
    "    print(item_name[item])"
   ]
  },
  {
   "cell_type": "code",
   "execution_count": 104,
   "metadata": {},
   "outputs": [
    {
     "name": "stdout",
     "output_type": "stream",
     "text": [
      "SeattleGW\n",
      "ClothedPreggo\n",
      "Dororo\n",
      "Sacramento\n",
      "gaybbcpersonals\n"
     ]
    }
   ],
   "source": [
    "for item in item_encoder.inverse_transform(bestitems[:5]):\n",
    "    print(item_name[item])"
   ]
  },
  {
   "cell_type": "code",
   "execution_count": null,
   "metadata": {},
   "outputs": [],
   "source": []
  }
 ],
 "metadata": {
  "kernelspec": {
   "display_name": "gml",
   "language": "python",
   "name": "python3"
  },
  "language_info": {
   "codemirror_mode": {
    "name": "ipython",
    "version": 3
   },
   "file_extension": ".py",
   "mimetype": "text/x-python",
   "name": "python",
   "nbconvert_exporter": "python",
   "pygments_lexer": "ipython3",
   "version": "3.8.13"
  },
  "orig_nbformat": 4
 },
 "nbformat": 4,
 "nbformat_minor": 2
}
