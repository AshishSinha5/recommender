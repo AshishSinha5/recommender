{
 "cells": [
  {
   "cell_type": "code",
   "execution_count": 14,
   "id": "3788007b-bbf5-4d91-a597-3ab99a16cb4f",
   "metadata": {},
   "outputs": [],
   "source": [
    "import pandas as pd\n",
    "import numpy as np\n",
    "import json\n",
    "\n",
    "import os\n",
    "import sys\n",
    "\n",
    "from collections import defaultdict\n",
    "from tqdm import tqdm\n",
    "\n",
    "from pprint import pprint\n",
    "\n",
    "import matplotlib.pyplot as plt"
   ]
  },
  {
   "cell_type": "code",
   "execution_count": 15,
   "id": "38e2cb08-9c02-4c6d-ad1f-da624e3b3027",
   "metadata": {},
   "outputs": [
    {
     "data": {
      "text/plain": [
       "'/home/ashish/workspace/recommender/notebooks'"
      ]
     },
     "execution_count": 15,
     "metadata": {},
     "output_type": "execute_result"
    }
   ],
   "source": [
    "os.getcwd()"
   ]
  },
  {
   "cell_type": "code",
   "execution_count": 16,
   "id": "b5ee975c-f3d4-401f-98ff-1ddba96a1f85",
   "metadata": {},
   "outputs": [],
   "source": [
    "sys.path.append('/home/ashish/workspace/recommender/')"
   ]
  },
  {
   "cell_type": "code",
   "execution_count": 18,
   "id": "ea5e260f-aed6-4c3f-ad5c-4b59142b1f1d",
   "metadata": {},
   "outputs": [],
   "source": [
    "data_path = '../data/cleaned/RC_2023-01_2.json' \n",
    "with open(data_path, 'rb') as f:\n",
    "    comments = json.load(f)"
   ]
  },
  {
   "cell_type": "code",
   "execution_count": 19,
   "id": "3d343b92-940e-40a9-b66b-1bd821236f8e",
   "metadata": {},
   "outputs": [],
   "source": [
    "usersperitem = defaultdict(set)\n",
    "itemsperuser = defaultdict(set)\n",
    "item_name = defaultdict()\n",
    "for comment in comments:\n",
    "    user = comment['author']\n",
    "    item = comment['subreddit_id']\n",
    "    item_name[item] = comment['subreddit']\n",
    "    usersperitem[item].add(user)\n",
    "    itemsperuser[user].add(item)"
   ]
  },
  {
   "cell_type": "markdown",
   "id": "8a95cb3c-0a51-4a85-8645-f0166c9487f2",
   "metadata": {},
   "source": [
    "### Missing values in the data"
   ]
  },
  {
   "cell_type": "code",
   "execution_count": 20,
   "id": "63e55ac0-cc44-4c6a-8a1a-d324a7a3adb9",
   "metadata": {},
   "outputs": [
    {
     "name": "stderr",
     "output_type": "stream",
     "text": [
      "100%|██████████████████████████████████████████████████████████████████████████████████████████████| 407380/407380 [00:02<00:00, 201281.97it/s]\n"
     ]
    }
   ],
   "source": [
    "keys = defaultdict(int)\n",
    "for comment in tqdm(comments):\n",
    "    for key in comment:\n",
    "        keys[key] += 1"
   ]
  },
  {
   "cell_type": "code",
   "execution_count": 21,
   "id": "22c72a43-1701-4f85-978d-9d8569c3be54",
   "metadata": {
    "tags": []
   },
   "outputs": [
    {
     "name": "stdout",
     "output_type": "stream",
     "text": [
      "defaultdict(<class 'int'>,\n",
      "            {'all_awardings': 407380,\n",
      "             'archived': 407380,\n",
      "             'associated_award': 407380,\n",
      "             'author': 407380,\n",
      "             'author_cakeday': 971,\n",
      "             'author_created_utc': 407380,\n",
      "             'author_flair_background_color': 407380,\n",
      "             'author_flair_css_class': 407380,\n",
      "             'author_flair_richtext': 407380,\n",
      "             'author_flair_template_id': 407380,\n",
      "             'author_flair_text': 407380,\n",
      "             'author_flair_text_color': 407380,\n",
      "             'author_flair_type': 407380,\n",
      "             'author_fullname': 407380,\n",
      "             'author_patreon_flair': 407380,\n",
      "             'author_premium': 407380,\n",
      "             'body': 407380,\n",
      "             'can_gild': 407380,\n",
      "             'collapsed': 407380,\n",
      "             'collapsed_because_crowd_control': 407380,\n",
      "             'collapsed_reason': 407380,\n",
      "             'collapsed_reason_code': 407380,\n",
      "             'comment_type': 407380,\n",
      "             'controversiality': 407380,\n",
      "             'created_utc': 407380,\n",
      "             'distinguished': 407380,\n",
      "             'editable': 30,\n",
      "             'edited': 407380,\n",
      "             'gilded': 407380,\n",
      "             'gildings': 407380,\n",
      "             'id': 407380,\n",
      "             'is_submitter': 407380,\n",
      "             'link_id': 407380,\n",
      "             'locked': 407380,\n",
      "             'media_metadata': 2154,\n",
      "             'name': 407380,\n",
      "             'no_follow': 407380,\n",
      "             'parent_id': 407380,\n",
      "             'permalink': 407380,\n",
      "             'retrieved_on': 407380,\n",
      "             'score': 407380,\n",
      "             'score_hidden': 407380,\n",
      "             'send_replies': 407380,\n",
      "             'stickied': 407380,\n",
      "             'subreddit': 407380,\n",
      "             'subreddit_id': 407380,\n",
      "             'subreddit_name_prefixed': 407380,\n",
      "             'subreddit_type': 407380,\n",
      "             'top_awarded_type': 407380,\n",
      "             'total_awards_received': 407380,\n",
      "             'treatment_tags': 407380,\n",
      "             'unrepliable_reason': 407380})\n"
     ]
    }
   ],
   "source": [
    "pprint(keys)"
   ]
  },
  {
   "cell_type": "markdown",
   "id": "d34f9740-adc3-42cd-b41e-9736dfac428f",
   "metadata": {},
   "source": [
    "### How many unique users and subreddits are there"
   ]
  },
  {
   "cell_type": "code",
   "execution_count": 22,
   "id": "f89ff7b3-b2f2-4755-89c0-6c612197429c",
   "metadata": {},
   "outputs": [
    {
     "name": "stdout",
     "output_type": "stream",
     "text": [
      "No. of unique subreddits : 6217\n"
     ]
    }
   ],
   "source": [
    "n_subreddit = len(set([comment['subreddit_id'] for comment in comments]))\n",
    "print(f'No. of unique subreddits : {n_subreddit}')"
   ]
  },
  {
   "cell_type": "code",
   "execution_count": 23,
   "id": "b05b2216-98e1-4d5c-bebf-227ffb9ca332",
   "metadata": {},
   "outputs": [
    {
     "name": "stdout",
     "output_type": "stream",
     "text": [
      "No. of unique users : 194815\n"
     ]
    }
   ],
   "source": [
    "n_users = len(set([comment['author'] for comment in comments]))\n",
    "print(f'No. of unique users : {n_users}')"
   ]
  },
  {
   "cell_type": "markdown",
   "id": "8193bd3f-8389-42e2-ae6e-f034c55ae002",
   "metadata": {},
   "source": [
    "### Most Popular Subreddit (w.r.t number of users who have interacted on it)"
   ]
  },
  {
   "cell_type": "code",
   "execution_count": 24,
   "id": "41bcd2b2-7b95-44ae-a4dd-0ef68786e76e",
   "metadata": {},
   "outputs": [],
   "source": [
    "most_popular_subreddit = None\n",
    "max_len = 0\n",
    "for i, u in usersperitem.items():\n",
    "    if len(u) > max_len:\n",
    "        most_popular_subreddit = i\n",
    "        max_len = len(u)"
   ]
  },
  {
   "cell_type": "code",
   "execution_count": 25,
   "id": "03986a2a-793d-43cd-ae5a-2bb565ec1c1d",
   "metadata": {},
   "outputs": [
    {
     "data": {
      "text/plain": [
       "'AskReddit'"
      ]
     },
     "execution_count": 25,
     "metadata": {},
     "output_type": "execute_result"
    }
   ],
   "source": [
    "item_name[most_popular_subreddit]"
   ]
  },
  {
   "cell_type": "code",
   "execution_count": 26,
   "id": "5cccf078-7e22-43e2-8968-9d4aa720719f",
   "metadata": {},
   "outputs": [
    {
     "data": {
      "text/plain": [
       "7275"
      ]
     },
     "execution_count": 26,
     "metadata": {},
     "output_type": "execute_result"
    }
   ],
   "source": [
    "len(usersperitem[most_popular_subreddit])"
   ]
  },
  {
   "cell_type": "code",
   "execution_count": 27,
   "id": "b4744351-b3c3-4903-8ea5-76235400d62c",
   "metadata": {},
   "outputs": [
    {
     "name": "stdout",
     "output_type": "stream",
     "text": [
      "Most popular subreddit is AskReddit with 7275 comments\n"
     ]
    }
   ],
   "source": [
    "print(f'Most popular subreddit is {item_name[most_popular_subreddit]} with {len(usersperitem[most_popular_subreddit])} comments')"
   ]
  },
  {
   "cell_type": "code",
   "execution_count": 28,
   "id": "dd4cd11f-f4f7-48d3-9f85-98e64cd15283",
   "metadata": {
    "collapsed": true,
    "jupyter": {
     "outputs_hidden": true
    },
    "tags": []
   },
   "outputs": [
    {
     "name": "stdout",
     "output_type": "stream",
     "text": [
      "AskReddit 7275\n",
      "CFB 5504\n",
      "AmItheAsshole 2327\n",
      "Damnthatsinteresting 2195\n",
      "movies 1717\n",
      "WhitePeopleTwitter 1554\n",
      "memes 1503\n",
      "nba 1314\n",
      "interestingasfuck 1227\n",
      "pics 1182\n",
      "facepalm 1004\n",
      "therewasanattempt 966\n",
      "NoStupidQuestions 955\n",
      "gaming 939\n",
      "mildlyinfuriating 916\n",
      "teenagers 907\n",
      "meirl 869\n",
      "PublicFreakout 846\n",
      "Eldenring 834\n",
      "mildlyinteresting 775\n",
      "worldnews 754\n",
      "funny 740\n",
      "shitposting 727\n",
      "nextfuckinglevel 722\n",
      "television 692\n",
      "AskMen 691\n",
      "antiwork 679\n",
      "MoscowMurders 668\n",
      "Unexpected 649\n",
      "nfl 646\n",
      "terriblefacebookmemes 636\n",
      "196 553\n",
      "TrueOffMyChest 546\n",
      "Funnymemes 545\n",
      "PokemonScarletViolet 524\n",
      "pcmasterrace 508\n",
      "batman 503\n",
      "politics 490\n",
      "MadeMeSmile 450\n",
      "wholesomememes 445\n",
      "CasualUK 443\n",
      "wallstreetbets 440\n",
      "Tinder 439\n",
      "pokemon 438\n",
      "Genshin_Impact 433\n",
      "unpopularopinion 432\n",
      "CrazyFuckingVideos 426\n",
      "ask 418\n",
      "brasil 407\n",
      "PokemonGoFriends 407\n",
      "technology 402\n",
      "hockey 399\n",
      "news 390\n",
      "Wellthatsucks 390\n",
      "georgiabulldogs 389\n",
      "Overwatch 388\n",
      "relationship_advice 385\n",
      "EscapefromTarkov 383\n",
      "Philippines 382\n",
      "HolUp 380\n",
      "cats 380\n",
      "todayilearned 380\n",
      "wow 378\n",
      "SquaredCircle 377\n",
      "Minecraft 377\n",
      "conspiracy 369\n",
      "FreeKarma4You 369\n",
      "MarvelSnap 369\n",
      "argentina 367\n",
      "MichiganWolverines 364\n",
      "ModernWarfareII 353\n",
      "Justfuckmyshitup 352\n",
      "PoliticalCompassMemes 350\n",
      "phish 347\n",
      "aww 342\n",
      "fantasyfootball 333\n",
      "melbourne 330\n",
      "entertainment 322\n",
      "OhioStateFootball 322\n",
      "soccer 320\n",
      "clevercomebacks 317\n",
      "LifeProTips 313\n",
      "IdiotsInCars 310\n",
      "TooAfraidToAsk 309\n",
      "SteamDeck 308\n",
      "AbruptChaos 307\n",
      "baseball 307\n",
      "TikTokCringe 294\n",
      "timberwolves 293\n",
      "RoastMe 283\n",
      "Superstonk 283\n",
      "PersonalFinanceCanada 281\n",
      "neoliberal 277\n",
      "grandorder 277\n",
      "LivestreamFail 276\n",
      "leagueoflegends 274\n",
      "Music 273\n",
      "comicbooks 271\n",
      "ThatsInsane 266\n",
      "golf 266\n"
     ]
    }
   ],
   "source": [
    "topn = 100\n",
    "for i, k in enumerate(sorted(usersperitem, key=lambda k: len(usersperitem[k]), reverse=True)):\n",
    "    if i>=topn:\n",
    "        break\n",
    "    print(item_name[k], len(usersperitem[k]))"
   ]
  },
  {
   "cell_type": "markdown",
   "id": "8015d886-d4af-4d56-9b9c-2d32bd320971",
   "metadata": {},
   "source": [
    "### Most Active User (w.r.t number of subreddits it has interacted with)"
   ]
  },
  {
   "cell_type": "code",
   "execution_count": 29,
   "id": "ee98064a-c5ae-4ca9-a264-4592547fa539",
   "metadata": {},
   "outputs": [],
   "source": [
    "most_active_user  = None\n",
    "max_len = 0\n",
    "for u, i in itemsperuser.items():\n",
    "    if len(i) > max_len:\n",
    "        most_active_user = u\n",
    "        max_len = len(i)"
   ]
  },
  {
   "cell_type": "code",
   "execution_count": 30,
   "id": "862c7cb7-496f-4130-8681-fc677fcb29f4",
   "metadata": {
    "collapsed": true,
    "jupyter": {
     "outputs_hidden": true
    },
    "tags": []
   },
   "outputs": [
    {
     "name": "stdout",
     "output_type": "stream",
     "text": [
      "AutoModerator 1625\n",
      "SaveVideo 67\n",
      "WikiSummarizerBot 62\n",
      "MAGIC_EYE_BOT 54\n",
      "haikusbot 52\n",
      "sneakpeekbot 43\n",
      "RepostSleuthBot 40\n",
      "Flair_Helper 36\n",
      "QualityVote 33\n",
      "savevideobot 32\n",
      "of_patrol_bot 30\n",
      "International_Way731 26\n",
      "FloodgatesBot 26\n",
      "exclaim_bot 26\n",
      "RemindMeBot 24\n",
      "BubbllyBoy 24\n",
      "Dear_Piglet1391 23\n",
      "toiletmouth4u 22\n",
      "bear0001huggy 22\n",
      "B0tRank 21\n",
      "alphabet_order_bot 21\n",
      "rocky9724 21\n",
      "Animehawk44 21\n",
      "MaskeRRR 20\n",
      "FictionalFail 19\n",
      "Prestigious-Film4128 19\n",
      "tadlrs 19\n",
      "OneLostOstrich 19\n",
      "Firstandthirst 18\n",
      "lordo_fwar 18\n",
      "InkedLara69 18\n",
      "XNeon_Dark_BeastX 17\n",
      "throwaway808312 17\n",
      "KeyCommission8508 16\n",
      "LemonsAndAvocados 15\n",
      "Radical-SpaceMeat 15\n",
      "auddbot 15\n",
      "fuzzybunny561 15\n",
      "AgnosticGayMormon 14\n",
      "Gloomy_Ad8816 14\n",
      "ResidentEivvil 14\n",
      "MeltAway421 14\n",
      "BigDaddyJ34 14\n",
      "Sus-Rocket 14\n",
      "Old-Question-2950 14\n",
      "Threaxawiegh 13\n",
      "RubyRoxxxy 13\n",
      "lover4evr99 13\n",
      "vrushab1904 13\n",
      "WhatALotOAxolotls 13\n",
      "VelonLikesMelons 13\n",
      "thesamiad 13\n",
      "Wanga69 13\n",
      "LoveNeon19 13\n",
      "RioRem 13\n",
      "balrus-balrogwalrus 13\n",
      "Call_of_Tculhu 13\n",
      "ObserverCurious 13\n",
      "BigBossBurnerAccount 13\n",
      "MaryGreyi 13\n",
      "Silent_Finger2813 12\n",
      "Appropriate-Year6636 12\n",
      "SirKeagan 12\n",
      "ThinkingOutLoud79 12\n",
      "AwakenedHero2277 12\n",
      "funoutdoors42 12\n",
      "PUTYOURBUTTINMYBUTT 12\n",
      "havereddit 12\n",
      "Key-Trouble8346 12\n",
      "H0RRENDOUS1 12\n",
      "TheRealBlerb 12\n",
      "Jacobysmadre 12\n",
      "Blastingwario19 12\n",
      "Dull_Raspberry6813 12\n",
      "Time_Supermarket775 12\n",
      "bigun1920 12\n",
      "RubanTuggin 12\n",
      "GiabiMan 12\n",
      "jonesstephen123 12\n",
      "xx_spicy_peach_xx 12\n",
      "ThePurpleWeeb 12\n",
      "Fit-Interaction-5982 12\n",
      "De_07 12\n",
      "fasted05 12\n",
      "Straight-Grape2746 12\n",
      "burnaspliffnow 11\n",
      "MarcellaMitchell 11\n",
      "JadeGrapes 11\n",
      "Satan13Satan 11\n",
      "Wr0NgH0l3FooL 11\n",
      "Fireman_Ryan 11\n",
      "jamesmayfan 11\n",
      "fluffballkitten 11\n",
      "tvieno 11\n",
      "TheNerdyWeeb 11\n",
      "Representative_Still 11\n",
      "TheDevilsAdvokaat 11\n",
      "Eaudebeau 11\n",
      "WesternAccountant630 11\n",
      "YourChelsey 11\n"
     ]
    }
   ],
   "source": [
    "topn = 100\n",
    "for i, k in enumerate(sorted(itemsperuser, key=lambda k: len(itemsperuser[k]), reverse=True)):\n",
    "    if i>=topn:\n",
    "        break\n",
    "    print(k, len(itemsperuser[k]))"
   ]
  },
  {
   "cell_type": "markdown",
   "id": "a9025702-8272-4988-a534-8f08e9fd3363",
   "metadata": {},
   "source": [
    "### Distribution of comments in subreddits"
   ]
  },
  {
   "cell_type": "code",
   "execution_count": 31,
   "id": "93c84ee6-27b9-4040-835d-22a0945b7f1d",
   "metadata": {},
   "outputs": [],
   "source": [
    "comments_per_subreddit = defaultdict(int)\n",
    "for comment in comments:\n",
    "    subreddit_id = comment['subreddit_id']\n",
    "    comments_per_subreddit[subreddit_id] +=1"
   ]
  },
  {
   "cell_type": "code",
   "execution_count": 48,
   "id": "b8b56aaa-c259-42c6-81c2-1f3ec079e869",
   "metadata": {},
   "outputs": [
    {
     "data": {
      "image/png": "[encoded data removed]",
      "text/plain": [
       "<Figure size 640x480 with 1 Axes>"
      ]
     },
     "metadata": {},
     "output_type": "display_data"
    }
   ],
   "source": [
    "plt.hist(np.log(list(comments_per_subreddit.values())), bins = 100)\n",
    "plt.show()"
   ]
  },
  {
   "cell_type": "code",
   "execution_count": 38,
   "id": "bde04f34-1cfc-4bb6-931c-11140d71821a",
   "metadata": {},
   "outputs": [],
   "source": [
    "def count_subreddit(thresh = 1):\n",
    "    num = 0\n",
    "    for i, u in usersperitem.items():\n",
    "        if len(u) < thresh:\n",
    "            num+=1\n",
    "    return num"
   ]
  },
  {
   "cell_type": "code",
   "execution_count": 46,
   "id": "afb56270-dada-4f1b-b3eb-de67c64a6d41",
   "metadata": {},
   "outputs": [
    {
     "name": "stdout",
     "output_type": "stream",
     "text": [
      "No. of subreddits with less than 10 commentors : 1276 (20.52%)\n"
     ]
    }
   ],
   "source": [
    "thresh = 10\n",
    "num = count_subreddit(thresh)\n",
    "print(f'No. of subreddits with less than {thresh} commentors : {num} ({num/len(usersperitem)*100:.2f}%)')"
   ]
  },
  {
   "cell_type": "code",
   "execution_count": 47,
   "id": "41afe226-acd9-4c53-81fa-61009e43a25b",
   "metadata": {},
   "outputs": [
    {
     "name": "stdout",
     "output_type": "stream",
     "text": [
      "No. of subreddits with less than 20 commentors : 3487 (56.09%)\n"
     ]
    }
   ],
   "source": [
    "thresh = 20\n",
    "num = count_subreddit(thresh)\n",
    "print(f'No. of subreddits with less than {thresh} commentors : {num} ({num/len(usersperitem)*100:.2f}%)')"
   ]
  },
  {
   "cell_type": "code",
   "execution_count": null,
   "id": "d4da6b66-f50f-481e-95a3-d6ec85bc2877",
   "metadata": {},
   "outputs": [],
   "source": []
  }
 ],
 "metadata": {
  "kernelspec": {
   "display_name": "Python 3 (ipykernel)",
   "language": "python",
   "name": "python3"
  },
  "language_info": {
   "codemirror_mode": {
    "name": "ipython",
    "version": 3
   },
   "file_extension": ".py",
   "mimetype": "text/x-python",
   "name": "python",
   "nbconvert_exporter": "python",
   "pygments_lexer": "ipython3",
   "version": "3.8.13"
  }
 },
 "nbformat": 4,
 "nbformat_minor": 5
}
