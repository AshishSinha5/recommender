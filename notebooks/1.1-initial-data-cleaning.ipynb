{
 "cells": [
  {
   "cell_type": "code",
   "execution_count": 113,
   "id": "a0d907ea-8152-4787-8d1e-9b7651b24557",
   "metadata": {},
   "outputs": [],
   "source": [
    "import json\n",
    "import os\n",
    "import sys\n",
    "import pandas as pd\n",
    "import numpy as np\n",
    "import matplotlib.pyplot as plt\n",
    "from collections import defaultdict\n",
    "from tqdm import tqdm\n",
    "from pprint import pprint"
   ]
  },
  {
   "cell_type": "code",
   "execution_count": 114,
   "id": "ecd05dc3-10ea-432f-bde7-55dcd9f39f36",
   "metadata": {},
   "outputs": [],
   "source": [
    "WIDTH = 7\n",
    "PRECISION = 3\n",
    "TYPE = \"f\""
   ]
  },
  {
   "cell_type": "code",
   "execution_count": 115,
   "id": "ff403189-0c90-4861-9b07-aa53d94ce747",
   "metadata": {},
   "outputs": [],
   "source": [
    "sys.path.append('/home/ashish/workspace/recommender/')"
   ]
  },
  {
   "cell_type": "code",
   "execution_count": 116,
   "id": "4a6a0584-90b9-42bb-ab23-2a95ce287ac5",
   "metadata": {},
   "outputs": [],
   "source": [
    "data_path = '../data/raw/RC_2023-01_2.json'\n",
    "with open(data_path, 'rb') as f:\n",
    "    comments = json.load(f)"
   ]
  },
  {
   "cell_type": "code",
   "execution_count": 117,
   "id": "4eadd4e0-d34d-4ad9-8093-4707adf8b83d",
   "metadata": {},
   "outputs": [
    {
     "name": "stdout",
     "output_type": "stream",
     "text": [
      "No. of comments in the data - 500000\n"
     ]
    }
   ],
   "source": [
    "print(f'No. of comments in the data - {len(comments)}')"
   ]
  },
  {
   "cell_type": "markdown",
   "id": "7b2b72d1-47cc-473f-a875-a7a3cb65ac80",
   "metadata": {},
   "source": [
    "## Data Cleaning and Dala Loss Analysis after cleaning "
   ]
  },
  {
   "cell_type": "markdown",
   "id": "5920b256-170f-4c7c-95f6-fd6ba41e2bc6",
   "metadata": {},
   "source": [
    "### Removing ['deleted'] users"
   ]
  },
  {
   "cell_type": "code",
   "execution_count": 118,
   "id": "a2fa834b-d110-419a-a0c5-4e6cf9eb02b2",
   "metadata": {},
   "outputs": [
    {
     "name": "stderr",
     "output_type": "stream",
     "text": [
      "100%|█████████████████████████████████████████████████████████████████████████████████████████████| 500000/500000 [00:00<00:00, 1353395.96it/s]\n"
     ]
    }
   ],
   "source": [
    "comments_del_rm = []\n",
    "for comment in tqdm(comments):\n",
    "    if comment['author'] == '[deleted]':\n",
    "        continue\n",
    "    comments_del_rm.append(comment)\n",
    "comments = comments_del_rm\n",
    "del(comments_del_rm)"
   ]
  },
  {
   "cell_type": "code",
   "execution_count": 119,
   "id": "6ee250e2-7bc6-484a-8c78-447bb7011bc0",
   "metadata": {},
   "outputs": [
    {
     "name": "stdout",
     "output_type": "stream",
     "text": [
      "No. of comments after removing [deleted] comments - 458358\n"
     ]
    }
   ],
   "source": [
    "print(f'No. of comments after removing [deleted] comments - {len(comments)}')"
   ]
  },
  {
   "cell_type": "markdown",
   "id": "c17b2d03-01f7-4b37-8be5-f5380fa6a40f",
   "metadata": {},
   "source": [
    "### Removing subreddits that contain less than threshold no. of comments"
   ]
  },
  {
   "cell_type": "code",
   "execution_count": 120,
   "id": "277dadcf-0643-467d-90b8-81562fe58ad1",
   "metadata": {},
   "outputs": [
    {
     "name": "stderr",
     "output_type": "stream",
     "text": [
      "100%|█████████████████████████████████████████████████████████████████████████████████████████████| 458358/458358 [00:00<00:00, 1222246.81it/s]\n"
     ]
    }
   ],
   "source": [
    "comments_per_subreddit = defaultdict(int)\n",
    "for comment in tqdm(comments):\n",
    "    subreddit_id = comment['subreddit_id']\n",
    "    comments_per_subreddit[subreddit_id] +=1"
   ]
  },
  {
   "cell_type": "code",
   "execution_count": 121,
   "id": "9f1c096b-82d2-42c7-aa0e-232fab1b24d5",
   "metadata": {},
   "outputs": [],
   "source": [
    "COMMENT_THRESHOLD = 10"
   ]
  },
  {
   "cell_type": "code",
   "execution_count": 122,
   "id": "4db37315-9f60-4ce9-ba85-884589e2d462",
   "metadata": {},
   "outputs": [
    {
     "name": "stderr",
     "output_type": "stream",
     "text": [
      "100%|███████████████████████████████████████████████████████████████████████████████████████████████| 25452/25452 [00:00<00:00, 1805035.77it/s]\n"
     ]
    }
   ],
   "source": [
    "comments_lost = 0\n",
    "subreddits_lost = 0\n",
    "for subreddit_id, n_comments in tqdm(comments_per_subreddit.items()):\n",
    "    if n_comments < COMMENT_THRESHOLD:\n",
    "        comments_lost += n_comments\n",
    "        subreddits_lost += 1"
   ]
  },
  {
   "cell_type": "code",
   "execution_count": 123,
   "id": "a57ab5f5-5215-45f0-b867-3435012769df",
   "metadata": {},
   "outputs": [],
   "source": [
    "remaining_comments = len(comments) - comments_lost\n",
    "remaining_subreddits  = len(comments_per_subreddit) - subreddits_lost"
   ]
  },
  {
   "cell_type": "code",
   "execution_count": 124,
   "id": "4aa07862-2cd7-4a90-b83a-1fde64e69811",
   "metadata": {},
   "outputs": [
    {
     "name": "stdout",
     "output_type": "stream",
     "text": [
      "Remaining data points: 407380 (/458358)\n"
     ]
    }
   ],
   "source": [
    "print(f'Remaining data points: {remaining_comments} (/{len(comments)})')"
   ]
  },
  {
   "cell_type": "code",
   "execution_count": 125,
   "id": "ccbf3667-3460-4f8b-9c2a-c7c5936411bf",
   "metadata": {},
   "outputs": [
    {
     "name": "stdout",
     "output_type": "stream",
     "text": [
      "remaining_subreddits : 6217 (/25452)\n"
     ]
    }
   ],
   "source": [
    "print(f'remaining_subreddits : {remaining_subreddits} (/{len(comments_per_subreddit)})')"
   ]
  },
  {
   "cell_type": "code",
   "execution_count": 126,
   "id": "f20ec959-697d-4875-96ed-6683c768f492",
   "metadata": {},
   "outputs": [
    {
     "name": "stdout",
     "output_type": "stream",
     "text": [
      "24.43% of the communities contain 88.88% of comments\n"
     ]
    }
   ],
   "source": [
    "print(f'{remaining_subreddits/len(comments_per_subreddit)*100:,.2f}% of the communities contain {remaining_comments/len(comments)*100:,.2f}% of comments')"
   ]
  },
  {
   "cell_type": "code",
   "execution_count": 127,
   "id": "41ebe96a-bc93-4d36-ad8f-6fde5c0d8bd8",
   "metadata": {},
   "outputs": [
    {
     "name": "stdout",
     "output_type": "stream",
     "text": [
      "Loosing 50978 data points out of 458358 (11.12%)\n"
     ]
    }
   ],
   "source": [
    "print(f'Loosing {comments_lost} data points out of {len(comments)} ({comments_lost/len(comments)*100:,.2f}%)')"
   ]
  },
  {
   "cell_type": "code",
   "execution_count": 128,
   "id": "b416a4c8-c29a-4b9c-b349-55f43419a65f",
   "metadata": {},
   "outputs": [
    {
     "name": "stdout",
     "output_type": "stream",
     "text": [
      "Loosing 19235 communities out of 25452 (75.57%)\n"
     ]
    }
   ],
   "source": [
    "print(f'Loosing {subreddits_lost} communities out of {len(comments_per_subreddit)} ({subreddits_lost/len(comments_per_subreddit)*100:,.2f}%)')"
   ]
  },
  {
   "cell_type": "code",
   "execution_count": 129,
   "id": "79a2e4c8-1e93-4ee4-a050-e413d538f2a8",
   "metadata": {},
   "outputs": [
    {
     "name": "stderr",
     "output_type": "stream",
     "text": [
      "100%|█████████████████████████████████████████████████████████████████████████████████████████████| 458358/458358 [00:00<00:00, 1087539.66it/s]"
     ]
    },
    {
     "name": "stdout",
     "output_type": "stream",
     "text": [
      "407380\n"
     ]
    },
    {
     "name": "stderr",
     "output_type": "stream",
     "text": [
      "\n"
     ]
    }
   ],
   "source": [
    "comment_rm_sr_thr = []\n",
    "for comment in tqdm(comments):\n",
    "    if comments_per_subreddit[comment['subreddit_id']] < COMMENT_THRESHOLD:\n",
    "        continue\n",
    "    comment_rm_sr_thr.append(comment)\n",
    "comments = comment_rm_sr_thr\n",
    "del(comment_rm_sr_thr)\n",
    "print(len(comments))"
   ]
  },
  {
   "cell_type": "markdown",
   "id": "1e38e4a8-8c3f-455d-86e0-6795dd4cadd0",
   "metadata": {},
   "source": [
    "## Data Dump"
   ]
  },
  {
   "cell_type": "code",
   "execution_count": 130,
   "id": "150b9a81-2f1e-421d-98f8-ef6f6a72ea3b",
   "metadata": {},
   "outputs": [],
   "source": [
    "data_dump_path = '../data/cleaned/' + str(data_path.split('/')[-1])\n",
    "with open(data_dump_path, 'w') as f:\n",
    "    json.dump(comments, f)"
   ]
  },
  {
   "cell_type": "code",
   "execution_count": null,
   "id": "dfcf2688-bc75-41e2-ba1e-826e1f697e66",
   "metadata": {},
   "outputs": [],
   "source": []
  }
 ],
 "metadata": {
  "kernelspec": {
   "display_name": "Python 3 (ipykernel)",
   "language": "python",
   "name": "python3"
  },
  "language_info": {
   "codemirror_mode": {
    "name": "ipython",
    "version": 3
   },
   "file_extension": ".py",
   "mimetype": "text/x-python",
   "name": "python",
   "nbconvert_exporter": "python",
   "pygments_lexer": "ipython3",
   "version": "3.8.13"
  }
 },
 "nbformat": 4,
 "nbformat_minor": 5
}
