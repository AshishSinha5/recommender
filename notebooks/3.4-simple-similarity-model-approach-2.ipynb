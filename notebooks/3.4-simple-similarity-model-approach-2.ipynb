{
 "cells": [
  {
   "cell_type": "code",
   "execution_count": 1,
   "metadata": {},
   "outputs": [],
   "source": [
    "import numpy as np\n",
    "from sklearn.metrics import jaccard_score\n",
    "from collections import defaultdict\n",
    "import json\n",
    "import random\n",
    "from tqdm import tqdm\n",
    "from sklearn.model_selection import train_test_split\n",
    "import sys\n",
    "import random\n",
    "from operator import itemgetter"
   ]
  },
  {
   "cell_type": "code",
   "execution_count": 2,
   "metadata": {},
   "outputs": [],
   "source": [
    "from typing import Union\n",
    "from sklearn.preprocessing import LabelEncoder\n",
    "from scipy.sparse import csr_matrix"
   ]
  },
  {
   "cell_type": "code",
   "execution_count": 3,
   "metadata": {},
   "outputs": [],
   "source": [
    "data_path = '../data/cleaned/RC_2023-01_2.json'\n",
    "with open(data_path, 'r') as fh:\n",
    "    comments = json.load(fh)"
   ]
  },
  {
   "cell_type": "code",
   "execution_count": 4,
   "metadata": {},
   "outputs": [
    {
     "name": "stdout",
     "output_type": "stream",
     "text": [
      "No. of comments in the data - 314599\n",
      "No. of unique subreddits : 18645\n",
      "No. of unique users : 77996\n"
     ]
    }
   ],
   "source": [
    "print(f'No. of comments in the data - {len(comments)}')\n",
    "n_subreddit = len(set([comment['subreddit_id'] for comment in comments]))\n",
    "print(f'No. of unique subreddits : {n_subreddit}')\n",
    "n_users = len(set([comment['author'] for comment in comments]))\n",
    "print(f'No. of unique users : {n_users}')"
   ]
  },
  {
   "cell_type": "code",
   "execution_count": 5,
   "metadata": {},
   "outputs": [
    {
     "name": "stderr",
     "output_type": "stream",
     "text": [
      "100%|██████████| 77996/77996 [00:00<00:00, 1019794.74it/s]\n"
     ]
    },
    {
     "name": "stdout",
     "output_type": "stream",
     "text": [
      "(149206,)\n",
      "(149206,)\n"
     ]
    },
    {
     "data": {
      "text/plain": [
       "(77996, 18645)"
      ]
     },
     "execution_count": 5,
     "metadata": {},
     "output_type": "execute_result"
    }
   ],
   "source": [
    "usersperitem = defaultdict(set)\n",
    "itemsperuser = defaultdict(set)\n",
    "item_name = defaultdict()\n",
    "for comment in comments:\n",
    "    user = comment['author_fullname']\n",
    "    item = comment['subreddit_id']\n",
    "    item_name[item] = comment['subreddit']\n",
    "    usersperitem[item].add(user)\n",
    "    itemsperuser[user].add(item)\n",
    "user_encoder = LabelEncoder().fit(list(itemsperuser.keys()))\n",
    "item_encoder = LabelEncoder().fit(list(usersperitem.keys()))\n",
    "# data : binary indicator whether user uses an item\n",
    "# idxptr : col index\n",
    "# indices : row index\n",
    "# create (n_item*n_user) sparse matrix each row represents one user and each column represents one item\n",
    "\n",
    "row_idx = []\n",
    "col_idx = []\n",
    "for user in tqdm(itemsperuser):\n",
    "    # user_idx = user_encoder.transform(user)\n",
    "    for item in itemsperuser[user]:\n",
    "        # item_idx = item_encoder.transform(item)\n",
    "        row_idx.append(user)\n",
    "        col_idx.append(item)\n",
    "col_idx = item_encoder.transform(np.array(col_idx))\n",
    "row_idx = user_encoder.transform(np.array(row_idx))\n",
    "print(col_idx.shape)\n",
    "print(row_idx.shape)\n",
    "data = np.ones_like(col_idx)\n",
    "data.dtype\n",
    "# creating a user item interaction matrix \n",
    "# each row is an item\n",
    "# each column is a matrix\n",
    "user_item_interaction = csr_matrix((data, (row_idx, col_idx)))\n",
    "user_item_interaction.shape"
   ]
  },
  {
   "cell_type": "code",
   "execution_count": 8,
   "metadata": {},
   "outputs": [],
   "source": [
    "user_item_interaction2 = user_item_interaction.copy()"
   ]
  },
  {
   "cell_type": "code",
   "execution_count": 9,
   "metadata": {},
   "outputs": [],
   "source": [
    "user_item_interaction  = np.array([[1, 0, 0, 1],\n",
    "                              [1, 1, 0, 0],\n",
    "                              [0, 1, 1, 0]])\n",
    "\n",
    "user_item_interaction = csr_matrix(user_item_interaction)"
   ]
  },
  {
   "cell_type": "code",
   "execution_count": 116,
   "metadata": {},
   "outputs": [],
   "source": [
    "user_item_interaction = user_item_interaction2"
   ]
  },
  {
   "cell_type": "code",
   "execution_count": 141,
   "metadata": {},
   "outputs": [],
   "source": [
    "target_user = 14243"
   ]
  },
  {
   "cell_type": "code",
   "execution_count": 142,
   "metadata": {},
   "outputs": [],
   "source": [
    "row_sum = np.array(user_item_interaction.sum(axis=1))[:,0]\n",
    "row_indices, col_indices = user_item_interaction.nonzero()\n",
    "data = user_item_interaction.data/row_sum[row_indices]\n",
    "normalized_sparse_matrix = csr_matrix((data, (row_indices, col_indices)))"
   ]
  },
  {
   "cell_type": "code",
   "execution_count": 143,
   "metadata": {},
   "outputs": [],
   "source": [
    "item_ratings = np.zeros(user_item_interaction.shape[1])\n",
    "target_user_items = user_item_interaction[target_user].nonzero()[1]\n"
   ]
  },
  {
   "cell_type": "code",
   "execution_count": 144,
   "metadata": {},
   "outputs": [
    {
     "data": {
      "text/plain": [
       "array([5314], dtype=int32)"
      ]
     },
     "execution_count": 144,
     "metadata": {},
     "output_type": "execute_result"
    }
   ],
   "source": [
    "target_user_items"
   ]
  },
  {
   "cell_type": "code",
   "execution_count": 145,
   "metadata": {},
   "outputs": [
    {
     "name": "stderr",
     "output_type": "stream",
     "text": [
      "100%|██████████| 18645/18645 [00:38<00:00, 484.34it/s]\n"
     ]
    }
   ],
   "source": [
    "intersection = normalized_sparse_matrix.multiply(normalized_sparse_matrix[target_user]).sum(axis = 1).T[0]\n",
    "union = row_sum[target_user] + row_sum - intersection # |A| + |B| - intesection\n",
    "jaccard_score = np.array(intersection/union).flatten()\n",
    "for item in tqdm(range(user_item_interaction.shape[1])):\n",
    "    if item not in target_user_items:\n",
    "        # find similar users who have interacted with this item\n",
    "        similar_users = user_item_interaction[:, item].nonzero()[0]\n",
    "        # print(similar_users)\n",
    "        # jaccard score\n",
    "        # print(jaccard_score)\n",
    "        # print(jaccard_score[0][[1,2]])\n",
    "        # compute weighted average rating for this item\n",
    "        # rating = r(u, i)*sim(u, v)/sim(u, v)\n",
    "        weighted_ratings = normalized_sparse_matrix[similar_users, item].toarray().flatten() * jaccard_score[similar_users]\n",
    "        # print(f'weighted_ratings = {weighted_ratings}')\n",
    "        rating_sum = jaccard_score[similar_users].sum()\n",
    "        if rating_sum == 0:\n",
    "            item_ratings[item] = 0\n",
    "        else:\n",
    "            item_ratings[item] = weighted_ratings.sum() / rating_sum\n",
    "\n"
   ]
  },
  {
   "cell_type": "code",
   "execution_count": 146,
   "metadata": {},
   "outputs": [
    {
     "data": {
      "text/plain": [
       "array([0.00000000e+00, 3.44352617e-04, 9.09076846e-02, 9.09090909e-02,\n",
       "       1.66665858e-01, 1.66666667e-01, 2.00000000e-01, 3.33333333e-01,\n",
       "       5.00000000e-01])"
      ]
     },
     "execution_count": 146,
     "metadata": {},
     "output_type": "execute_result"
    }
   ],
   "source": [
    "np.unique(item_ratings)"
   ]
  },
  {
   "cell_type": "code",
   "execution_count": 147,
   "metadata": {},
   "outputs": [
    {
     "name": "stdout",
     "output_type": "stream",
     "text": [
      "['PHGamers', 'SonicTheHedgehog', 'batman', 'XFiles', 'hamstercare', 'Shitty_Car_Mods', 'RATS', 'antiwork', 'cymbalta', 'Stretched']\n"
     ]
    }
   ],
   "source": [
    "items = np.argsort(item_ratings)[::-1]\n",
    "print([item_name[i] for i in item_encoder.inverse_transform(items[:10])])"
   ]
  },
  {
   "cell_type": "code",
   "execution_count": 148,
   "metadata": {},
   "outputs": [
    {
     "name": "stdout",
     "output_type": "stream",
     "text": [
      "['hamsters']\n"
     ]
    },
    {
     "data": {
      "text/plain": [
       "array([5314], dtype=int32)"
      ]
     },
     "execution_count": 148,
     "metadata": {},
     "output_type": "execute_result"
    }
   ],
   "source": [
    "print([item_name[i] for i in item_encoder.inverse_transform(target_user_items)])\n",
    "target_user_items"
   ]
  },
  {
   "cell_type": "code",
   "execution_count": 108,
   "metadata": {},
   "outputs": [
    {
     "data": {
      "text/plain": [
       "array([ 1.,  0.,  0., nan])"
      ]
     },
     "execution_count": 108,
     "metadata": {},
     "output_type": "execute_result"
    }
   ],
   "source": [
    "item_ratings"
   ]
  },
  {
   "cell_type": "code",
   "execution_count": 81,
   "metadata": {},
   "outputs": [
    {
     "name": "stdout",
     "output_type": "stream",
     "text": [
      "[[1.         0.33333333 0.        ]]\n",
      "[[0.33333333 1.         0.33333333]]\n",
      "[[0.         0.33333333 1.        ]]\n"
     ]
    },
    {
     "data": {
      "text/plain": [
       "array([[1.        , 0.33333333, 0.        ],\n",
       "       [0.33333333, 1.        , 0.33333333],\n",
       "       [0.        , 0.33333333, 1.        ]])"
      ]
     },
     "execution_count": 81,
     "metadata": {},
     "output_type": "execute_result"
    }
   ],
   "source": [
    "n_users = normalized_sparse_matrix.shape[0]\n",
    "jaccard_score = np.zeros((n_users, n_users))\n",
    "for user in range(n_users):\n",
    "    intersection = normalized_sparse_matrix.multiply(normalized_sparse_matrix[user]).sum(axis = 1).T[0]\n",
    "    union = row_sum[user] + row_sum - intersection # |A| + |B| - intesection\n",
    "    print((intersection/union)[0])\n",
    "    jaccard_score[user] = intersection/union\n",
    "jaccard_score"
   ]
  },
  {
   "cell_type": "code",
   "execution_count": 86,
   "metadata": {},
   "outputs": [
    {
     "name": "stdout",
     "output_type": "stream",
     "text": [
      "[[0 1 2]]\n"
     ]
    },
    {
     "data": {
      "text/plain": [
       "matrix([[0.        , 0.33333333, 1.        ]])"
      ]
     },
     "execution_count": 86,
     "metadata": {},
     "output_type": "execute_result"
    }
   ],
   "source": [
    "intersection = normalized_sparse_matrix.multiply(normalized_sparse_matrix[user]).sum(axis = 1).T[0]\n",
    "print(intersection)\n",
    "union = row_sum[user] + row_sum - intersection # |A| + |B| - intesection\n",
    "intersection/union"
   ]
  },
  {
   "cell_type": "code",
   "execution_count": 64,
   "metadata": {},
   "outputs": [
    {
     "data": {
      "text/plain": [
       "array([[1.        , 0.33333333, 0.        ],\n",
       "       [0.33333333, 1.        , 0.33333333],\n",
       "       [0.        , 0.33333333, 1.        ]])"
      ]
     },
     "execution_count": 64,
     "metadata": {},
     "output_type": "execute_result"
    }
   ],
   "source": [
    "item_ratings = np.zeros(sparse_matrix.shape[1])\n"
   ]
  },
  {
   "cell_type": "code",
   "execution_count": 30,
   "metadata": {},
   "outputs": [],
   "source": [
    "num_users = normalized_sparse_matrix.shape[0]\n",
    "jaccard_sim = np.zeros((num_users, num_users))\n",
    "for i in range(num_users):\n",
    "    jaccard_sim[i] = normalized_sparse_matrix.multiply(normalized_sparse_matrix[i]).sum(axis=1).T[0] / \\\n",
    "        (row_sum[i] + row_sum - normalized_sparse_matrix.multiply(normalized_sparse_matrix[i]).sum(axis=1).T[0])"
   ]
  },
  {
   "cell_type": "code",
   "execution_count": 33,
   "metadata": {},
   "outputs": [],
   "source": [
    "def test_jaccard_similarity():\n",
    "    # create a sparse matrix with 3 users and 4 items\n",
    "    sparse_matrix = np.array([[1, 0, 0, 1],\n",
    "                              [1, 1, 0, 0],\n",
    "                              [0, 1, 1, 0]])\n",
    "    \n",
    "    # expected Jaccard similarity matrix\n",
    "    expected_sim = np.array([[1.        , 0.33333333, 0.        ],\n",
    "                             [0.33333333, 1.        , 0.25      ],\n",
    "                             [0.        , 0.25      , 1.        ]])\n",
    "    \n",
    "    # normalize sparse matrix\n",
    "    row_sum = np.array(sparse_matrix.sum(axis=1))[:,0]\n",
    "    row_indices, col_indices = sparse_matrix.nonzero()\n",
    "    data = sparse_matrix.data / row_sum[row_indices]\n",
    "    normalized_sparse_matrix = csr_matrix((data, (row_indices, col_indices)))\n",
    "    \n",
    "    # compute Jaccard similarity matrix\n",
    "    num_users = normalized_sparse_matrix.shape[0]\n",
    "    jaccard_sim = np.zeros((num_users, num_users))\n",
    "    for i in range(num_users):\n",
    "        jaccard_sim[i] = normalized_sparse_matrix.multiply(normalized_sparse_matrix[i]).sum(axis=1).T.toarray()[0] / \\\n",
    "            (row_sum[i] + row_sum - normalized_sparse_matrix.multiply(normalized_sparse_matrix[i]).sum(axis=1).T.toarray()[0])\n",
    "    \n",
    "    # check that the computed Jaccard similarity matrix matches the expected matrix\n",
    "    assert np.allclose(jaccard_sim, expected_sim)"
   ]
  },
  {
   "cell_type": "code",
   "execution_count": null,
   "metadata": {},
   "outputs": [],
   "source": []
  }
 ],
 "metadata": {
  "kernelspec": {
   "display_name": "gml",
   "language": "python",
   "name": "python3"
  },
  "language_info": {
   "codemirror_mode": {
    "name": "ipython",
    "version": 3
   },
   "file_extension": ".py",
   "mimetype": "text/x-python",
   "name": "python",
   "nbconvert_exporter": "python",
   "pygments_lexer": "ipython3",
   "version": "3.8.13"
  },
  "orig_nbformat": 4
 },
 "nbformat": 4,
 "nbformat_minor": 2
}
