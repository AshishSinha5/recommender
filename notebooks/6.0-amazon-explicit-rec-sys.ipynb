{
 "cells": [
  {
   "cell_type": "code",
   "execution_count": 33,
   "id": "a341704d-f6c6-402a-b371-ed321c149b12",
   "metadata": {},
   "outputs": [],
   "source": [
    "import json \n",
    "import pandas as pd\n",
    "import numpy as np\n",
    "import matplotlib.pyplot as plt"
   ]
  },
  {
   "cell_type": "code",
   "execution_count": 34,
   "id": "bbf32838-48b4-4ca0-80c9-1f97bf0ee0b0",
   "metadata": {},
   "outputs": [],
   "source": [
    "meta_data = []\n",
    "with open('../data/meta_Luxury_Beauty.json', 'rb') as f:\n",
    "    for l in f:\n",
    "        meta_data.append(json.loads(l.strip()))"
   ]
  },
  {
   "cell_type": "code",
   "execution_count": 35,
   "id": "048af016-b579-4f88-a51f-5883fc863588",
   "metadata": {
    "tags": []
   },
   "outputs": [
    {
     "data": {
      "text/plain": [
       "12299"
      ]
     },
     "execution_count": 35,
     "metadata": {},
     "output_type": "execute_result"
    }
   ],
   "source": [
    "len(meta_data)"
   ]
  },
  {
   "cell_type": "code",
   "execution_count": 22,
   "id": "b66bf77e-0b78-4c38-b7bb-913479feef09",
   "metadata": {},
   "outputs": [],
   "source": [
    "keys  = []\n",
    "for _data in meta_data:\n",
    "    for k in _data:\n",
    "        keys.append(k)\n",
    "keys = list(set(keys))"
   ]
  },
  {
   "cell_type": "code",
   "execution_count": 23,
   "id": "f6a97a90-3fc8-4b41-9e20-8d5f6af39231",
   "metadata": {
    "tags": []
   },
   "outputs": [
    {
     "data": {
      "text/plain": [
       "['tech2',\n",
       " 'similar_item',\n",
       " 'main_cat',\n",
       " 'price',\n",
       " 'imageURL',\n",
       " 'tech1',\n",
       " 'fit',\n",
       " 'category',\n",
       " 'also_view',\n",
       " 'rank',\n",
       " 'also_buy',\n",
       " 'title',\n",
       " 'asin',\n",
       " 'feature',\n",
       " 'description',\n",
       " 'imageURLHighRes',\n",
       " 'date',\n",
       " 'brand',\n",
       " 'details']"
      ]
     },
     "execution_count": 23,
     "metadata": {},
     "output_type": "execute_result"
    }
   ],
   "source": [
    "keys"
   ]
  },
  {
   "cell_type": "code",
   "execution_count": 26,
   "id": "96626874-3769-424c-9136-c670eb805ae9",
   "metadata": {},
   "outputs": [],
   "source": []
  },
  {
   "cell_type": "code",
   "execution_count": 28,
   "id": "26f202d7-116c-4a03-8c81-c81dfc4641a2",
   "metadata": {},
   "outputs": [],
   "source": []
  },
  {
   "cell_type": "code",
   "execution_count": null,
   "id": "26408f1a-c4ac-4653-a7f5-a9b19e171348",
   "metadata": {},
   "outputs": [],
   "source": []
  }
 ],
 "metadata": {
  "kernelspec": {
   "display_name": "Python [conda env:gml]",
   "language": "python",
   "name": "conda-env-gml-py"
  },
  "language_info": {
   "codemirror_mode": {
    "name": "ipython",
    "version": 3
   },
   "file_extension": ".py",
   "mimetype": "text/x-python",
   "name": "python",
   "nbconvert_exporter": "python",
   "pygments_lexer": "ipython3",
   "version": "3.8.13"
  }
 },
 "nbformat": 4,
 "nbformat_minor": 5
}
