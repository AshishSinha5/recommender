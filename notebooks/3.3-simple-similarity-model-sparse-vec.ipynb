{
 "cells": [
  {
   "cell_type": "code",
   "execution_count": 1,
   "metadata": {},
   "outputs": [],
   "source": [
    "import numpy as np\n",
    "from sklearn.metrics import jaccard_score\n",
    "from collections import defaultdict\n",
    "import json\n",
    "import random\n",
    "from tqdm import tqdm\n",
    "from sklearn.model_selection import train_test_split\n",
    "import sys\n",
    "import random\n",
    "from operator import itemgetter"
   ]
  },
  {
   "cell_type": "code",
   "execution_count": 2,
   "metadata": {},
   "outputs": [],
   "source": [
    "from typing import Union"
   ]
  },
  {
   "cell_type": "code",
   "execution_count": 3,
   "metadata": {},
   "outputs": [],
   "source": [
    "from sklearn.preprocessing import LabelEncoder"
   ]
  },
  {
   "cell_type": "code",
   "execution_count": 4,
   "metadata": {},
   "outputs": [],
   "source": [
    "from scipy.sparse import csr_matrix"
   ]
  },
  {
   "cell_type": "code",
   "execution_count": 5,
   "metadata": {},
   "outputs": [],
   "source": [
    "data_path = '../data/cleaned/RC_2023-01_2.json'\n",
    "with open(data_path, 'r') as fh:\n",
    "    comments = json.load(fh)"
   ]
  },
  {
   "attachments": {},
   "cell_type": "markdown",
   "metadata": {},
   "source": [
    "### Simple Data Stats"
   ]
  },
  {
   "cell_type": "code",
   "execution_count": 6,
   "metadata": {},
   "outputs": [
    {
     "name": "stdout",
     "output_type": "stream",
     "text": [
      "No. of comments in the data - 314599\n",
      "No. of unique subreddits : 18645\n",
      "No. of unique users : 77996\n"
     ]
    }
   ],
   "source": [
    "print(f'No. of comments in the data - {len(comments)}')\n",
    "n_subreddit = len(set([comment['subreddit_id'] for comment in comments]))\n",
    "print(f'No. of unique subreddits : {n_subreddit}')\n",
    "n_users = len(set([comment['author'] for comment in comments]))\n",
    "print(f'No. of unique users : {n_users}')"
   ]
  },
  {
   "attachments": {},
   "cell_type": "markdown",
   "metadata": {},
   "source": [
    "### Sparse Representation of the data"
   ]
  },
  {
   "cell_type": "code",
   "execution_count": 7,
   "metadata": {},
   "outputs": [
    {
     "name": "stderr",
     "output_type": "stream",
     "text": [
      "100%|██████████| 77996/77996 [00:00<00:00, 1074439.64it/s]\n"
     ]
    },
    {
     "name": "stdout",
     "output_type": "stream",
     "text": [
      "(149206,)\n",
      "(149206,)\n"
     ]
    },
    {
     "data": {
      "text/plain": [
       "(77996, 18645)"
      ]
     },
     "execution_count": 7,
     "metadata": {},
     "output_type": "execute_result"
    }
   ],
   "source": [
    "usersperitem = defaultdict(set)\n",
    "itemsperuser = defaultdict(set)\n",
    "item_name = defaultdict()\n",
    "for comment in comments:\n",
    "    user = comment['author_fullname']\n",
    "    item = comment['subreddit_id']\n",
    "    item_name[item] = comment['subreddit']\n",
    "    usersperitem[item].add(user)\n",
    "    itemsperuser[user].add(item)\n",
    "user_encoder = LabelEncoder().fit(list(itemsperuser.keys()))\n",
    "item_encoder = LabelEncoder().fit(list(usersperitem.keys()))\n",
    "# data : binary indicator whether user uses an item\n",
    "# idxptr : col index\n",
    "# indices : row index\n",
    "# create (n_item*n_user) sparse matrix each row represents one user and each column represents one item\n",
    "\n",
    "row_idx = []\n",
    "col_idx = []\n",
    "for user in tqdm(itemsperuser):\n",
    "    # user_idx = user_encoder.transform(user)\n",
    "    for item in itemsperuser[user]:\n",
    "        # item_idx = item_encoder.transform(item)\n",
    "        row_idx.append(user)\n",
    "        col_idx.append(item)\n",
    "col_idx = item_encoder.transform(np.array(col_idx))\n",
    "row_idx = user_encoder.transform(np.array(row_idx))\n",
    "print(col_idx.shape)\n",
    "print(row_idx.shape)\n",
    "data = np.ones_like(col_idx)\n",
    "data.dtype\n",
    "# creating a user item interaction matrix \n",
    "# each row is an item\n",
    "# each column is a matrix\n",
    "user_item_interaction = csr_matrix((data, (row_idx, col_idx)))\n",
    "user_item_interaction.shape"
   ]
  },
  {
   "cell_type": "code",
   "execution_count": 47,
   "metadata": {},
   "outputs": [],
   "source": [
    "def get_item_(idx: Union[int, np.array], item_name: dict) -> Union[str, np.array]:\n",
    "    if type(idx) == int:\n",
    "        return item_name[idx]\n",
    "    return np.array([item_name[idx_] for idx_ in idx])\n",
    "\n",
    "def Jaccard(s1: np.ndarray, s2: np.ndarray):\n",
    "    \"\"\"\n",
    "    Jaccard similarity between two arrays.\n",
    "\n",
    "    Parameters:\n",
    "        s1: input array 1\n",
    "        s2: input array 2\n",
    "    \n",
    "    Returns:\n",
    "        Jaccard similarity for the two arrays\n",
    "    \"\"\"\n",
    "    numer = np.intersect1d(s1, s2).size\n",
    "    denom = np.union1d(s1, s2).size\n",
    "\n",
    "    if denom == 0:\n",
    "        return 0\n",
    "    return numer/denom\n",
    "\n",
    "def score(user_history:np.array, item_history:np.array, user_item_interaction:csr_matrix):\n",
    "    \"\"\"\n",
    "    Return the similarity score for item i and user u.\n",
    "\n",
    "    Parameters:\n",
    "        user_history: array of items user has interacted with\n",
    "        item_history: array of users who have used item i\n",
    "        user_item_interaction: csr_matrix containing the user_item_interaction\n",
    "    \"\"\"\n",
    "    # user_v_history = np.unique(user_item_interaction[item_history].nonzero()[1])\n",
    "    sims = np.vectorize(lambda v: Jaccard(user_history, user_item_interaction[v].nonzero()[1]))(item_history)\n",
    "    bestsim = sims.max()\n",
    "    if bestsim == None:\n",
    "        return 0 \n",
    "    return bestsim\n",
    "\n",
    "def rec(u:int, user_item_interaction:csr_matrix, N:int = 5):\n",
    "    \"\"\"\n",
    "    Given user `u` and user_item_interaction matrix with rows as items and columns as users,\n",
    "    return the recommendation for the user beasr on jaccard similarity.\n",
    "\n",
    "    Parameters:\n",
    "        u: user label\n",
    "        user_item_interaction : csr_matrix containing the user_item_interaction\n",
    "        N: top N scores and items recommended\n",
    "    Return:\n",
    "        most similar item based on user u's history,\n",
    "    \"\"\"\n",
    "    user_history = user_item_interaction[u].nonzero()[1] # items user `u` has interacted with\n",
    "    n_users, n_items = user_item_interaction.shape\n",
    "    items = np.arange(n_items)\n",
    "    item_history = user_item_interaction[:, items].nonzero()\n",
    "    valid_items = items[~np.isin(items, user_history)]\n",
    "    idx = np.where(np.isin(item_history[1], valid_items))\n",
    "    valid_item_history = (item_history[0][idx], item_history[1][idx])\n",
    "    sims = np.vectorize(lambda i: score(user_history, \n",
    "                                        valid_item_history[0][valid_item_history[1] == i], \n",
    "                                        user_item_interaction))(valid_items)\n",
    "    bestitems = np.argsort(sims)[::-1]\n",
    "    bestscore = sims[bestitems]\n",
    "    \n",
    "    return bestitems[:N], bestscore[:N]\n",
    "\n",
    "\n",
    "def fast_rec(u, user_item_interaction, N = 5):\n",
    "    \"\"\"\n",
    "    Given user `u` and user_item_interaction matrix with rows as items and columns as users,\n",
    "    return the recommendation for the user beasr on jaccard similarity.\n",
    "\n",
    "    Parameters:\n",
    "        u: user label\n",
    "        user_item_interaction : csr_matrix containing the user_item_interaction\n",
    "        N: top N scores and items recommended\n",
    "    Return:\n",
    "        most similar item based on user u's history,\n",
    "    \"\"\"\n",
    "    user_history = user_item_interaction[u].nonzero()[1] # items user `u` has interacted with \n",
    "    n_users, n_items = user_item_interaction.shape\n",
    "    print(f'{n_users}, {n_items}')\n",
    "    items = np.arange(n_items)\n",
    "    item_history_u = np.unique(user_item_interaction[:, user_history].nonzero()[0]) #\n",
    "    user_history_u = np.unique(user_item_interaction[item_history_u].nonzero()[1])\n",
    "    item_history = user_item_interaction[:, items].nonzero()\n",
    "    valid_items = items[(~np.isin(items, user_history)) & (np.isin(items, user_history_u))]\n",
    "    # valid_items = items[(np.isin(items, user_history_u))]\n",
    "    idx = np.where(np.isin(item_history[1], valid_items))\n",
    "    valid_item_history = (item_history[0][idx], item_history[1][idx])\n",
    "    sims = np.vectorize(lambda i: score(user_history, \n",
    "                                        user_item_interaction[:,i].nonzero(), \n",
    "                                        user_item_interaction))(valid_items)\n",
    "    item_idx = np.argsort(sims)[::-1]\n",
    "    bestitems = valid_items[item_idx]\n",
    "    bestscore = sims[item_idx]\n",
    "    \n",
    "    return bestitems[:N], bestscore[:N]"
   ]
  },
  {
   "cell_type": "code",
   "execution_count": 18,
   "metadata": {},
   "outputs": [
    {
     "name": "stdout",
     "output_type": "stream",
     "text": [
      "['instantpot' 'SonicTheHedgehog' 'batman' 'XFiles' 'FitAndNatural'] [0.5        0.5        0.33333333 0.33333333 0.2       ]\n"
     ]
    }
   ],
   "source": [
    "u = 14243\n",
    "user_history = user_item_interaction[u].nonzero()[1]\n",
    "bestitems_rec, bestscores = rec(u, user_item_interaction)\n",
    "bestitems_name = get_item_(item_encoder.inverse_transform(bestitems_rec), item_name)\n",
    "print(bestitems_name, bestscores)"
   ]
  },
  {
   "cell_type": "code",
   "execution_count": 48,
   "metadata": {},
   "outputs": [
    {
     "name": "stdout",
     "output_type": "stream",
     "text": [
      "77996, 18645\n",
      "['PHGamers' 'SonicTheHedgehog' 'XFiles' 'batman' 'RATS'] [0.5        0.5        0.33333333 0.33333333 0.2       ]\n"
     ]
    }
   ],
   "source": [
    "u = 14243\n",
    "user_history = user_item_interaction[u].nonzero()[1]\n",
    "bestitems_fast_rec, bestscores = fast_rec(u, user_item_interaction)\n",
    "bestitems_name = get_item_(item_encoder.inverse_transform(bestitems_fast_rec), item_name)\n",
    "print(bestitems_name, bestscores)"
   ]
  },
  {
   "cell_type": "code",
   "execution_count": 26,
   "metadata": {},
   "outputs": [],
   "source": [
    "user_history = user_item_interaction[u].nonzero()[1]\n",
    "n_items = 18645\n",
    "items = np.arange(n_items)\n",
    "item_history_u = np.unique(user_item_interaction[:, user_history].nonzero()[0]) #\n",
    "user_history_u = np.unique(user_item_interaction[item_history_u].nonzero()[1])\n",
    "item_history = user_item_interaction[:, items].nonzero()\n",
    "# valid_items = items[(~np.isin(items, user_history)) & (np.isin(items, user_history_u))]\n",
    "valid_items = items[(np.isin(items, user_history_u))]"
   ]
  },
  {
   "cell_type": "code",
   "execution_count": 28,
   "metadata": {},
   "outputs": [
    {
     "data": {
      "text/plain": [
       "array([5314], dtype=int32)"
      ]
     },
     "execution_count": 28,
     "metadata": {},
     "output_type": "execute_result"
    }
   ],
   "source": [
    "user_history"
   ]
  },
  {
   "cell_type": "code",
   "execution_count": 27,
   "metadata": {},
   "outputs": [
    {
     "data": {
      "text/plain": [
       "array([14243, 15913, 22303, 24560, 26495, 31899, 35398, 45656, 59872,\n",
       "       63806, 68380], dtype=int32)"
      ]
     },
     "execution_count": 27,
     "metadata": {},
     "output_type": "execute_result"
    }
   ],
   "source": [
    "item_history_u"
   ]
  },
  {
   "cell_type": "code",
   "execution_count": 31,
   "metadata": {},
   "outputs": [
    {
     "data": {
      "text/plain": [
       "array([    8,    18,    21, ..., 18604, 18605, 18623], dtype=int32)"
      ]
     },
     "execution_count": 31,
     "metadata": {},
     "output_type": "execute_result"
    }
   ],
   "source": [
    "user_history_u"
   ]
  },
  {
   "cell_type": "code",
   "execution_count": 32,
   "metadata": {},
   "outputs": [
    {
     "data": {
      "text/plain": [
       "(array([    0,     1,     1, ..., 77994, 77994, 77995], dtype=int32),\n",
       " array([ 2351,  5507, 13533, ..., 13788, 15423,  3285], dtype=int32))"
      ]
     },
     "execution_count": 32,
     "metadata": {},
     "output_type": "execute_result"
    }
   ],
   "source": [
    "item_history"
   ]
  },
  {
   "cell_type": "code",
   "execution_count": 33,
   "metadata": {},
   "outputs": [
    {
     "data": {
      "text/plain": [
       "array([    8,    18,    21, ..., 18604, 18605, 18623])"
      ]
     },
     "execution_count": 33,
     "metadata": {},
     "output_type": "execute_result"
    }
   ],
   "source": [
    "valid_items"
   ]
  },
  {
   "cell_type": "code",
   "execution_count": 34,
   "metadata": {},
   "outputs": [],
   "source": [
    "idx = np.where(np.isin(item_history[1], valid_items))\n",
    "valid_item_history = (item_history[0][idx], item_history[1][idx])"
   ]
  },
  {
   "cell_type": "code",
   "execution_count": 35,
   "metadata": {},
   "outputs": [
    {
     "data": {
      "text/plain": [
       "(array([     0,      2,      3, ..., 149193, 149199, 149203]),)"
      ]
     },
     "execution_count": 35,
     "metadata": {},
     "output_type": "execute_result"
    }
   ],
   "source": [
    "idx"
   ]
  },
  {
   "cell_type": "code",
   "execution_count": 36,
   "metadata": {},
   "outputs": [
    {
     "data": {
      "text/plain": [
       "(array([    0,     1,     2, ..., 77988, 77991, 77994], dtype=int32),\n",
       " array([ 2351, 13533,  1803, ...,  9041,  4501, 13788], dtype=int32))"
      ]
     },
     "execution_count": 36,
     "metadata": {},
     "output_type": "execute_result"
    }
   ],
   "source": [
    "valid_item_history"
   ]
  },
  {
   "cell_type": "code",
   "execution_count": null,
   "metadata": {},
   "outputs": [],
   "source": []
  }
 ],
 "metadata": {
  "kernelspec": {
   "display_name": "gml",
   "language": "python",
   "name": "python3"
  },
  "language_info": {
   "codemirror_mode": {
    "name": "ipython",
    "version": 3
   },
   "file_extension": ".py",
   "mimetype": "text/x-python",
   "name": "python",
   "nbconvert_exporter": "python",
   "pygments_lexer": "ipython3",
   "version": "3.8.13"
  },
  "orig_nbformat": 4
 },
 "nbformat": 4,
 "nbformat_minor": 2
}
