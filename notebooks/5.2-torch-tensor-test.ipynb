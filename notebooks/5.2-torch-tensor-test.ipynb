{
 "cells": [
  {
   "cell_type": "code",
   "execution_count": 2,
   "id": "119a2904-809f-4ea4-87e7-88308bb8b699",
   "metadata": {},
   "outputs": [],
   "source": [
    "import torch\n",
    "from torch import nn"
   ]
  },
  {
   "cell_type": "code",
   "execution_count": null,
   "id": "edc84499",
   "metadata": {},
   "outputs": [],
   "source": []
  },
  {
   "cell_type": "code",
   "execution_count": 3,
   "id": "2bfd5934-5196-4505-b38b-dbbd296b70f4",
   "metadata": {},
   "outputs": [],
   "source": [
    "import itertools\n",
    "from collections import Counter"
   ]
  },
  {
   "cell_type": "code",
   "execution_count": 4,
   "id": "e6b3e503-bb3f-4239-9bf2-5e3ba2a19d50",
   "metadata": {},
   "outputs": [],
   "source": [
    "import numpy as np"
   ]
  },
  {
   "cell_type": "code",
   "execution_count": 12,
   "id": "4298ee20-edf3-4ac1-b66f-7a871b632fa0",
   "metadata": {},
   "outputs": [],
   "source": [
    "emb_size = 1000\n",
    "emb_dim = 10\n",
    "embedding = nn.Embedding(emb_size, emb_dim)\n",
    "sig = nn.Sigmoid()"
   ]
  },
  {
   "cell_type": "code",
   "execution_count": 28,
   "id": "7a47bb14-734b-4056-972b-1c6a91b8724d",
   "metadata": {},
   "outputs": [],
   "source": [
    "emb_1 = embedding(torch.tensor([12, 2]))\n",
    "emb_2 = embedding(torch.tensor([43, 32]))"
   ]
  },
  {
   "cell_type": "code",
   "execution_count": 29,
   "id": "b99a3316-3c98-40ec-881e-4f6aa06b8e99",
   "metadata": {},
   "outputs": [
    {
     "data": {
      "text/plain": [
       "tensor([[ 0.7976,  0.5950, -1.2008,  0.1782, -0.1646, -0.3091,  1.3601, -1.1299,\n",
       "         -1.8383,  0.3505],\n",
       "        [ 0.0983,  0.6216,  1.2589,  1.7158,  0.7322, -0.0544, -1.1300,  0.7759,\n",
       "         -0.3346, -1.5656]], grad_fn=<EmbeddingBackward0>)"
      ]
     },
     "execution_count": 29,
     "metadata": {},
     "output_type": "execute_result"
    }
   ],
   "source": [
    "emb_1"
   ]
  },
  {
   "cell_type": "code",
   "execution_count": 30,
   "id": "58ff893f-680a-4251-b9de-49fb2de7ad2c",
   "metadata": {},
   "outputs": [
    {
     "data": {
      "text/plain": [
       "tensor([[ 1.2093e+00,  1.7658e+00, -1.5136e-01,  5.7025e-01, -6.0432e-01,\n",
       "          1.0720e+00, -1.3632e+00,  4.4260e-01, -1.0252e+00,  3.1624e-01],\n",
       "        [ 1.0852e+00,  3.6491e-01,  3.6029e-01,  3.2068e-01, -1.6258e+00,\n",
       "          9.2224e-01, -2.0003e-01,  6.4078e-01,  9.4780e-04, -8.4548e-01]],\n",
       "       grad_fn=<EmbeddingBackward0>)"
      ]
     },
     "execution_count": 30,
     "metadata": {},
     "output_type": "execute_result"
    }
   ],
   "source": [
    "emb_2"
   ]
  },
  {
   "cell_type": "code",
   "execution_count": 39,
   "id": "98b55dbd-959d-4683-ba23-d1679685549a",
   "metadata": {},
   "outputs": [
    {
     "data": {
      "text/plain": [
       "tensor([1.7082, 2.1433], grad_fn=<SumBackward1>)"
      ]
     },
     "execution_count": 39,
     "metadata": {},
     "output_type": "execute_result"
    }
   ],
   "source": [
    "torch.sum(emb_1*emb_2, dim = 1, dtype = torch.float)"
   ]
  },
  {
   "cell_type": "code",
   "execution_count": 31,
   "id": "1fa6cf82-f706-4563-b3bc-005441398648",
   "metadata": {},
   "outputs": [
    {
     "data": {
      "text/plain": [
       "tensor([[ 9.6455e-01,  1.0507e+00,  1.8176e-01,  1.0163e-01,  9.9473e-02,\n",
       "         -3.3134e-01, -1.8540e+00, -5.0009e-01,  1.8847e+00,  1.1083e-01],\n",
       "        [ 1.0666e-01,  2.2683e-01,  4.5356e-01,  5.5023e-01, -1.1903e+00,\n",
       "         -5.0173e-02,  2.2602e-01,  4.9715e-01, -3.1715e-04,  1.3237e+00]],\n",
       "       grad_fn=<MulBackward0>)"
      ]
     },
     "execution_count": 31,
     "metadata": {},
     "output_type": "execute_result"
    }
   ],
   "source": [
    "emb_1*emb_2"
   ]
  },
  {
   "cell_type": "code",
   "execution_count": 37,
   "id": "517f4975-b172-4357-87fa-4bdd83cf74c7",
   "metadata": {},
   "outputs": [
    {
     "data": {
      "text/plain": [
       "1.7082129999999998"
      ]
     },
     "execution_count": 37,
     "metadata": {},
     "output_type": "execute_result"
    }
   ],
   "source": [
    "np.sum([ 9.6455e-01,  1.0507e+00,  1.8176e-01,  1.0163e-01,  9.9473e-02,\n",
    "         -3.3134e-01, -1.8540e+00, -5.0009e-01,  1.8847e+00,  1.1083e-01])"
   ]
  },
  {
   "cell_type": "code",
   "execution_count": 45,
   "id": "ac6ed5a4-4246-42b8-8e9c-8832c5b66e67",
   "metadata": {},
   "outputs": [
    {
     "data": {
      "text/plain": [
       "[1, 1, 1, 21, 5, 7, 8]"
      ]
     },
     "execution_count": 45,
     "metadata": {},
     "output_type": "execute_result"
    }
   ],
   "source": [
    "list(itertools.chain.from_iterable([[1,1,1], [21,5,7,8]]))"
   ]
  },
  {
   "cell_type": "code",
   "execution_count": 43,
   "id": "aee6a23c-75a0-4e15-b584-e3f6f0e7ede5",
   "metadata": {},
   "outputs": [
    {
     "data": {
      "text/plain": [
       "Counter({1: 5, 3: 1, 4: 4, 23: 1, 2: 2, 5: 1, 6: 5})"
      ]
     },
     "execution_count": 43,
     "metadata": {},
     "output_type": "execute_result"
    }
   ],
   "source": [
    "Counter([1,1,1,1,1,3,4,23,4,2,4,2,4,5,6,6,6,6,6])"
   ]
  },
  {
   "cell_type": "code",
   "execution_count": 17,
   "id": "f30660c1-b9a6-4cad-b129-503ce197d374",
   "metadata": {},
   "outputs": [],
   "source": [
    "d = {1:'a', 2:'b', 3:'c'}\n",
    "arr = np.array([1,2,3,1,1,1,2,3]*1000)"
   ]
  },
  {
   "cell_type": "code",
   "execution_count": 18,
   "id": "a89150c6-cced-418e-9ee3-d32ded1054d7",
   "metadata": {},
   "outputs": [
    {
     "name": "stdout",
     "output_type": "stream",
     "text": [
      "3.11 ms ± 25.9 µs per loop (mean ± std. dev. of 7 runs, 100 loops each)\n"
     ]
    }
   ],
   "source": [
    "%%timeit\n",
    "np.array([d[a] for a in arr])    "
   ]
  },
  {
   "cell_type": "code",
   "execution_count": 19,
   "id": "e3da5b5a-c747-4708-a319-c2e9176c9439",
   "metadata": {},
   "outputs": [],
   "source": [
    "arr = np.array([1,2,3,1,1,1,2,3]*1000)"
   ]
  },
  {
   "cell_type": "code",
   "execution_count": 20,
   "id": "5f28189a-aafc-4072-a46b-d31cef26ec31",
   "metadata": {},
   "outputs": [
    {
     "name": "stdout",
     "output_type": "stream",
     "text": [
      "1.43 ms ± 12.4 µs per loop (mean ± std. dev. of 7 runs, 1,000 loops each)\n"
     ]
    }
   ],
   "source": [
    "%%timeit\n",
    "np.vectorize(d.get)(arr)"
   ]
  },
  {
   "cell_type": "code",
   "execution_count": 22,
   "id": "c2b045df-56e6-4f81-a8a8-21ae7cb5193e",
   "metadata": {},
   "outputs": [],
   "source": [
    "arr = np.array(list(d.items()))"
   ]
  },
  {
   "cell_type": "code",
   "execution_count": 24,
   "id": "b0f65382-9430-4e33-bfbd-a55b0a0a1897",
   "metadata": {},
   "outputs": [
    {
     "data": {
      "text/plain": [
       "{'1': 'a', '2': 'b', '3': 'c'}"
      ]
     },
     "execution_count": 24,
     "metadata": {},
     "output_type": "execute_result"
    }
   ],
   "source": [
    "{k: v for k, v in arr.tolist()}"
   ]
  },
  {
   "cell_type": "code",
   "execution_count": 14,
   "id": "98ae33ca-885b-4130-9853-5ce202c61027",
   "metadata": {},
   "outputs": [
    {
     "name": "stderr",
     "output_type": "stream",
     "text": [
      "/tmp/ipykernel_13900/2676925704.py:3: DeprecationWarning: `np.float` is a deprecated alias for the builtin `float`. To silence this warning, use `float` by itself. Doing this will not modify any behavior and is safe. If you specifically wanted the numpy scalar type, use `np.float64` here.\n",
      "Deprecated in NumPy 1.20; for more details and guidance: https://numpy.org/devdocs/release/1.20.0-notes.html#deprecations\n",
      "  word_freq = np.array(list(word_freq.items()), dtype = np.float)\n"
     ]
    }
   ],
   "source": [
    "word_freq = {1: 12, 2: 3, 3:7, 4: 2, 5 : 43}\n",
    "size = 10\n",
    "word_freq = np.array(list(word_freq.items()), dtype = np.float)"
   ]
  },
  {
   "cell_type": "code",
   "execution_count": 15,
   "id": "2cc8a3df-1247-4d19-8e0c-2e1fbd751748",
   "metadata": {},
   "outputs": [],
   "source": [
    "power = 0.75\n",
    "word_freq[:, 1] = word_freq[:, 1] ** power"
   ]
  },
  {
   "cell_type": "code",
   "execution_count": 16,
   "id": "c64af30c-f7e4-4b48-b8c2-c33eb775ec5d",
   "metadata": {},
   "outputs": [
    {
     "data": {
      "text/plain": [
       "array([[ 1.        ,  6.44741959],\n",
       "       [ 2.        ,  2.27950706],\n",
       "       [ 3.        ,  4.30351707],\n",
       "       [ 4.        ,  1.68179283],\n",
       "       [ 5.        , 16.79195809]])"
      ]
     },
     "execution_count": 16,
     "metadata": {},
     "output_type": "execute_result"
    }
   ],
   "source": [
    "word_freq"
   ]
  },
  {
   "cell_type": "code",
   "execution_count": 17,
   "id": "a1752d1b-25f6-4a6e-b567-651c84e1fce8",
   "metadata": {},
   "outputs": [
    {
     "data": {
      "text/plain": [
       "array([[1.        , 0.20465273],\n",
       "       [2.        , 0.07235567],\n",
       "       [3.        , 0.1366014 ],\n",
       "       [4.        , 0.05338314],\n",
       "       [5.        , 0.53300706]])"
      ]
     },
     "execution_count": 17,
     "metadata": {},
     "output_type": "execute_result"
    }
   ],
   "source": [
    "word_freq_sum = word_freq[:, 1].sum()\n",
    "word_freq[:, 1] = word_freq[:, 1]/word_freq_sum\n",
    "word_freq"
   ]
  },
  {
   "cell_type": "code",
   "execution_count": 18,
   "id": "662f261f-230b-412d-8644-174d6eee5067",
   "metadata": {},
   "outputs": [
    {
     "data": {
      "text/plain": [
       "array([[1., 2.],\n",
       "       [2., 1.],\n",
       "       [3., 1.],\n",
       "       [4., 1.],\n",
       "       [5., 5.]])"
      ]
     },
     "execution_count": 18,
     "metadata": {},
     "output_type": "execute_result"
    }
   ],
   "source": [
    "word_freq[:, 1] = np.round(word_freq[:, 1] * size)\n",
    "word_freq"
   ]
  },
  {
   "cell_type": "code",
   "execution_count": 19,
   "id": "71d639ae-5d56-4a04-a2f1-82e3dfcfa269",
   "metadata": {},
   "outputs": [
    {
     "data": {
      "text/plain": [
       "[[1, 2], [2, 1], [3, 1], [4, 1], [5, 5]]"
      ]
     },
     "execution_count": 19,
     "metadata": {},
     "output_type": "execute_result"
    }
   ],
   "source": [
    "word_freq = word_freq.astype(int).tolist()\n",
    "word_freq"
   ]
  },
  {
   "cell_type": "code",
   "execution_count": 20,
   "id": "2ff6d8d3-fc70-4cca-b16a-74772f36caad",
   "metadata": {},
   "outputs": [],
   "source": [
    "sample_table = [[tup[0]]*tup[1] for tup in word_freq]"
   ]
  },
  {
   "cell_type": "code",
   "execution_count": 21,
   "id": "d913e359-de31-438b-83ac-768615b63997",
   "metadata": {},
   "outputs": [
    {
     "data": {
      "text/plain": [
       "[[1, 1], [2], [3], [4], [5, 5, 5, 5, 5]]"
      ]
     },
     "execution_count": 21,
     "metadata": {},
     "output_type": "execute_result"
    }
   ],
   "source": [
    "sample_table"
   ]
  },
  {
   "cell_type": "code",
   "execution_count": 22,
   "id": "73bb3c58-4d95-46ed-966d-4b70fc6d5ead",
   "metadata": {},
   "outputs": [],
   "source": [
    "import itertools"
   ]
  },
  {
   "cell_type": "code",
   "execution_count": 23,
   "id": "ee08d16b-7b7e-4940-8c85-fb7159608c44",
   "metadata": {},
   "outputs": [
    {
     "data": {
      "text/plain": [
       "array([1, 1, 2, 3, 4, 5, 5, 5, 5, 5])"
      ]
     },
     "execution_count": 23,
     "metadata": {},
     "output_type": "execute_result"
    }
   ],
   "source": [
    "sample_table = np.array(list(itertools.chain.from_iterable(sample_table)))\n",
    "sample_table"
   ]
  },
  {
   "cell_type": "code",
   "execution_count": 24,
   "id": "e54bf80d-bd13-436d-a53a-3198766f6b7f",
   "metadata": {},
   "outputs": [],
   "source": [
    "np.random.shuffle(sample_table)"
   ]
  },
  {
   "cell_type": "code",
   "execution_count": 25,
   "id": "a621bdf5-b149-4dc6-9cee-bb198b215c7a",
   "metadata": {},
   "outputs": [
    {
     "data": {
      "text/plain": [
       "array([5, 5, 5, 5, 4, 1, 1, 5, 3, 2])"
      ]
     },
     "execution_count": 25,
     "metadata": {},
     "output_type": "execute_result"
    }
   ],
   "source": [
    "sample_table"
   ]
  },
  {
   "cell_type": "code",
   "execution_count": 1,
   "id": "55e6b58c-73de-49d9-956b-e5f8c8dd9ac4",
   "metadata": {},
   "outputs": [],
   "source": [
    "import numpy as np"
   ]
  },
  {
   "cell_type": "code",
   "execution_count": 6,
   "id": "03372bcd-1d03-4ad5-8a5f-31a085c2654e",
   "metadata": {},
   "outputs": [
    {
     "data": {
      "text/plain": [
       "[array([[1, 2],\n",
       "        [2, 3],\n",
       "        [2, 3],\n",
       "        [9, 8]]),\n",
       " array([[1, 2],\n",
       "        [2, 3],\n",
       "        [2, 3],\n",
       "        [9, 8]])]"
      ]
     },
     "execution_count": 6,
     "metadata": {},
     "output_type": "execute_result"
    }
   ],
   "source": [
    "ls = []\n",
    "a = np.vstack(([[1,2], [2,3]], [[2,3], [9,8]]))\n",
    "ls.append(a)\n",
    "b = np.vstack(([[1,2], [2,3]], [[2,3], [9,8]]))\n",
    "ls.append(b)\n",
    "ls"
   ]
  },
  {
   "cell_type": "code",
   "execution_count": 7,
   "id": "41d21119-588c-436f-999a-152609254f41",
   "metadata": {},
   "outputs": [
    {
     "data": {
      "text/plain": [
       "array([[1, 2],\n",
       "       [2, 3],\n",
       "       [2, 3],\n",
       "       [9, 8],\n",
       "       [1, 2],\n",
       "       [2, 3],\n",
       "       [2, 3],\n",
       "       [9, 8]])"
      ]
     },
     "execution_count": 7,
     "metadata": {},
     "output_type": "execute_result"
    }
   ],
   "source": [
    "np.vstack(ls)"
   ]
  },
  {
   "cell_type": "code",
   "execution_count": null,
   "id": "2d57f99d-b8f8-4566-8ee9-e179644b6a3f",
   "metadata": {},
   "outputs": [],
   "source": [
    "# neg_table_test\n",
    "TABLE_SIZE = 1e7\n",
    "VOCAB_SIZE = 4e5\n",
    "word_freq = {i:np.random.randint(low = 0, high = 1000) for i in range(int(VOCAB_SIZE))}\n",
    "\n",
    "power = 0.75\n",
    "# Convert to array \n",
    "word_freq = np.array(list(word_freq.items()), dtype = np.float)\n",
    "\n",
    "# adjust the power\n",
    "word_freq[:, 1] = word_freq[:, 1] ** power\n",
    "\n",
    "# Get probabilities\n",
    "word_freq_sum = word_freq[:, 1].sum()\n",
    "word_freq[:, 1] = word_freq[:, 1] / word_freq_sum\n",
    "\n",
    "# Multiply probabilities by sample table size\n",
    "word_freq[:, 1] = np.round(word_freq[:, 1] * TABLE_SIZE)"
   ]
  },
  {
   "cell_type": "code",
   "execution_count": null,
   "id": "81b0f327-ea99-4c0e-aac2-27cc62f577a8",
   "metadata": {},
   "outputs": [],
   "source": []
  },
  {
   "cell_type": "code",
   "execution_count": null,
   "id": "07902dd3",
   "metadata": {},
   "outputs": [],
   "source": [
    "# neg_table_test\n",
    "TABLE_SIZE = 1e7\n",
    "VOCAB_SIZE = 4e5\n",
    "word_freq = {i:np.random.randint(low = 0, high = 1000) for i in range(int(VOCAB_SIZE))}\n",
    "\n",
    "power = 0.75\n",
    "# Convert to array \n",
    "word_freq = np.array(list(word_freq.items()), dtype = np.float)\n",
    "\n",
    "# adjust the power\n",
    "word_freq[:, 1] = word_freq[:, 1] ** power\n",
    "\n",
    "# Get probabilities\n",
    "word_freq_sum = word_freq[:, 1].sum()\n",
    "word_freq[:, 1] = word_freq[:, 1] / word_freq_sum\n",
    "\n",
    "# Multiply probabilities by sample table size\n",
    "word_freq[:, 1] = np.round(word_freq[:, 1] * TABLE_SIZE)"
   ]
  },
  {
   "cell_type": "code",
   "execution_count": null,
   "id": "6c8e5276-f5bb-4862-91f7-324c48833d8f",
   "metadata": {},
   "outputs": [],
   "source": []
  },
  {
   "cell_type": "code",
   "execution_count": null,
   "id": "86091beb-b0a7-46b6-ae34-3d04434bbc43",
   "metadata": {},
   "outputs": [
    {
     "data": {
      "text/plain": [
       "array([7.999980e+10, 9.999614e+06])"
      ]
     },
     "execution_count": 53,
     "metadata": {},
     "output_type": "execute_result"
    }
   ],
   "source": [
    "np.sum(word_freq, axis = 0)"
   ]
  },
  {
   "cell_type": "code",
   "execution_count": null,
   "id": "0c7883ae-e81c-47c2-8a5d-f7555d39b224",
   "metadata": {},
   "outputs": [],
   "source": [
    "# Convert to int \n",
    "word_freq = word_freq.astype(int).tolist()\n"
   ]
  },
  {
   "cell_type": "code",
   "execution_count": null,
   "id": "8623eb1a-7e2a-4bad-b9ce-8d2d3415ca7d",
   "metadata": {},
   "outputs": [
    {
     "data": {
      "text/plain": [
       "[[0, 40],\n",
       " [1, 15],\n",
       " [2, 36],\n",
       " [3, 40],\n",
       " [4, 19],\n",
       " [5, 23],\n",
       " [6, 13],\n",
       " [7, 31],\n",
       " [8, 18],\n",
       " [9, 23]]"
      ]
     },
     "execution_count": 55,
     "metadata": {},
     "output_type": "execute_result"
    }
   ],
   "source": [
    "word_freq[:10]"
   ]
  },
  {
   "cell_type": "code",
   "execution_count": null,
   "id": "6b8aae13-5cdf-4589-b967-aa8f55457e30",
   "metadata": {},
   "outputs": [
    {
     "name": "stderr",
     "output_type": "stream",
     "text": [
      "100%|█████████████████████████████████████████████████████████████████████████████████████████████████████████████████████████| 400000/400000 [00:00<00:00, 1576835.65it/s]\n"
     ]
    }
   ],
   "source": [
    "\n",
    "# # create the sample table\n",
    "sample_table = [[tup[0]]*tup[1] for tup in tqdm(word_freq)] # repeating the index (wrod_id) by proportion of their frequency (more frequent words are more probable for sampling)\n",
    "# sample_table = np.array(list(itertools.chain.from_iterable(sample_table)))"
   ]
  },
  {
   "cell_type": "code",
   "execution_count": null,
   "id": "f2cf33b3-72ac-4b20-bb55-d407aedd8871",
   "metadata": {},
   "outputs": [
    {
     "name": "stderr",
     "output_type": "stream",
     "text": [
      "100%|███████████████████████████████████████████████████████████████████████████████████████████████████████████████████| 100000000/100000000 [00:58<00:00, 1696849.76it/s]\n"
     ]
    },
    {
     "data": {
      "text/plain": [
       "100000000"
      ]
     },
     "execution_count": 26,
     "metadata": {},
     "output_type": "execute_result"
    }
   ],
   "source": [
    "ls = [[124]*np.random for i in tqdm(range(int(1e8)))]\n",
    "len(ls)"
   ]
  },
  {
   "cell_type": "code",
   "execution_count": 5,
   "id": "7107da9a-41d0-416b-aebc-d4de38222058",
   "metadata": {},
   "outputs": [
    {
     "name": "stdout",
     "output_type": "stream",
     "text": [
      "2.0.1\n",
      "torch.cuda.is_available() = True\n",
      "torch.cuda.device_count() = 7\n",
      "torch.cuda.get_device_name(1) = 'NVIDIA GeForce RTX 2080 Ti'\n"
     ]
    }
   ],
   "source": [
    "print(torch.__version__) # Get PyTorch and CUDA version\n",
    "print(f\"{torch.cuda.is_available() = }\") # Check that CUDA works\n",
    "print(f\"{torch.cuda.device_count() = }\") # Check how many CUDA capable devices you have\n",
    "# Print device human readable names\n",
    "print(f\"{torch.cuda.get_device_name(1) = }\")"
   ]
  },
  {
   "cell_type": "code",
   "execution_count": 18,
   "id": "80b8a885",
   "metadata": {},
   "outputs": [
    {
     "ename": "ModuleNotFoundError",
     "evalue": "No module named 'torchsummary'",
     "output_type": "error",
     "traceback": [
      "\u001b[0;31m---------------------------------------------------------------------------\u001b[0m",
      "\u001b[0;31mModuleNotFoundError\u001b[0m                       Traceback (most recent call last)",
      "\u001b[1;32m/home/ashish/workspace/recommender/notebooks/5.2-torch-tensor-test.ipynb Cell 45\u001b[0m in \u001b[0;36m<cell line: 1>\u001b[0;34m()\u001b[0m\n\u001b[0;32m----> <a href='vscode-notebook-cell://ssh-remote%2B15.77.10.172/home/ashish/workspace/recommender/notebooks/5.2-torch-tensor-test.ipynb#X65sdnNjb2RlLXJlbW90ZQ%3D%3D?line=0'>1</a>\u001b[0m \u001b[39mfrom\u001b[39;00m \u001b[39mtorchsummary\u001b[39;00m  \u001b[39mimport\u001b[39;00m summary\n",
      "\u001b[0;31mModuleNotFoundError\u001b[0m: No module named 'torchsummary'"
     ]
    }
   ],
   "source": [
    "from torchsummary  import summary"
   ]
  },
  {
   "cell_type": "code",
   "execution_count": 12,
   "id": "6a7cbe91",
   "metadata": {},
   "outputs": [
    {
     "data": {
      "text/plain": [
       "ModuleTest(\n",
       "  (linear_layers): ModuleList(\n",
       "    (0-9): 10 x Linear(in_features=10, out_features=10, bias=True)\n",
       "  )\n",
       ")"
      ]
     },
     "execution_count": 12,
     "metadata": {},
     "output_type": "execute_result"
    }
   ],
   "source": [
    "class ModuleTest(nn.Module):\n",
    "    def __init__(self):\n",
    "        super().__init__()\n",
    "        self.linear_layers = nn.ModuleList([nn.Linear(10, 10) for i in  range(10)])\n",
    "\n",
    "    def forward(self, x):\n",
    "\n",
    "        for i, l in enumerate(self.linears):\n",
    "            x = self.linears[i//2](x) + l(x)\n",
    "        return x\n",
    "\n",
    "ModuleTest()\n",
    "    "
   ]
  },
  {
   "cell_type": "code",
   "execution_count": 16,
   "id": "fd6098ce",
   "metadata": {},
   "outputs": [
    {
     "name": "stdout",
     "output_type": "stream",
     "text": [
      "<class '__main__.ModuleTest'>\n"
     ]
    }
   ],
   "source": [
    "print(ModuleTest)"
   ]
  },
  {
   "cell_type": "code",
   "execution_count": null,
   "id": "e14dcb26",
   "metadata": {},
   "outputs": [],
   "source": []
  }
 ],
 "metadata": {
  "kernelspec": {
   "display_name": "Python 3",
   "language": "python",
   "name": "python3"
  },
  "language_info": {
   "codemirror_mode": {
    "name": "ipython",
    "version": 3
   },
   "file_extension": ".py",
   "mimetype": "text/x-python",
   "name": "python",
   "nbconvert_exporter": "python",
   "pygments_lexer": "ipython3",
   "version": "3.8.16"
  }
 },
 "nbformat": 4,
 "nbformat_minor": 5
}
