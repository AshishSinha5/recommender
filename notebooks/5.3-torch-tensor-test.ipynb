{
 "cells": [
  {
   "cell_type": "code",
   "execution_count": 1,
   "id": "119a2904-809f-4ea4-87e7-88308bb8b699",
   "metadata": {},
   "outputs": [
    {
     "name": "stderr",
     "output_type": "stream",
     "text": [
      "/mnt/efs/fs1/miniconda3/envs/gml/lib/python3.8/site-packages/tqdm/auto.py:22: TqdmWarning: IProgress not found. Please update jupyter and ipywidgets. See https://ipywidgets.readthedocs.io/en/stable/user_install.html\n",
      "  from .autonotebook import tqdm as notebook_tqdm\n"
     ]
    }
   ],
   "source": [
    "import torch\n",
    "from torch import nn"
   ]
  },
  {
   "cell_type": "code",
   "execution_count": 42,
   "id": "2bfd5934-5196-4505-b38b-dbbd296b70f4",
   "metadata": {},
   "outputs": [],
   "source": [
    "import itertools\n",
    "from collections import Counter"
   ]
  },
  {
   "cell_type": "code",
   "execution_count": 2,
   "id": "e6b3e503-bb3f-4239-9bf2-5e3ba2a19d50",
   "metadata": {},
   "outputs": [],
   "source": [
    "import numpy as np"
   ]
  },
  {
   "cell_type": "code",
   "execution_count": 12,
   "id": "4298ee20-edf3-4ac1-b66f-7a871b632fa0",
   "metadata": {},
   "outputs": [],
   "source": [
    "emb_size = 1000\n",
    "emb_dim = 10\n",
    "embedding = nn.Embedding(emb_size, emb_dim)\n",
    "sig = nn.Sigmoid()"
   ]
  },
  {
   "cell_type": "code",
   "execution_count": 28,
   "id": "7a47bb14-734b-4056-972b-1c6a91b8724d",
   "metadata": {},
   "outputs": [],
   "source": [
    "emb_1 = embedding(torch.tensor([12, 2]))\n",
    "emb_2 = embedding(torch.tensor([43, 32]))"
   ]
  },
  {
   "cell_type": "code",
   "execution_count": 29,
   "id": "b99a3316-3c98-40ec-881e-4f6aa06b8e99",
   "metadata": {},
   "outputs": [
    {
     "data": {
      "text/plain": [
       "tensor([[ 0.7976,  0.5950, -1.2008,  0.1782, -0.1646, -0.3091,  1.3601, -1.1299,\n",
       "         -1.8383,  0.3505],\n",
       "        [ 0.0983,  0.6216,  1.2589,  1.7158,  0.7322, -0.0544, -1.1300,  0.7759,\n",
       "         -0.3346, -1.5656]], grad_fn=<EmbeddingBackward0>)"
      ]
     },
     "execution_count": 29,
     "metadata": {},
     "output_type": "execute_result"
    }
   ],
   "source": [
    "emb_1"
   ]
  },
  {
   "cell_type": "code",
   "execution_count": 30,
   "id": "58ff893f-680a-4251-b9de-49fb2de7ad2c",
   "metadata": {},
   "outputs": [
    {
     "data": {
      "text/plain": [
       "tensor([[ 1.2093e+00,  1.7658e+00, -1.5136e-01,  5.7025e-01, -6.0432e-01,\n",
       "          1.0720e+00, -1.3632e+00,  4.4260e-01, -1.0252e+00,  3.1624e-01],\n",
       "        [ 1.0852e+00,  3.6491e-01,  3.6029e-01,  3.2068e-01, -1.6258e+00,\n",
       "          9.2224e-01, -2.0003e-01,  6.4078e-01,  9.4780e-04, -8.4548e-01]],\n",
       "       grad_fn=<EmbeddingBackward0>)"
      ]
     },
     "execution_count": 30,
     "metadata": {},
     "output_type": "execute_result"
    }
   ],
   "source": [
    "emb_2"
   ]
  },
  {
   "cell_type": "code",
   "execution_count": 39,
   "id": "98b55dbd-959d-4683-ba23-d1679685549a",
   "metadata": {},
   "outputs": [
    {
     "data": {
      "text/plain": [
       "tensor([1.7082, 2.1433], grad_fn=<SumBackward1>)"
      ]
     },
     "execution_count": 39,
     "metadata": {},
     "output_type": "execute_result"
    }
   ],
   "source": [
    "torch.sum(emb_1*emb_2, dim = 1, dtype = torch.float)"
   ]
  },
  {
   "cell_type": "code",
   "execution_count": 31,
   "id": "1fa6cf82-f706-4563-b3bc-005441398648",
   "metadata": {},
   "outputs": [
    {
     "data": {
      "text/plain": [
       "tensor([[ 9.6455e-01,  1.0507e+00,  1.8176e-01,  1.0163e-01,  9.9473e-02,\n",
       "         -3.3134e-01, -1.8540e+00, -5.0009e-01,  1.8847e+00,  1.1083e-01],\n",
       "        [ 1.0666e-01,  2.2683e-01,  4.5356e-01,  5.5023e-01, -1.1903e+00,\n",
       "         -5.0173e-02,  2.2602e-01,  4.9715e-01, -3.1715e-04,  1.3237e+00]],\n",
       "       grad_fn=<MulBackward0>)"
      ]
     },
     "execution_count": 31,
     "metadata": {},
     "output_type": "execute_result"
    }
   ],
   "source": [
    "emb_1*emb_2"
   ]
  },
  {
   "cell_type": "code",
   "execution_count": 37,
   "id": "517f4975-b172-4357-87fa-4bdd83cf74c7",
   "metadata": {},
   "outputs": [
    {
     "data": {
      "text/plain": [
       "1.7082129999999998"
      ]
     },
     "execution_count": 37,
     "metadata": {},
     "output_type": "execute_result"
    }
   ],
   "source": [
    "np.sum([ 9.6455e-01,  1.0507e+00,  1.8176e-01,  1.0163e-01,  9.9473e-02,\n",
    "         -3.3134e-01, -1.8540e+00, -5.0009e-01,  1.8847e+00,  1.1083e-01])"
   ]
  },
  {
   "cell_type": "code",
   "execution_count": 45,
   "id": "ac6ed5a4-4246-42b8-8e9c-8832c5b66e67",
   "metadata": {},
   "outputs": [
    {
     "data": {
      "text/plain": [
       "[1, 1, 1, 21, 5, 7, 8]"
      ]
     },
     "execution_count": 45,
     "metadata": {},
     "output_type": "execute_result"
    }
   ],
   "source": [
    "list(itertools.chain.from_iterable([[1,1,1], [21,5,7,8]]))"
   ]
  },
  {
   "cell_type": "code",
   "execution_count": 43,
   "id": "aee6a23c-75a0-4e15-b584-e3f6f0e7ede5",
   "metadata": {},
   "outputs": [
    {
     "data": {
      "text/plain": [
       "Counter({1: 5, 3: 1, 4: 4, 23: 1, 2: 2, 5: 1, 6: 5})"
      ]
     },
     "execution_count": 43,
     "metadata": {},
     "output_type": "execute_result"
    }
   ],
   "source": [
    "Counter([1,1,1,1,1,3,4,23,4,2,4,2,4,5,6,6,6,6,6])"
   ]
  },
  {
   "cell_type": "code",
   "execution_count": 17,
   "id": "f30660c1-b9a6-4cad-b129-503ce197d374",
   "metadata": {},
   "outputs": [],
   "source": [
    "d = {1:'a', 2:'b', 3:'c'}\n",
    "arr = np.array([1,2,3,1,1,1,2,3]*1000)"
   ]
  },
  {
   "cell_type": "code",
   "execution_count": 18,
   "id": "a89150c6-cced-418e-9ee3-d32ded1054d7",
   "metadata": {},
   "outputs": [
    {
     "name": "stdout",
     "output_type": "stream",
     "text": [
      "3.11 ms ± 25.9 µs per loop (mean ± std. dev. of 7 runs, 100 loops each)\n"
     ]
    }
   ],
   "source": [
    "%%timeit\n",
    "np.array([d[a] for a in arr])    "
   ]
  },
  {
   "cell_type": "code",
   "execution_count": 19,
   "id": "e3da5b5a-c747-4708-a319-c2e9176c9439",
   "metadata": {},
   "outputs": [],
   "source": [
    "arr = np.array([1,2,3,1,1,1,2,3]*1000)"
   ]
  },
  {
   "cell_type": "code",
   "execution_count": 20,
   "id": "5f28189a-aafc-4072-a46b-d31cef26ec31",
   "metadata": {},
   "outputs": [
    {
     "name": "stdout",
     "output_type": "stream",
     "text": [
      "1.43 ms ± 12.4 µs per loop (mean ± std. dev. of 7 runs, 1,000 loops each)\n"
     ]
    }
   ],
   "source": [
    "%%timeit\n",
    "np.vectorize(d.get)(arr)"
   ]
  },
  {
   "cell_type": "code",
   "execution_count": 22,
   "id": "c2b045df-56e6-4f81-a8a8-21ae7cb5193e",
   "metadata": {},
   "outputs": [],
   "source": [
    "arr = np.array(list(d.items()))"
   ]
  },
  {
   "cell_type": "code",
   "execution_count": 24,
   "id": "b0f65382-9430-4e33-bfbd-a55b0a0a1897",
   "metadata": {},
   "outputs": [
    {
     "data": {
      "text/plain": [
       "{'1': 'a', '2': 'b', '3': 'c'}"
      ]
     },
     "execution_count": 24,
     "metadata": {},
     "output_type": "execute_result"
    }
   ],
   "source": [
    "{k: v for k, v in arr.tolist()}"
   ]
  },
  {
   "cell_type": "code",
   "execution_count": 66,
   "id": "98ae33ca-885b-4130-9853-5ce202c61027",
   "metadata": {},
   "outputs": [
    {
     "name": "stderr",
     "output_type": "stream",
     "text": [
      "/tmp/ipykernel_56280/2892840674.py:3: DeprecationWarning: `np.float` is a deprecated alias for the builtin `float`. To silence this warning, use `float` by itself. Doing this will not modify any behavior and is safe. If you specifically wanted the numpy scalar type, use `np.float64` here.\n",
      "Deprecated in NumPy 1.20; for more details and guidance: https://numpy.org/devdocs/release/1.20.0-notes.html#deprecations\n",
      "  word_freq = np.array(list(word_freq.items()), dtype = np.float)\n"
     ]
    }
   ],
   "source": [
    "word_freq = {1: 12, 2: 3, 3:7, 4: 2, 5 : 43}\n",
    "size = 5\n",
    "word_freq = np.array(list(word_freq.items()), dtype = np.float)"
   ]
  },
  {
   "cell_type": "code",
   "execution_count": 67,
   "id": "2cc8a3df-1247-4d19-8e0c-2e1fbd751748",
   "metadata": {},
   "outputs": [],
   "source": [
    "power = 0.75\n",
    "word_freq[:, 1] = word_freq[:, 1] ** power"
   ]
  },
  {
   "cell_type": "code",
   "execution_count": 68,
   "id": "c64af30c-f7e4-4b48-b8c2-c33eb775ec5d",
   "metadata": {},
   "outputs": [
    {
     "data": {
      "text/plain": [
       "array([[ 1.        ,  6.44741959],\n",
       "       [ 2.        ,  2.27950706],\n",
       "       [ 3.        ,  4.30351707],\n",
       "       [ 4.        ,  1.68179283],\n",
       "       [ 5.        , 16.79195809]])"
      ]
     },
     "execution_count": 68,
     "metadata": {},
     "output_type": "execute_result"
    }
   ],
   "source": [
    "word_freq"
   ]
  },
  {
   "cell_type": "code",
   "execution_count": 69,
   "id": "a1752d1b-25f6-4a6e-b567-651c84e1fce8",
   "metadata": {},
   "outputs": [
    {
     "data": {
      "text/plain": [
       "array([[1.        , 0.20465273],\n",
       "       [2.        , 0.07235567],\n",
       "       [3.        , 0.1366014 ],\n",
       "       [4.        , 0.05338314],\n",
       "       [5.        , 0.53300706]])"
      ]
     },
     "execution_count": 69,
     "metadata": {},
     "output_type": "execute_result"
    }
   ],
   "source": [
    "word_freq_sum = word_freq[:, 1].sum()\n",
    "word_freq[:, 1] = word_freq[:, 1]/word_freq_sum\n",
    "word_freq"
   ]
  },
  {
   "cell_type": "code",
   "execution_count": 70,
   "id": "662f261f-230b-412d-8644-174d6eee5067",
   "metadata": {},
   "outputs": [
    {
     "data": {
      "text/plain": [
       "array([[1., 1.],\n",
       "       [2., 0.],\n",
       "       [3., 1.],\n",
       "       [4., 0.],\n",
       "       [5., 3.]])"
      ]
     },
     "execution_count": 70,
     "metadata": {},
     "output_type": "execute_result"
    }
   ],
   "source": [
    "word_freq[:, 1] = np.round(word_freq[:, 1] * size)\n",
    "word_freq"
   ]
  },
  {
   "cell_type": "code",
   "execution_count": 71,
   "id": "71d639ae-5d56-4a04-a2f1-82e3dfcfa269",
   "metadata": {},
   "outputs": [
    {
     "data": {
      "text/plain": [
       "[[1, 1], [2, 0], [3, 1], [4, 0], [5, 3]]"
      ]
     },
     "execution_count": 71,
     "metadata": {},
     "output_type": "execute_result"
    }
   ],
   "source": [
    "word_freq = word_freq.astype(int).tolist()\n",
    "word_freq"
   ]
  },
  {
   "cell_type": "code",
   "execution_count": 72,
   "id": "2ff6d8d3-fc70-4cca-b16a-74772f36caad",
   "metadata": {},
   "outputs": [],
   "source": [
    "sample_table = [[tup[0]*tup[1]] for tup in word_freq]"
   ]
  },
  {
   "cell_type": "code",
   "execution_count": 73,
   "id": "d913e359-de31-438b-83ac-768615b63997",
   "metadata": {},
   "outputs": [
    {
     "data": {
      "text/plain": [
       "[[1], [0], [3], [0], [15]]"
      ]
     },
     "execution_count": 73,
     "metadata": {},
     "output_type": "execute_result"
    }
   ],
   "source": [
    "sample_table"
   ]
  },
  {
   "cell_type": "code",
   "execution_count": 74,
   "id": "73bb3c58-4d95-46ed-966d-4b70fc6d5ead",
   "metadata": {},
   "outputs": [],
   "source": [
    "import itertools"
   ]
  },
  {
   "cell_type": "code",
   "execution_count": 75,
   "id": "ee08d16b-7b7e-4940-8c85-fb7159608c44",
   "metadata": {},
   "outputs": [
    {
     "data": {
      "text/plain": [
       "array([ 1,  0,  3,  0, 15])"
      ]
     },
     "execution_count": 75,
     "metadata": {},
     "output_type": "execute_result"
    }
   ],
   "source": [
    "sample_table = np.array(list(itertools.chain.from_iterable(sample_table)))\n",
    "sample_table"
   ]
  },
  {
   "cell_type": "code",
   "execution_count": 76,
   "id": "e54bf80d-bd13-436d-a53a-3198766f6b7f",
   "metadata": {},
   "outputs": [],
   "source": [
    "np.random.shuffle(sample_table)"
   ]
  },
  {
   "cell_type": "code",
   "execution_count": 77,
   "id": "a621bdf5-b149-4dc6-9cee-bb198b215c7a",
   "metadata": {},
   "outputs": [
    {
     "data": {
      "text/plain": [
       "array([ 0,  1,  0,  3, 15])"
      ]
     },
     "execution_count": 77,
     "metadata": {},
     "output_type": "execute_result"
    }
   ],
   "source": [
    "sample_table"
   ]
  },
  {
   "cell_type": "code",
   "execution_count": null,
   "id": "55e6b58c-73de-49d9-956b-e5f8c8dd9ac4",
   "metadata": {},
   "outputs": [],
   "source": []
  }
 ],
 "metadata": {
  "kernelspec": {
   "display_name": "Python [conda env:gml]",
   "language": "python",
   "name": "conda-env-gml-py"
  },
  "language_info": {
   "codemirror_mode": {
    "name": "ipython",
    "version": 3
   },
   "file_extension": ".py",
   "mimetype": "text/x-python",
   "name": "python",
   "nbconvert_exporter": "python",
   "pygments_lexer": "ipython3",
   "version": "3.8.13"
  }
 },
 "nbformat": 4,
 "nbformat_minor": 5
}
