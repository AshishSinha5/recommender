{
 "cells": [
  {
   "cell_type": "code",
   "execution_count": 1,
   "id": "119a2904-809f-4ea4-87e7-88308bb8b699",
   "metadata": {},
   "outputs": [
    {
     "name": "stderr",
     "output_type": "stream",
     "text": [
      "/mnt/efs/fs1/miniconda3/envs/gml/lib/python3.8/site-packages/tqdm/auto.py:22: TqdmWarning: IProgress not found. Please update jupyter and ipywidgets. See https://ipywidgets.readthedocs.io/en/stable/user_install.html\n",
      "  from .autonotebook import tqdm as notebook_tqdm\n"
     ]
    }
   ],
   "source": [
    "import torch\n",
    "from torch import nn"
   ]
  },
  {
   "cell_type": "code",
   "execution_count": 42,
   "id": "2bfd5934-5196-4505-b38b-dbbd296b70f4",
   "metadata": {},
   "outputs": [],
   "source": [
    "import itertools\n",
    "from collections import Counter"
   ]
  },
  {
   "cell_type": "code",
   "execution_count": 36,
   "id": "e6b3e503-bb3f-4239-9bf2-5e3ba2a19d50",
   "metadata": {},
   "outputs": [],
   "source": [
    "import numpy as np"
   ]
  },
  {
   "cell_type": "code",
   "execution_count": 12,
   "id": "4298ee20-edf3-4ac1-b66f-7a871b632fa0",
   "metadata": {},
   "outputs": [],
   "source": [
    "emb_size = 1000\n",
    "emb_dim = 10\n",
    "embedding = nn.Embedding(emb_size, emb_dim)\n",
    "sig = nn.Sigmoid()"
   ]
  },
  {
   "cell_type": "code",
   "execution_count": 28,
   "id": "7a47bb14-734b-4056-972b-1c6a91b8724d",
   "metadata": {},
   "outputs": [],
   "source": [
    "emb_1 = embedding(torch.tensor([12, 2]))\n",
    "emb_2 = embedding(torch.tensor([43, 32]))"
   ]
  },
  {
   "cell_type": "code",
   "execution_count": 29,
   "id": "b99a3316-3c98-40ec-881e-4f6aa06b8e99",
   "metadata": {},
   "outputs": [
    {
     "data": {
      "text/plain": [
       "tensor([[ 0.7976,  0.5950, -1.2008,  0.1782, -0.1646, -0.3091,  1.3601, -1.1299,\n",
       "         -1.8383,  0.3505],\n",
       "        [ 0.0983,  0.6216,  1.2589,  1.7158,  0.7322, -0.0544, -1.1300,  0.7759,\n",
       "         -0.3346, -1.5656]], grad_fn=<EmbeddingBackward0>)"
      ]
     },
     "execution_count": 29,
     "metadata": {},
     "output_type": "execute_result"
    }
   ],
   "source": [
    "emb_1"
   ]
  },
  {
   "cell_type": "code",
   "execution_count": 30,
   "id": "58ff893f-680a-4251-b9de-49fb2de7ad2c",
   "metadata": {},
   "outputs": [
    {
     "data": {
      "text/plain": [
       "tensor([[ 1.2093e+00,  1.7658e+00, -1.5136e-01,  5.7025e-01, -6.0432e-01,\n",
       "          1.0720e+00, -1.3632e+00,  4.4260e-01, -1.0252e+00,  3.1624e-01],\n",
       "        [ 1.0852e+00,  3.6491e-01,  3.6029e-01,  3.2068e-01, -1.6258e+00,\n",
       "          9.2224e-01, -2.0003e-01,  6.4078e-01,  9.4780e-04, -8.4548e-01]],\n",
       "       grad_fn=<EmbeddingBackward0>)"
      ]
     },
     "execution_count": 30,
     "metadata": {},
     "output_type": "execute_result"
    }
   ],
   "source": [
    "emb_2"
   ]
  },
  {
   "cell_type": "code",
   "execution_count": 39,
   "id": "98b55dbd-959d-4683-ba23-d1679685549a",
   "metadata": {},
   "outputs": [
    {
     "data": {
      "text/plain": [
       "tensor([1.7082, 2.1433], grad_fn=<SumBackward1>)"
      ]
     },
     "execution_count": 39,
     "metadata": {},
     "output_type": "execute_result"
    }
   ],
   "source": [
    "torch.sum(emb_1*emb_2, dim = 1, dtype = torch.float)"
   ]
  },
  {
   "cell_type": "code",
   "execution_count": 31,
   "id": "1fa6cf82-f706-4563-b3bc-005441398648",
   "metadata": {},
   "outputs": [
    {
     "data": {
      "text/plain": [
       "tensor([[ 9.6455e-01,  1.0507e+00,  1.8176e-01,  1.0163e-01,  9.9473e-02,\n",
       "         -3.3134e-01, -1.8540e+00, -5.0009e-01,  1.8847e+00,  1.1083e-01],\n",
       "        [ 1.0666e-01,  2.2683e-01,  4.5356e-01,  5.5023e-01, -1.1903e+00,\n",
       "         -5.0173e-02,  2.2602e-01,  4.9715e-01, -3.1715e-04,  1.3237e+00]],\n",
       "       grad_fn=<MulBackward0>)"
      ]
     },
     "execution_count": 31,
     "metadata": {},
     "output_type": "execute_result"
    }
   ],
   "source": [
    "emb_1*emb_2"
   ]
  },
  {
   "cell_type": "code",
   "execution_count": 37,
   "id": "517f4975-b172-4357-87fa-4bdd83cf74c7",
   "metadata": {},
   "outputs": [
    {
     "data": {
      "text/plain": [
       "1.7082129999999998"
      ]
     },
     "execution_count": 37,
     "metadata": {},
     "output_type": "execute_result"
    }
   ],
   "source": [
    "np.sum([ 9.6455e-01,  1.0507e+00,  1.8176e-01,  1.0163e-01,  9.9473e-02,\n",
    "         -3.3134e-01, -1.8540e+00, -5.0009e-01,  1.8847e+00,  1.1083e-01])"
   ]
  },
  {
   "cell_type": "code",
   "execution_count": 45,
   "id": "ac6ed5a4-4246-42b8-8e9c-8832c5b66e67",
   "metadata": {},
   "outputs": [
    {
     "data": {
      "text/plain": [
       "[1, 1, 1, 21, 5, 7, 8]"
      ]
     },
     "execution_count": 45,
     "metadata": {},
     "output_type": "execute_result"
    }
   ],
   "source": [
    "list(itertools.chain.from_iterable([[1,1,1], [21,5,7,8]]))"
   ]
  },
  {
   "cell_type": "code",
   "execution_count": 43,
   "id": "aee6a23c-75a0-4e15-b584-e3f6f0e7ede5",
   "metadata": {},
   "outputs": [
    {
     "data": {
      "text/plain": [
       "Counter({1: 5, 3: 1, 4: 4, 23: 1, 2: 2, 5: 1, 6: 5})"
      ]
     },
     "execution_count": 43,
     "metadata": {},
     "output_type": "execute_result"
    }
   ],
   "source": [
    "Counter([1,1,1,1,1,3,4,23,4,2,4,2,4,5,6,6,6,6,6])"
   ]
  },
  {
   "cell_type": "code",
   "execution_count": null,
   "id": "f30660c1-b9a6-4cad-b129-503ce197d374",
   "metadata": {},
   "outputs": [],
   "source": []
  }
 ],
 "metadata": {
  "kernelspec": {
   "display_name": "Python [conda env:gml]",
   "language": "python",
   "name": "conda-env-gml-py"
  },
  "language_info": {
   "codemirror_mode": {
    "name": "ipython",
    "version": 3
   },
   "file_extension": ".py",
   "mimetype": "text/x-python",
   "name": "python",
   "nbconvert_exporter": "python",
   "pygments_lexer": "ipython3",
   "version": "3.8.13"
  }
 },
 "nbformat": 4,
 "nbformat_minor": 5
}
