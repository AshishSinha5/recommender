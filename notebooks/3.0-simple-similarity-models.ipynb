{
 "cells": [
  {
   "cell_type": "code",
   "execution_count": 1,
   "id": "1c621268-2256-485c-9ffc-190de1ae8533",
   "metadata": {},
   "outputs": [],
   "source": [
    "import numpy \n",
    "from sklearn.metrics import jaccard_score\n",
    "from collections import defaultdict\n",
    "import json\n",
    "import random"
   ]
  },
  {
   "cell_type": "code",
   "execution_count": 2,
   "id": "aac02f1d-3da5-427b-827e-cc3a43a74e42",
   "metadata": {},
   "outputs": [],
   "source": [
    "from tqdm import tqdm"
   ]
  },
  {
   "cell_type": "code",
   "execution_count": 3,
   "id": "ea0c7750-7d2e-41d8-a7b5-4ca01be765b2",
   "metadata": {},
   "outputs": [],
   "source": [
    "from sklearn.model_selection import train_test_split"
   ]
  },
  {
   "cell_type": "code",
   "execution_count": 4,
   "id": "aeb35d01-3b04-4308-854c-050a7876d950",
   "metadata": {},
   "outputs": [],
   "source": [
    "import sys"
   ]
  },
  {
   "cell_type": "code",
   "execution_count": 5,
   "id": "c37fa9c4-2673-47a2-a3c4-cdeab994f5a9",
   "metadata": {},
   "outputs": [],
   "source": [
    "import random"
   ]
  },
  {
   "cell_type": "code",
   "execution_count": null,
   "id": "a71e3611",
   "metadata": {},
   "outputs": [],
   "source": []
  },
  {
   "cell_type": "code",
   "execution_count": 6,
   "id": "8e70499b-bd7f-48e0-9681-23b71ea860cc",
   "metadata": {},
   "outputs": [],
   "source": [
    "data_path = '../data/cleaned/RC_2023-01_2.json'\n",
    "with open(data_path, 'r') as fh:\n",
    "    comments = json.load(fh)"
   ]
  },
  {
   "cell_type": "code",
   "execution_count": 7,
   "id": "87db805a-c4d0-4c36-bcf2-5c78de73d92a",
   "metadata": {},
   "outputs": [
    {
     "data": {
      "text/plain": [
       "1672541331"
      ]
     },
     "execution_count": 7,
     "metadata": {},
     "output_type": "execute_result"
    }
   ],
   "source": [
    "comments[0]['created_utc']"
   ]
  },
  {
   "cell_type": "markdown",
   "id": "50b37e5e-72ce-47d3-866b-8c6697cfec6d",
   "metadata": {},
   "source": [
    "### Simple Data Stats"
   ]
  },
  {
   "cell_type": "code",
   "execution_count": 8,
   "id": "5e642016-2273-4f63-97ab-c5fb023790a7",
   "metadata": {},
   "outputs": [
    {
     "name": "stdout",
     "output_type": "stream",
     "text": [
      "No. of comments in the data - 314599\n"
     ]
    }
   ],
   "source": [
    "print(f'No. of comments in the data - {len(comments)}')"
   ]
  },
  {
   "cell_type": "code",
   "execution_count": 9,
   "id": "7c0fa8f3-a81c-44cb-b874-1fd15f3dab32",
   "metadata": {},
   "outputs": [
    {
     "name": "stdout",
     "output_type": "stream",
     "text": [
      "No. of unique subreddits : 18645\n"
     ]
    }
   ],
   "source": [
    "n_subreddit = len(set([comment['subreddit_id'] for comment in comments]))\n",
    "print(f'No. of unique subreddits : {n_subreddit}')"
   ]
  },
  {
   "cell_type": "code",
   "execution_count": 10,
   "id": "78e96b7c-264e-468e-9cfd-be90cb8882c1",
   "metadata": {},
   "outputs": [
    {
     "name": "stdout",
     "output_type": "stream",
     "text": [
      "No. of unique users : 77996\n"
     ]
    }
   ],
   "source": [
    "n_users = len(set([comment['author'] for comment in comments]))\n",
    "print(f'No. of unique users : {n_users}')"
   ]
  },
  {
   "cell_type": "markdown",
   "id": "eedaad8a-620e-4a86-b275-58c1e1aa3883",
   "metadata": {},
   "source": [
    "### Data Transformation"
   ]
  },
  {
   "cell_type": "code",
   "execution_count": 11,
   "id": "27796cbc-0847-400b-b32f-4f4929aa8b72",
   "metadata": {},
   "outputs": [],
   "source": [
    "usersperitem = defaultdict(set)\n",
    "itemsperuser = defaultdict(set)\n",
    "item_name = defaultdict()\n",
    "for comment in comments:\n",
    "    user = comment['author_fullname']\n",
    "    item = comment['subreddit_id']\n",
    "    item_name[item] = comment['subreddit']\n",
    "    usersperitem[item].add(user)\n",
    "    itemsperuser[user].add(item)"
   ]
  },
  {
   "cell_type": "code",
   "execution_count": 12,
   "id": "fbf1481d-b812-4834-9b75-e830319d7e98",
   "metadata": {},
   "outputs": [],
   "source": [
    "users = [u for u in itemsperuser]"
   ]
  },
  {
   "cell_type": "markdown",
   "id": "73eda9e2-7833-4601-8d9f-27f1d67319f0",
   "metadata": {},
   "source": [
    "### Jaccard Similarity"
   ]
  },
  {
   "cell_type": "code",
   "execution_count": 13,
   "id": "c82c7700-e154-4305-96f8-1612b4d56413",
   "metadata": {},
   "outputs": [],
   "source": [
    "def Jaccard(s1, s2):\n",
    "    numer = len(s1.intersection(s2))\n",
    "    denom = len(s1.union(s2))\n",
    "    if denom == 0:\n",
    "        return 0\n",
    "    return numer / denom"
   ]
  },
  {
   "cell_type": "code",
   "execution_count": 14,
   "id": "a77b385d-d410-4ef6-8471-46b4ab886743",
   "metadata": {},
   "outputs": [],
   "source": [
    "# Retrieve the most similar item based on jaccard similarity\n",
    "def mostSimilar(i, N):\n",
    "    similarities = []\n",
    "    users = usersperitem[i]\n",
    "    for i2 in usersperitem:\n",
    "        if i2 == i: continue\n",
    "        sim = Jaccard(users, usersperitem[i2])\n",
    "        #sim = Pearson(i, i2) # Could use alternate similarity metrics straightforwardly\n",
    "        similarities.append((sim,i2))\n",
    "    similarities.sort(reverse=True)\n",
    "    return similarities[:N]"
   ]
  },
  {
   "cell_type": "code",
   "execution_count": 15,
   "id": "f146306e-69a5-4523-902e-b0f2423fd7fb",
   "metadata": {},
   "outputs": [
    {
     "name": "stdout",
     "output_type": "stream",
     "text": [
      "Flipping\n",
      "0.09090909090909091 HusbandSharing\n",
      "0.08333333333333333 eBaySellerAdvice\n",
      "0.07692307692307693 FacebookMarketplace\n",
      "0.05 Infidelity\n",
      "0.03333333333333333 IllegalLifeProTips\n"
     ]
    }
   ],
   "source": [
    "idx = random.randint(0, len(comments))\n",
    "query = comments[idx]['subreddit_id']\n",
    "similar_items = mostSimilar(query, 5)\n",
    "# print(similar_items)\n",
    "print(item_name[query])\n",
    "for sim, _id in similar_items:\n",
    "    print(sim, item_name[_id])"
   ]
  },
  {
   "cell_type": "code",
   "execution_count": 16,
   "id": "1b17630d-7fc4-4615-9b8d-e3d22de56d01",
   "metadata": {},
   "outputs": [],
   "source": [
    "## Given a user find the subreddits to reccommend\n",
    "\n",
    "# 2: Jaccard similarity with most similar user who has consumed i\n",
    "def score(u, i, userHistory):\n",
    "    bestsim = None\n",
    "    for v in usersperitem[i]:\n",
    "        if u == v:\n",
    "            continue\n",
    "        sim = Jaccard(userHistory, itemsperuser[v])\n",
    "        if bestsim == None or sim > bestsim:\n",
    "            bestsim = sim\n",
    "    if bestsim == None:\n",
    "        return 0\n",
    "    return bestsim\n",
    "\n",
    "def rec(u):\n",
    "    history = itemsperuser[u]\n",
    "    bestitem = None\n",
    "    bestscore = None\n",
    "    for i in item_name:\n",
    "        if i in history:\n",
    "            continue\n",
    "        s = score(u, i, history)\n",
    "        if bestitem == None or s > bestscore:\n",
    "            bestitem = i\n",
    "            bestscore = s\n",
    "    return bestitem, bestscore"
   ]
  },
  {
   "cell_type": "code",
   "execution_count": 18,
   "id": "372ea561-d7a5-439e-9d31-c198d0d398c9",
   "metadata": {},
   "outputs": [
    {
     "name": "stdout",
     "output_type": "stream",
     "text": [
      "recommended - CryptoCurrency\n",
      "user history\n",
      "greentext\n",
      "meirl\n",
      "vegan\n",
      "jakeandamir\n"
     ]
    }
   ],
   "source": [
    "while True:\n",
    "    u = random.sample(users, 1)[0]\n",
    "    if len(itemsperuser[u]) > 3:\n",
    "        break\n",
    "item, similarity_score = rec(u)\n",
    "print(f'recommended - {item_name[item]}')\n",
    "print('user history')\n",
    "for item in itemsperuser[u]:\n",
    "    print(item_name[item])"
   ]
  },
  {
   "cell_type": "markdown",
   "id": "b8448770-b267-47de-80c1-f6ffa476b9b1",
   "metadata": {},
   "source": [
    "## Data Splitting Strategy"
   ]
  },
  {
   "cell_type": "code",
   "execution_count": 19,
   "id": "2ab9f94c-20cf-4dd9-816f-3dfd6ff21b68",
   "metadata": {},
   "outputs": [],
   "source": [
    "from datetime import datetime\n",
    "\n",
    "def unix_to_datetime(unixtime: int):\n",
    "    return datetime.fromtimestamp(unixtime).strftime('%Y-%m-%d-%H-%M-%S')\n",
    "\n",
    "def datetime_to_unix(date: datetime):\n",
    "    return int((datetime(*list(map(int, date.split('-')))) - datetime(1970, 1, 1)).total_seconds())"
   ]
  },
  {
   "cell_type": "code",
   "execution_count": 20,
   "id": "27fdf1ca-634e-467c-af02-36eaa0b61bde",
   "metadata": {},
   "outputs": [
    {
     "name": "stdout",
     "output_type": "stream",
     "text": [
      "No. of data points in the dataset: 314599\n"
     ]
    }
   ],
   "source": [
    "print(f'No. of data points in the dataset: {len(comments)}')"
   ]
  },
  {
   "cell_type": "code",
   "execution_count": 21,
   "id": "9550d8de-9555-4705-a64f-3a06a45eb25a",
   "metadata": {},
   "outputs": [
    {
     "name": "stdout",
     "output_type": "stream",
     "text": [
      "No. of users who have interacted with only one subreddit: 36738\n"
     ]
    }
   ],
   "source": [
    "users_with_one_subreddit = 0\n",
    "for user, items in itemsperuser.items():\n",
    "    if len(items) == 1:\n",
    "        users_with_one_subreddit+=1\n",
    "print(f'No. of users who have interacted with only one subreddit: {users_with_one_subreddit}')"
   ]
  },
  {
   "cell_type": "code",
   "execution_count": 22,
   "id": "bcb5ed20-b096-412c-b2da-d415500ab872",
   "metadata": {},
   "outputs": [
    {
     "data": {
      "text/plain": [
       "int"
      ]
     },
     "execution_count": 22,
     "metadata": {},
     "output_type": "execute_result"
    }
   ],
   "source": [
    "type(comments[0]['created_utc'])"
   ]
  },
  {
   "cell_type": "code",
   "execution_count": 205,
   "id": "28115364-7acd-41f1-b7eb-1b8be0541ff9",
   "metadata": {},
   "outputs": [
    {
     "name": "stderr",
     "output_type": "stream",
     "text": [
      "100%|███████████████████████████████████████████████████████████████████████████████████████████████████████████████| 314599/314599 [00:00<00:00, 786486.53it/s]\n"
     ]
    }
   ],
   "source": [
    "min_time = sys.maxsize\n",
    "max_time = 0\n",
    "for comment in tqdm(comments):\n",
    "    unixtime = comment['created_utc']\n",
    "    if unixtime < min_time:\n",
    "        min_time = unixtime\n",
    "    if unixtime > max_time:\n",
    "        max_time = unixtime"
   ]
  },
  {
   "cell_type": "code",
   "execution_count": 206,
   "id": "830b0f59-8ef5-4227-9f9e-e2f8f88aa7d2",
   "metadata": {},
   "outputs": [
    {
     "data": {
      "text/plain": [
       "1672541331"
      ]
     },
     "execution_count": 206,
     "metadata": {},
     "output_type": "execute_result"
    }
   ],
   "source": [
    "min_time"
   ]
  },
  {
   "cell_type": "code",
   "execution_count": 207,
   "id": "b1c71f55-c785-4334-90e3-a9175fddd5e7",
   "metadata": {},
   "outputs": [
    {
     "data": {
      "text/plain": [
       "1672547219"
      ]
     },
     "execution_count": 207,
     "metadata": {},
     "output_type": "execute_result"
    }
   ],
   "source": [
    "max_time"
   ]
  },
  {
   "cell_type": "code",
   "execution_count": 231,
   "id": "653eab37-95e9-46fc-aa04-6b0d98c4fa27",
   "metadata": {},
   "outputs": [
    {
     "name": "stdout",
     "output_type": "stream",
     "text": [
      "Earliest  date : 2022-12-31-23-48-51\n",
      "Latest date : 2023-01-01-01-26-59\n"
     ]
    }
   ],
   "source": [
    "print(f'Earliest  date : {unix_to_datetime(min_time)}')\n",
    "print(f'Latest date : {unix_to_datetime(max_time)}')"
   ]
  },
  {
   "cell_type": "code",
   "execution_count": 44,
   "id": "89b7a1c8-87da-414d-ad6f-19ab3c408e04",
   "metadata": {},
   "outputs": [],
   "source": [
    "def get_authors(data: list):\n",
    "    authors = []\n",
    "    for comment in comments:\n",
    "        author = comment['author_fullname']\n",
    "        if author in authors:\n",
    "            continue\n",
    "        authors.append(author)\n",
    "    return authors\n",
    "\n",
    "def random_split(data:list, ratio: float=0.25):\n",
    "    indices = range(len(data))\n",
    "    train_idx, test_idx = train_test_split(indices, test_size = ratio)\n",
    "    return train_idx, test_idx\n",
    "\n",
    "def chronological_split(data:list, date: int):\n",
    "    #todo\n",
    "    pass\n",
    "    \n",
    "def leave_one_out_split(data: list):\n",
    "    \n",
    "    # authors = get_authors(data)\n",
    "    author_idx = defaultdict(list)\n",
    "    train_idx, test_idx = [], []\n",
    "    for i, comment in tqdm(enumerate(comments)):\n",
    "        author = comment['author_fullname']\n",
    "        author_idx[author].append(i)\n",
    "    # print(author_idx[author])\n",
    "    for author, _idx in tqdm(author_idx.items()):\n",
    "        # print(_idx)\n",
    "        if len(_idx) >= 2:\n",
    "            train_idx.extend(_idx[:-1])\n",
    "            test_idx.append(_idx[-1])\n",
    "    return train_idx, test_idx"
   ]
  },
  {
   "cell_type": "code",
   "execution_count": 45,
   "id": "18efed6d-45fc-4044-9d64-1bd259226d04",
   "metadata": {},
   "outputs": [
    {
     "name": "stderr",
     "output_type": "stream",
     "text": [
      "314599it [00:00, 422251.95it/s]\n",
      "100%|██████████| 77996/77996 [00:00<00:00, 530778.46it/s]\n"
     ]
    }
   ],
   "source": [
    "# train_idx, test_idx = random_split(comments)\n",
    "train_idx, test_idx = leave_one_out_split(comments)"
   ]
  },
  {
   "cell_type": "code",
   "execution_count": 46,
   "id": "785cc69d-d5d5-4d37-9123-7550a8abf08b",
   "metadata": {},
   "outputs": [
    {
     "data": {
      "text/plain": [
       "236603"
      ]
     },
     "execution_count": 46,
     "metadata": {},
     "output_type": "execute_result"
    }
   ],
   "source": [
    "len(train_idx)"
   ]
  },
  {
   "cell_type": "code",
   "execution_count": 47,
   "id": "1f70b2f6-d10b-4e84-804b-6423ed9bd3e3",
   "metadata": {},
   "outputs": [
    {
     "data": {
      "text/plain": [
       "77996"
      ]
     },
     "execution_count": 47,
     "metadata": {},
     "output_type": "execute_result"
    }
   ],
   "source": [
    "len(test_idx)"
   ]
  },
  {
   "cell_type": "code",
   "execution_count": null,
   "id": "3e4d00cf-29a1-4543-8112-2801e53a31a8",
   "metadata": {},
   "outputs": [],
   "source": [
    "# transform data\n",
    "def filter_data(data: list, idx: list):\n",
    "    return data[idx]"
   ]
  }
 ],
 "metadata": {
  "kernelspec": {
   "display_name": "Python 3 (ipykernel)",
   "language": "python",
   "name": "python3"
  },
  "language_info": {
   "codemirror_mode": {
    "name": "ipython",
    "version": 3
   },
   "file_extension": ".py",
   "mimetype": "text/x-python",
   "name": "python",
   "nbconvert_exporter": "python",
   "pygments_lexer": "ipython3",
   "version": "3.8.13"
  }
 },
 "nbformat": 4,
 "nbformat_minor": 5
}
