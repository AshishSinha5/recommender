{
 "cells": [
  {
   "cell_type": "code",
   "execution_count": 1,
   "id": "1c621268-2256-485c-9ffc-190de1ae8533",
   "metadata": {},
   "outputs": [],
   "source": [
    "import numpy \n",
    "from sklearn.metrics import jaccard_score\n",
    "from collections import defaultdict\n",
    "import json\n",
    "import random"
   ]
  },
  {
   "cell_type": "code",
   "execution_count": 16,
   "id": "c37fa9c4-2673-47a2-a3c4-cdeab994f5a9",
   "metadata": {},
   "outputs": [],
   "source": [
    "import random"
   ]
  },
  {
   "cell_type": "code",
   "execution_count": 4,
   "id": "8e70499b-bd7f-48e0-9681-23b71ea860cc",
   "metadata": {},
   "outputs": [],
   "source": [
    "data_path = '../data/cleaned/RC_2023-01_2.json'\n",
    "with open(data_path, 'r') as fh:\n",
    "    comments = json.load(fh)"
   ]
  },
  {
   "cell_type": "markdown",
   "id": "50b37e5e-72ce-47d3-866b-8c6697cfec6d",
   "metadata": {},
   "source": [
    "### Simple Data Stats"
   ]
  },
  {
   "cell_type": "code",
   "execution_count": 7,
   "id": "5e642016-2273-4f63-97ab-c5fb023790a7",
   "metadata": {},
   "outputs": [
    {
     "name": "stdout",
     "output_type": "stream",
     "text": [
      "No. of comments in the data - 407380\n"
     ]
    }
   ],
   "source": [
    "print(f'No. of comments in the data - {len(comments)}')"
   ]
  },
  {
   "cell_type": "code",
   "execution_count": 5,
   "id": "7c0fa8f3-a81c-44cb-b874-1fd15f3dab32",
   "metadata": {},
   "outputs": [
    {
     "name": "stdout",
     "output_type": "stream",
     "text": [
      "No. of unique subreddits : 6217\n"
     ]
    }
   ],
   "source": [
    "n_subreddit = len(set([comment['subreddit_id'] for comment in comments]))\n",
    "print(f'No. of unique subreddits : {n_subreddit}')"
   ]
  },
  {
   "cell_type": "code",
   "execution_count": 6,
   "id": "78e96b7c-264e-468e-9cfd-be90cb8882c1",
   "metadata": {},
   "outputs": [
    {
     "name": "stdout",
     "output_type": "stream",
     "text": [
      "No. of unique users : 194815\n"
     ]
    }
   ],
   "source": [
    "n_users = len(set([comment['author'] for comment in comments]))\n",
    "print(f'No. of unique users : {n_users}')"
   ]
  },
  {
   "cell_type": "markdown",
   "id": "eedaad8a-620e-4a86-b275-58c1e1aa3883",
   "metadata": {},
   "source": [
    "### Data Transformation"
   ]
  },
  {
   "cell_type": "code",
   "execution_count": 14,
   "id": "27796cbc-0847-400b-b32f-4f4929aa8b72",
   "metadata": {},
   "outputs": [],
   "source": [
    "usersperitem = defaultdict(set)\n",
    "itemsperuser = defaultdict(set)\n",
    "item_name = defaultdict()\n",
    "for comment in comments:\n",
    "    user = comment['author_fullname']\n",
    "    item = comment['subreddit_id']\n",
    "    item_name[item] = comment['subreddit']\n",
    "    usersperitem[item].add(user)\n",
    "    itemsperuser[user].add(item)"
   ]
  },
  {
   "cell_type": "code",
   "execution_count": 57,
   "id": "fbf1481d-b812-4834-9b75-e830319d7e98",
   "metadata": {},
   "outputs": [],
   "source": [
    "users = [u for u in itemsperuser]"
   ]
  },
  {
   "cell_type": "markdown",
   "id": "73eda9e2-7833-4601-8d9f-27f1d67319f0",
   "metadata": {},
   "source": [
    "### Jaccard Similarity"
   ]
  },
  {
   "cell_type": "code",
   "execution_count": 9,
   "id": "c82c7700-e154-4305-96f8-1612b4d56413",
   "metadata": {},
   "outputs": [],
   "source": [
    "def Jaccard(s1, s2):\n",
    "    numer = len(s1.intersection(s2))\n",
    "    denom = len(s1.union(s2))\n",
    "    if denom == 0:\n",
    "        return 0\n",
    "    return numer / denom"
   ]
  },
  {
   "cell_type": "code",
   "execution_count": 20,
   "id": "a77b385d-d410-4ef6-8471-46b4ab886743",
   "metadata": {},
   "outputs": [],
   "source": [
    "# Retrieve the most similar item based on jaccard similarity\n",
    "def mostSimilar(i, N):\n",
    "    similarities = []\n",
    "    users = usersperitem[i]\n",
    "    for i2 in usersperitem:\n",
    "        if i2 == i: continue\n",
    "        sim = Jaccard(users, usersperitem[i2])\n",
    "        #sim = Pearson(i, i2) # Could use alternate similarity metrics straightforwardly\n",
    "        similarities.append((sim,i2))\n",
    "    similarities.sort(reverse=True)\n",
    "    return similarities[:N]"
   ]
  },
  {
   "cell_type": "code",
   "execution_count": 140,
   "id": "f146306e-69a5-4523-902e-b0f2423fd7fb",
   "metadata": {},
   "outputs": [
    {
     "name": "stdout",
     "output_type": "stream",
     "text": [
      "WoWs_Legends\n",
      "0.017857142857142856 patientgamers\n",
      "0.0021551724137931034 wholesomememes\n",
      "0.000657030223390276 memes\n",
      "0.0 ShitpostBR\n",
      "0.0 CountryMusicStuff\n"
     ]
    }
   ],
   "source": [
    "idx = random.randint(0, len(comments))\n",
    "query = comments[idx]['subreddit_id']\n",
    "similar_items = mostSimilar(query, 5)\n",
    "# print(similar_items)\n",
    "print(item_name[query])\n",
    "for sim, _id in similar_items:\n",
    "    print(sim, item_name[_id])"
   ]
  },
  {
   "cell_type": "code",
   "execution_count": 68,
   "id": "1b17630d-7fc4-4615-9b8d-e3d22de56d01",
   "metadata": {},
   "outputs": [],
   "source": [
    "## Given a user find the subreddits to reccommend\n",
    "\n",
    "# 2: Jaccard similarity with most similar user who has consumed i\n",
    "def score(u, i, userHistory):\n",
    "    bestsim = None\n",
    "    for v in usersperitem[i]:\n",
    "        if u == v:\n",
    "            continue\n",
    "        sim = Jaccard(userHistory, itemsperuser[v])\n",
    "        if bestsim == None or sim > bestsim:\n",
    "            bestsim = sim\n",
    "    if bestsim == None:\n",
    "        return 0\n",
    "    return bestsim\n",
    "\n",
    "def rec(u):\n",
    "    history = itemsperuser[u]\n",
    "    bestitem = None\n",
    "    bestscore = None\n",
    "    for i in item_name:\n",
    "        if i in history:\n",
    "            continue\n",
    "        s = score(u, i, history)\n",
    "        if bestitem == None or s > bestscore:\n",
    "            bestitem = i\n",
    "            bestscore = s\n",
    "    return bestitem, bestscore"
   ]
  },
  {
   "cell_type": "code",
   "execution_count": 87,
   "id": "2ccfbfd4-5a1c-48a5-b380-0fb70e2b63a3",
   "metadata": {
    "tags": []
   },
   "outputs": [],
   "source": []
  },
  {
   "cell_type": "code",
   "execution_count": 135,
   "id": "372ea561-d7a5-439e-9d31-c198d0d398c9",
   "metadata": {},
   "outputs": [
    {
     "name": "stdout",
     "output_type": "stream",
     "text": [
      "recommended - wallstreetbets\n",
      "user history\n",
      "AndrewTateTalk\n",
      "relationship_advice\n",
      "Watches\n",
      "NorthCarolina\n"
     ]
    }
   ],
   "source": [
    "while True:\n",
    "    u = random.sample(users, 1)[0]\n",
    "    if len(itemsperuser[u]) > 3:\n",
    "        break\n",
    "item, similarity_score = rec(u)\n",
    "print(f'recommended - {item_name[item]}')\n",
    "print('user history')\n",
    "for item in itemsperuser[u]:\n",
    "    print(item_name[item])"
   ]
  },
  {
   "cell_type": "markdown",
   "id": "6420b10a-44e2-4026-9dcc-9a1d716be1e8",
   "metadata": {},
   "source": [
    "## Evaluating the model"
   ]
  },
  {
   "cell_type": "code",
   "execution_count": null,
   "id": "3e4d00cf-29a1-4543-8112-2801e53a31a8",
   "metadata": {},
   "outputs": [],
   "source": [
    "## Train Test Split "
   ]
  }
 ],
 "metadata": {
  "kernelspec": {
   "display_name": "Python 3 (ipykernel)",
   "language": "python",
   "name": "python3"
  },
  "language_info": {
   "codemirror_mode": {
    "name": "ipython",
    "version": 3
   },
   "file_extension": ".py",
   "mimetype": "text/x-python",
   "name": "python",
   "nbconvert_exporter": "python",
   "pygments_lexer": "ipython3",
   "version": "3.8.13"
  }
 },
 "nbformat": 4,
 "nbformat_minor": 5
}
