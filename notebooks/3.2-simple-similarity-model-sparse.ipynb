{
 "cells": [
  {
   "cell_type": "code",
   "execution_count": 1,
   "metadata": {},
   "outputs": [],
   "source": [
    "import numpy as np\n",
    "from sklearn.metrics import jaccard_score\n",
    "from collections import defaultdict\n",
    "import json\n",
    "import random\n",
    "from tqdm import tqdm\n",
    "from sklearn.model_selection import train_test_split\n",
    "import sys\n",
    "import random\n",
    "from operator import itemgetter"
   ]
  },
  {
   "cell_type": "code",
   "execution_count": 2,
   "metadata": {},
   "outputs": [],
   "source": [
    "from sklearn.preprocessing import LabelEncoder"
   ]
  },
  {
   "cell_type": "code",
   "execution_count": 3,
   "metadata": {},
   "outputs": [],
   "source": [
    "from scipy.sparse import csr_matrix"
   ]
  },
  {
   "cell_type": "code",
   "execution_count": 4,
   "metadata": {},
   "outputs": [],
   "source": [
    "data_path = '../data/cleaned/RC_2023-01_2.json'\n",
    "with open(data_path, 'r') as fh:\n",
    "    comments = json.load(fh)"
   ]
  },
  {
   "attachments": {},
   "cell_type": "markdown",
   "metadata": {},
   "source": [
    "### Simple Data Stats"
   ]
  },
  {
   "cell_type": "code",
   "execution_count": 5,
   "metadata": {},
   "outputs": [
    {
     "name": "stdout",
     "output_type": "stream",
     "text": [
      "No. of comments in the data - 314599\n",
      "No. of unique subreddits : 18645\n",
      "No. of unique users : 77996\n"
     ]
    }
   ],
   "source": [
    "print(f'No. of comments in the data - {len(comments)}')\n",
    "n_subreddit = len(set([comment['subreddit_id'] for comment in comments]))\n",
    "print(f'No. of unique subreddits : {n_subreddit}')\n",
    "n_users = len(set([comment['author'] for comment in comments]))\n",
    "print(f'No. of unique users : {n_users}')"
   ]
  },
  {
   "cell_type": "markdown",
   "metadata": {},
   "source": [
    "### Jaccard Similarity Model"
   ]
  },
  {
   "cell_type": "code",
   "execution_count": 15,
   "metadata": {},
   "outputs": [],
   "source": [
    "### Jaccard Similarity Model\n",
    "\n",
    "def Jaccard(s1: np.ndarray, s2: np.ndarray):\n",
    "    # numer = len(s1.intersection(s2))\n",
    "    # denom = len(s1.union(s2))\n",
    "    # if denom == 0:\n",
    "    #     return 0\n",
    "    # return numer / denom\n",
    "    numer = len(np.intersect1d(s1, s2))\n",
    "    denom = len(np.union1d(s1, s2))\n",
    "\n",
    "    # print(np.intersect1d(s1, s2))\n",
    "    # print(np.union1d(s1, s2))\n",
    "    if denom == 0:\n",
    "        return 0\n",
    "    return numer/denom"
   ]
  },
  {
   "cell_type": "code",
   "execution_count": 16,
   "metadata": {},
   "outputs": [
    {
     "data": {
      "text/plain": [
       "0.4"
      ]
     },
     "execution_count": 16,
     "metadata": {},
     "output_type": "execute_result"
    }
   ],
   "source": [
    "s1 = [1,2,2,3]\n",
    "s2 = [2,3,4, 5]\n",
    "\n",
    "Jaccard(s1, s2)"
   ]
  },
  {
   "cell_type": "markdown",
   "metadata": {},
   "source": [
    "### Sparse Representation of the data"
   ]
  },
  {
   "cell_type": "code",
   "execution_count": 18,
   "metadata": {},
   "outputs": [],
   "source": [
    "usersperitem = defaultdict(set)\n",
    "itemsperuser = defaultdict(set)\n",
    "item_name = defaultdict()\n",
    "for comment in comments:\n",
    "    user = comment['author_fullname']\n",
    "    item = comment['subreddit_id']\n",
    "    item_name[item] = comment['subreddit']\n",
    "    usersperitem[item].add(user)\n",
    "    itemsperuser[user].add(item)"
   ]
  },
  {
   "cell_type": "code",
   "execution_count": 19,
   "metadata": {},
   "outputs": [],
   "source": [
    "user_encoder = LabelEncoder().fit(list(itemsperuser.keys()))\n",
    "item_encoder = LabelEncoder().fit(list(usersperitem.keys()))"
   ]
  },
  {
   "cell_type": "code",
   "execution_count": 22,
   "metadata": {},
   "outputs": [
    {
     "name": "stderr",
     "output_type": "stream",
     "text": [
      "100%|██████████| 77996/77996 [00:00<00:00, 759975.22it/s]\n"
     ]
    }
   ],
   "source": [
    "# data : binary indicator whether user uses an item\n",
    "# idxptr : col index\n",
    "# indices : row index\n",
    "# create (n_item*n_user) sparse matrix each row represents one column and each column represents one user\n",
    "\n",
    "row_idx = []\n",
    "col_idx = []\n",
    "for user in tqdm(itemsperuser):\n",
    "    # user_idx = user_encoder.transform(user)\n",
    "    for item in itemsperuser[user]:\n",
    "        # item_idx = item_encoder.transform(item)\n",
    "        row_idx.append(item)\n",
    "        col_idx.append(user)"
   ]
  },
  {
   "cell_type": "code",
   "execution_count": 25,
   "metadata": {},
   "outputs": [],
   "source": [
    "col_idx = user_encoder.transform(np.array(col_idx))\n",
    "row_idx = item_encoder.transform(np.array(row_idx))"
   ]
  },
  {
   "cell_type": "code",
   "execution_count": 26,
   "metadata": {},
   "outputs": [],
   "source": [
    "data = np.ones_like(col_idx)"
   ]
  },
  {
   "cell_type": "code",
   "execution_count": 19,
   "metadata": {},
   "outputs": [
    {
     "data": {
      "text/plain": [
       "dtype('int64')"
      ]
     },
     "execution_count": 19,
     "metadata": {},
     "output_type": "execute_result"
    }
   ],
   "source": [
    "data.dtype"
   ]
  },
  {
   "cell_type": "code",
   "execution_count": 28,
   "metadata": {},
   "outputs": [],
   "source": [
    "# creating a user item interaction matrix \n",
    "# each row is an item\n",
    "# each column is a matrix\n",
    "user_item_interaction = csr_matrix((data, (row_idx, col_idx)))"
   ]
  },
  {
   "cell_type": "code",
   "execution_count": 29,
   "metadata": {},
   "outputs": [
    {
     "data": {
      "text/plain": [
       "(18645, 77996)"
      ]
     },
     "execution_count": 29,
     "metadata": {},
     "output_type": "execute_result"
    }
   ],
   "source": [
    "user_item_interaction.shape"
   ]
  },
  {
   "cell_type": "code",
   "execution_count": 30,
   "metadata": {},
   "outputs": [
    {
     "name": "stdout",
     "output_type": "stream",
     "text": [
      "98.6 µs ± 245 ns per loop (mean ± std. dev. of 7 runs, 10,000 loops each)\n"
     ]
    }
   ],
   "source": [
    "%%timeit\n",
    "# getting a users using a specific item (slice the matrix for a given row)\n",
    "item_idx = np.random.randint(0,len(usersperitem))\n",
    "user_item_interaction[item_idx].nonzero()"
   ]
  },
  {
   "cell_type": "code",
   "execution_count": 31,
   "metadata": {},
   "outputs": [
    {
     "name": "stdout",
     "output_type": "stream",
     "text": [
      "924 µs ± 5.23 µs per loop (mean ± std. dev. of 7 runs, 1,000 loops each)\n"
     ]
    }
   ],
   "source": [
    "%%timeit\n",
    "# getting a items using a specific user (slice the matrix for a given column)\n",
    "user_idx = np.random.randint(0,len(itemsperuser))\n",
    "user_item_interaction[:,user_idx].nonzero()"
   ]
  },
  {
   "cell_type": "code",
   "execution_count": 32,
   "metadata": {},
   "outputs": [],
   "source": [
    "num_items, num_users = user_item_interaction.shape"
   ]
  },
  {
   "attachments": {},
   "cell_type": "markdown",
   "metadata": {},
   "source": [
    "Slicing a column is ten times more costly than slicing rows in csr format\n",
    "- 98.4 µs ± 397 ns average for slicing rows\n",
    "- 929 µs ± 3.05 µs per loop for slicing columns"
   ]
  },
  {
   "cell_type": "code",
   "execution_count": 33,
   "metadata": {},
   "outputs": [
    {
     "name": "stdout",
     "output_type": "stream",
     "text": [
      "CPU times: user 6 µs, sys: 0 ns, total: 6 µs\n",
      "Wall time: 12.4 µs\n",
      "SelfAwarewolves\n",
      "---------------------------------\n",
      "HealthAnxiety\n",
      "cricutcrafting\n",
      "MaddenUltimateTeam\n",
      "NewToReddit\n",
      "EmilyInParis\n",
      "iamverybadass\n",
      "IRLgirls\n",
      "fashionhunters\n",
      "2022wrx\n",
      "Rateme\n"
     ]
    }
   ],
   "source": [
    "## finding most similar items based on user-item interaction using Jaccard Similarity metric\n",
    "%time\n",
    "random_item = np.random.randint(0, num_items)\n",
    "target_user_idx = user_item_interaction[random_item].nonzero()[1]\n",
    "sim = []\n",
    "for item_idx in range(num_items):\n",
    "    if item_idx == random_item:\n",
    "        continue\n",
    "    user_idx = user_item_interaction[item_idx].nonzero()[1]\n",
    "    idx_sim = Jaccard(user_idx, target_user_idx)\n",
    "    sim.append(idx_sim)  \n",
    "\n",
    "target_item_name = item_encoder.inverse_transform([random_item])\n",
    "print(item_name[target_item_name[0]])\n",
    "print('---------------------------------')\n",
    "top_items = np.argsort(sim)[::-1]\n",
    "top_item_names = item_encoder.inverse_transform(top_items[:10])\n",
    "for item in top_item_names:\n",
    "    print(item_name[item])\n",
    "    "
   ]
  },
  {
   "cell_type": "code",
   "execution_count": null,
   "metadata": {},
   "outputs": [],
   "source": [
    "# need to write the equivalent function for sparse matrices (vectorize the function)\n",
    "\n",
    "# def score(u, itemsperuser, userHistory, itemHistory):\n",
    "#     bestsim = None\n",
    "#     for v in itemHistory:\n",
    "#         if u == v:\n",
    "#             continue\n",
    "#         sim = Jaccard(userHistory, itemsperuser[v])\n",
    "#         if bestsim == None or sim > bestsim:\n",
    "#             bestsim = sim\n",
    "#     if bestsim == None:\n",
    "#         return 0\n",
    "#     return bestsim\n",
    "\n",
    "# def rec(u, itemsperuser, usersperitem):\n",
    "#     history = itemsperuser[u]\n",
    "#     bestitem = None\n",
    "#     bestscore = None\n",
    "#     for i in item_name:\n",
    "#         if i in history:\n",
    "#             continue\n",
    "#         s = score(u, itemsperuser, history, usersperitem[i])\n",
    "#         if bestitem == None or s > bestscore:\n",
    "#             bestitem = i\n",
    "#             bestscore = s\n",
    "#     return bestitem, bestscore\n",
    "\n",
    "def rec(u, user_item_interaction):\n",
    "    history = user_item_interaction[u].non_zero()\n",
    "    bestitem = None\n",
    "    bestscore = None\n",
    "    pass\n",
    "\n"
   ]
  },
  {
   "cell_type": "code",
   "execution_count": null,
   "metadata": {},
   "outputs": [],
   "source": [
    "# while True:\n",
    "#     u = random.sample(users, 1)[0]\n",
    "#     if len(items_per_user_train[u]) > 2:\n",
    "#         break\n",
    "# item, similarity_score = rec(u)\n",
    "# print(f'recommended - {item_name[item]}')\n",
    "# print('user history')\n",
    "# for item in items_per_user_train[u]:\n",
    "#     print(item_name[item])\n",
    "\n"
   ]
  }
 ],
 "metadata": {
  "kernelspec": {
   "display_name": "gml",
   "language": "python",
   "name": "python3"
  },
  "language_info": {
   "codemirror_mode": {
    "name": "ipython",
    "version": 3
   },
   "file_extension": ".py",
   "mimetype": "text/x-python",
   "name": "python",
   "nbconvert_exporter": "python",
   "pygments_lexer": "ipython3",
   "version": "3.8.13"
  },
  "orig_nbformat": 4
 },
 "nbformat": 4,
 "nbformat_minor": 2
}
