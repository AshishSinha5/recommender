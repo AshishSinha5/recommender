{
 "cells": [
  {
   "cell_type": "code",
   "execution_count": 2,
   "metadata": {},
   "outputs": [],
   "source": [
    "import numpy as np\n",
    "from sklearn.metrics import jaccard_score\n",
    "from collections import defaultdict\n",
    "import json\n",
    "import random\n",
    "from tqdm import tqdm\n",
    "from sklearn.model_selection import train_test_split\n",
    "import sys\n",
    "import random\n",
    "from operator import itemgetter"
   ]
  },
  {
   "cell_type": "code",
   "execution_count": 5,
   "metadata": {},
   "outputs": [],
   "source": [
    "from sklearn.preprocessing import LabelEncoder"
   ]
  },
  {
   "cell_type": "code",
   "execution_count": 13,
   "metadata": {},
   "outputs": [],
   "source": [
    "from scipy.sparse import csr_matrix"
   ]
  },
  {
   "cell_type": "code",
   "execution_count": 3,
   "metadata": {},
   "outputs": [],
   "source": [
    "data_path = '../data/cleaned/RC_2023-01_2.json'\n",
    "with open(data_path, 'r') as fh:\n",
    "    comments = json.load(fh)"
   ]
  },
  {
   "attachments": {},
   "cell_type": "markdown",
   "metadata": {},
   "source": [
    "### Simple Data Stats"
   ]
  },
  {
   "cell_type": "code",
   "execution_count": 4,
   "metadata": {},
   "outputs": [
    {
     "name": "stdout",
     "output_type": "stream",
     "text": [
      "No. of comments in the data - 314599\n",
      "No. of unique subreddits : 18645\n",
      "No. of unique users : 77996\n"
     ]
    }
   ],
   "source": [
    "print(f'No. of comments in the data - {len(comments)}')\n",
    "n_subreddit = len(set([comment['subreddit_id'] for comment in comments]))\n",
    "print(f'No. of unique subreddits : {n_subreddit}')\n",
    "n_users = len(set([comment['author'] for comment in comments]))\n",
    "print(f'No. of unique users : {n_users}')"
   ]
  },
  {
   "cell_type": "markdown",
   "metadata": {},
   "source": [
    "### Jaccard Similarity Model"
   ]
  },
  {
   "cell_type": "code",
   "execution_count": 49,
   "metadata": {},
   "outputs": [],
   "source": [
    "### Jaccard Similarity Model\n",
    "\n",
    "def Jaccard(s1: np.ndarray, s2: np.ndarray):\n",
    "    # numer = len(s1.intersection(s2))\n",
    "    # denom = len(s1.union(s2))\n",
    "    # if denom == 0:\n",
    "    #     return 0\n",
    "    # return numer / denom\n",
    "    numer = len(np.intersect1d(s1, s2))\n",
    "    denom = len(np.union1d(s1, s2))\n",
    "    if denom == 0:\n",
    "        return 0\n",
    "    return numer/denom"
   ]
  },
  {
   "cell_type": "code",
   "execution_count": 71,
   "metadata": {},
   "outputs": [
    {
     "data": {
      "text/plain": [
       "0.4"
      ]
     },
     "execution_count": 71,
     "metadata": {},
     "output_type": "execute_result"
    }
   ],
   "source": [
    "s1 = [1,2,3]\n",
    "s2 = [2,3,4, 5]\n",
    "\n",
    "Jaccard(s1, s2)"
   ]
  },
  {
   "cell_type": "code",
   "execution_count": 103,
   "metadata": {},
   "outputs": [
    {
     "data": {
      "text/plain": [
       "5"
      ]
     },
     "execution_count": 103,
     "metadata": {},
     "output_type": "execute_result"
    }
   ],
   "source": [
    "len(np.union1d(s1, s2))"
   ]
  },
  {
   "cell_type": "markdown",
   "metadata": {},
   "source": [
    "### Sparse Representation of the data"
   ]
  },
  {
   "cell_type": "code",
   "execution_count": 6,
   "metadata": {},
   "outputs": [],
   "source": [
    "usersperitem = defaultdict(set)\n",
    "itemsperuser = defaultdict(set)\n",
    "item_name = defaultdict()\n",
    "for comment in comments:\n",
    "    user = comment['author_fullname']\n",
    "    item = comment['subreddit_id']\n",
    "    item_name[item] = comment['subreddit']\n",
    "    usersperitem[item].add(user)\n",
    "    itemsperuser[user].add(item)"
   ]
  },
  {
   "cell_type": "code",
   "execution_count": 7,
   "metadata": {},
   "outputs": [],
   "source": [
    "user_encoder = LabelEncoder().fit(list(itemsperuser.keys()))\n",
    "item_encoder = LabelEncoder().fit(list(usersperitem.keys()))"
   ]
  },
  {
   "cell_type": "code",
   "execution_count": 9,
   "metadata": {},
   "outputs": [
    {
     "name": "stderr",
     "output_type": "stream",
     "text": [
      "100%|██████████| 77996/77996 [00:00<00:00, 411213.10it/s]\n"
     ]
    }
   ],
   "source": [
    "# data : binary indicator whether user uses an item\n",
    "# idxptr : col index\n",
    "# indices : row index\n",
    "# create (n_item*n_user) sparse matrix each row represents one column and each column represents one user\n",
    "\n",
    "row_idx = []\n",
    "col_idx = []\n",
    "for user in tqdm(itemsperuser):\n",
    "    # user_idx = user_encoder.transform(user)\n",
    "    for item in itemsperuser[user]:\n",
    "        # item_idx = item_encoder.transform(item)\n",
    "        row_idx.append(item)\n",
    "        col_idx.append(user)"
   ]
  },
  {
   "cell_type": "code",
   "execution_count": 10,
   "metadata": {},
   "outputs": [],
   "source": [
    "col_idx = user_encoder.transform(np.array(col_idx))\n",
    "row_idx = item_encoder.transform(np.array(row_idx))"
   ]
  },
  {
   "cell_type": "code",
   "execution_count": 12,
   "metadata": {},
   "outputs": [],
   "source": [
    "data = np.ones_like(col_idx)"
   ]
  },
  {
   "cell_type": "code",
   "execution_count": 19,
   "metadata": {},
   "outputs": [
    {
     "data": {
      "text/plain": [
       "dtype('int64')"
      ]
     },
     "execution_count": 19,
     "metadata": {},
     "output_type": "execute_result"
    }
   ],
   "source": [
    "data.dtype"
   ]
  },
  {
   "cell_type": "code",
   "execution_count": 33,
   "metadata": {},
   "outputs": [],
   "source": [
    "user_item_interaction = csr_matrix((data, (row_idx, col_idx)))"
   ]
  },
  {
   "cell_type": "code",
   "execution_count": 40,
   "metadata": {},
   "outputs": [
    {
     "data": {
      "text/plain": [
       "(18645, 77996)"
      ]
     },
     "execution_count": 40,
     "metadata": {},
     "output_type": "execute_result"
    }
   ],
   "source": [
    "user_item_interaction.shape"
   ]
  },
  {
   "cell_type": "code",
   "execution_count": 46,
   "metadata": {},
   "outputs": [
    {
     "name": "stdout",
     "output_type": "stream",
     "text": [
      "98.4 µs ± 397 ns per loop (mean ± std. dev. of 7 runs, 10,000 loops each)\n"
     ]
    }
   ],
   "source": [
    "%%timeit\n",
    "item_idx = np.random.randint(0,len(usersperitem))\n",
    "user_item_interaction[item_idx].nonzero()"
   ]
  },
  {
   "cell_type": "code",
   "execution_count": 47,
   "metadata": {},
   "outputs": [
    {
     "name": "stdout",
     "output_type": "stream",
     "text": [
      "929 µs ± 3.05 µs per loop (mean ± std. dev. of 7 runs, 1,000 loops each)\n"
     ]
    }
   ],
   "source": [
    "%%timeit\n",
    "user_idx = np.random.randint(0,len(itemsperuser))\n",
    "user_item_interaction[:,user_idx].nonzero()"
   ]
  },
  {
   "cell_type": "code",
   "execution_count": 48,
   "metadata": {},
   "outputs": [],
   "source": [
    "num_items, num_users = user_item_interaction.shape"
   ]
  },
  {
   "attachments": {},
   "cell_type": "markdown",
   "metadata": {},
   "source": [
    "Slicing a column is ten times more costly than slicing rows in csr format\n",
    "- 98.4 µs ± 397 ns average for slicing rows\n",
    "- 929 µs ± 3.05 µs per loop for slicing columns"
   ]
  },
  {
   "cell_type": "code",
   "execution_count": 114,
   "metadata": {},
   "outputs": [
    {
     "name": "stdout",
     "output_type": "stream",
     "text": [
      "CPU times: user 7 µs, sys: 0 ns, total: 7 µs\n",
      "Wall time: 17.2 µs\n",
      "holdmycatnip\n",
      "---------------------------------\n",
      "Possums\n",
      "StartledCats\n",
      "diabetes_t2\n",
      "CampingGear\n",
      "WestVirginia\n",
      "InternetIsBeautiful\n",
      "CorollaHatchback\n",
      "agedlikewine\n",
      "puffco\n",
      "worldnews\n"
     ]
    }
   ],
   "source": [
    "## finding most similar items based on user-item interaction using Jaccard Similarity metric\n",
    "%time\n",
    "random_item = np.random.randint(0, num_items)\n",
    "target_user_idx = user_item_interaction[random_item].nonzero()[1]\n",
    "sim = []\n",
    "for item_idx in range(num_items):\n",
    "    if item_idx == random_item:\n",
    "        continue\n",
    "    user_idx = user_item_interaction[item_idx].nonzero()[1]\n",
    "    idx_sim = Jaccard(user_idx, target_user_idx)\n",
    "    sim.append(idx_sim)  \n",
    "\n",
    "target_item_name = item_encoder.inverse_transform([random_item])\n",
    "print(item_name[target_item_name[0]])\n",
    "print('---------------------------------')\n",
    "top_items = np.argsort(sim)[::-1]\n",
    "top_item_names = item_encoder.inverse_transform(top_items[:10])\n",
    "for item in top_item_names:\n",
    "    print(item_name[item])\n",
    "    "
   ]
  },
  {
   "cell_type": "code",
   "execution_count": 101,
   "metadata": {},
   "outputs": [
    {
     "data": {
      "text/plain": [
       "array([20591, 22661, 48101, 66626], dtype=int32)"
      ]
     },
     "execution_count": 101,
     "metadata": {},
     "output_type": "execute_result"
    }
   ],
   "source": [
    "target_user_idx"
   ]
  },
  {
   "cell_type": "code",
   "execution_count": 96,
   "metadata": {},
   "outputs": [
    {
     "name": "stdout",
     "output_type": "stream",
     "text": [
      "recruiting\n"
     ]
    }
   ],
   "source": []
  },
  {
   "cell_type": "code",
   "execution_count": 97,
   "metadata": {},
   "outputs": [
    {
     "name": "stdout",
     "output_type": "stream",
     "text": [
      "MemesEnEspanol\n",
      "enlistedgame\n",
      "TouhouArt\n",
      "disablednudes\n",
      "BBWnThiccness\n",
      "MurderedByWords\n",
      "wholesomegifs\n",
      "blondegirlsfucking\n",
      "Isekai\n",
      "AfterPrisonShow\n"
     ]
    }
   ],
   "source": []
  },
  {
   "cell_type": "code",
   "execution_count": null,
   "metadata": {},
   "outputs": [],
   "source": []
  }
 ],
 "metadata": {
  "kernelspec": {
   "display_name": "gml",
   "language": "python",
   "name": "python3"
  },
  "language_info": {
   "codemirror_mode": {
    "name": "ipython",
    "version": 3
   },
   "file_extension": ".py",
   "mimetype": "text/x-python",
   "name": "python",
   "nbconvert_exporter": "python",
   "pygments_lexer": "ipython3",
   "version": "3.8.13"
  },
  "orig_nbformat": 4
 },
 "nbformat": 4,
 "nbformat_minor": 2
}
