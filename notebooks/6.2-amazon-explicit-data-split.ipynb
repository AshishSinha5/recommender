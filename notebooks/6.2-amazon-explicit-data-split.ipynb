{
 "cells": [
  {
   "cell_type": "code",
   "execution_count": 9,
   "id": "9c5dcd5d-0ccd-4b7c-8236-a08853ef600c",
   "metadata": {},
   "outputs": [],
   "source": [
    "import argparse\n",
    "import csv\n",
    "import gzip\n",
    "from typing import List\n",
    "from ast import literal_eval\n",
    "from pathlib import Path\n",
    "import numpy as np\n",
    "import pandas as pd\n",
    "from pandas.api.types import is_object_dtype\n",
    "from pprint import pprint\n",
    "from tqdm import tqdm"
   ]
  },
  {
   "cell_type": "code",
   "execution_count": 10,
   "id": "db5ee3f4-733f-4a4e-a840-c926274f98ca",
   "metadata": {},
   "outputs": [],
   "source": [
    "import networkx\n",
    "import scipy as sc"
   ]
  },
  {
   "cell_type": "code",
   "execution_count": 11,
   "id": "4ae691b4-bd67-4c7b-baf2-0a4719d0ac38",
   "metadata": {},
   "outputs": [],
   "source": [
    "from sklearn.model_selection import train_test_split"
   ]
  },
  {
   "cell_type": "code",
   "execution_count": 12,
   "id": "683662ba-936d-4564-a882-09faef0d82ed",
   "metadata": {},
   "outputs": [],
   "source": [
    "read_path = '../data/interim/meta_Electronics_edges.csv'\n",
    "df = pd.read_csv(read_path)"
   ]
  },
  {
   "cell_type": "code",
   "execution_count": 13,
   "id": "2afa5e4a-7b51-4442-99ac-9cfcfe0af470",
   "metadata": {},
   "outputs": [],
   "source": [
    "df.rename(columns = {'product1.1' : 'product2'}, inplace = True)"
   ]
  },
  {
   "cell_type": "code",
   "execution_count": 14,
   "id": "a8be1eda-32f5-4da8-b2de-ba5cb8acabff",
   "metadata": {},
   "outputs": [
    {
     "data": {
      "text/html": [
       "<div>\n",
       "<style scoped>\n",
       "    .dataframe tbody tr th:only-of-type {\n",
       "        vertical-align: middle;\n",
       "    }\n",
       "\n",
       "    .dataframe tbody tr th {\n",
       "        vertical-align: top;\n",
       "    }\n",
       "\n",
       "    .dataframe thead th {\n",
       "        text-align: right;\n",
       "    }\n",
       "</style>\n",
       "<table border=\"1\" class=\"dataframe\">\n",
       "  <thead>\n",
       "    <tr style=\"text-align: right;\">\n",
       "      <th></th>\n",
       "      <th>product1</th>\n",
       "      <th>product2</th>\n",
       "      <th>weight</th>\n",
       "      <th>product_pair</th>\n",
       "    </tr>\n",
       "  </thead>\n",
       "  <tbody>\n",
       "    <tr>\n",
       "      <th>0</th>\n",
       "      <td>0060009810</td>\n",
       "      <td>039914157x</td>\n",
       "      <td>1.0</td>\n",
       "      <td>0060009810|039914157x</td>\n",
       "    </tr>\n",
       "    <tr>\n",
       "      <th>1</th>\n",
       "      <td>0060009810</td>\n",
       "      <td>0425167798</td>\n",
       "      <td>1.0</td>\n",
       "      <td>0060009810|0425167798</td>\n",
       "    </tr>\n",
       "    <tr>\n",
       "      <th>2</th>\n",
       "      <td>0060219602</td>\n",
       "      <td>0060219394</td>\n",
       "      <td>1.5</td>\n",
       "      <td>0060219602|0060219394</td>\n",
       "    </tr>\n",
       "    <tr>\n",
       "      <th>3</th>\n",
       "      <td>0060219602</td>\n",
       "      <td>0060219475</td>\n",
       "      <td>0.5</td>\n",
       "      <td>0060219602|0060219475</td>\n",
       "    </tr>\n",
       "    <tr>\n",
       "      <th>4</th>\n",
       "      <td>0060219602</td>\n",
       "      <td>0060219521</td>\n",
       "      <td>1.5</td>\n",
       "      <td>0060219602|0060219521</td>\n",
       "    </tr>\n",
       "  </tbody>\n",
       "</table>\n",
       "</div>"
      ],
      "text/plain": [
       "     product1    product2  weight           product_pair\n",
       "0  0060009810  039914157x     1.0  0060009810|039914157x\n",
       "1  0060009810  0425167798     1.0  0060009810|0425167798\n",
       "2  0060219602  0060219394     1.5  0060219602|0060219394\n",
       "3  0060219602  0060219475     0.5  0060219602|0060219475\n",
       "4  0060219602  0060219521     1.5  0060219602|0060219521"
      ]
     },
     "execution_count": 14,
     "metadata": {},
     "output_type": "execute_result"
    }
   ],
   "source": [
    "df.head()"
   ]
  },
  {
   "cell_type": "code",
   "execution_count": 15,
   "id": "e83fa55b-547f-4889-aa01-989dc77f736a",
   "metadata": {},
   "outputs": [],
   "source": [
    "val_prop = 0.25"
   ]
  },
  {
   "cell_type": "code",
   "execution_count": 16,
   "id": "9b32e850-2d34-42d8-9576-3ea72ccc3db2",
   "metadata": {},
   "outputs": [
    {
     "name": "stdout",
     "output_type": "stream",
     "text": [
      "No. of samples in validation = 720499\n"
     ]
    }
   ],
   "source": [
    "n_val_samples = int(val_prop*df.shape[0])\n",
    "print(f'No. of samples in validation = {n_val_samples}')"
   ]
  },
  {
   "cell_type": "code",
   "execution_count": 17,
   "id": "efb98166-1f41-4866-b936-55af388258a0",
   "metadata": {},
   "outputs": [],
   "source": [
    "train, val = train_test_split(df, test_size=int(n_val_samples), random_state=42)"
   ]
  },
  {
   "cell_type": "code",
   "execution_count": 18,
   "id": "00ce1114-e1ae-4977-a787-37b026696e29",
   "metadata": {},
   "outputs": [
    {
     "name": "stdout",
     "output_type": "stream",
     "text": [
      "No. of valid product pair - 2881996\n"
     ]
    }
   ],
   "source": [
    "valid_product_pairs = set(df['product_pair'])\n",
    "print(f'No. of valid product pair - {len(valid_product_pairs)}')"
   ]
  },
  {
   "cell_type": "code",
   "execution_count": 19,
   "id": "353bcc4e-3775-4f03-95ec-7ac1944ab5a4",
   "metadata": {},
   "outputs": [],
   "source": [
    "val_product_arr = np.array(list(set(val['product1']).union(set(val['product2']))))"
   ]
  },
  {
   "cell_type": "code",
   "execution_count": 20,
   "id": "35e18525-363d-449c-a9d2-09bfa75e7ee7",
   "metadata": {},
   "outputs": [],
   "source": [
    "def get_sample(item_array, n_iter = None, sample_size = 2):\n",
    "    n = len(item_array)\n",
    "    start_idx = (n_iter * sample_size) % n\n",
    "    if (start_idx + sample_size >= n) or (start_idx <= sample_size):\n",
    "        np.random.shuffle(item_array)\n",
    "    \n",
    "    return item_array[start_idx:start_idx + sample_size]\n",
    "    \n",
    "    \n",
    "def collect_samples(item_array, sample_size, n_samples):\n",
    "    samples = []\n",
    "    for i in range(0, n_samples):\n",
    "        if i % 1000000 == 0:\n",
    "            print(f'Neg Sample : {i}')\n",
    "        sample = get_sample(item_array, n_iter = i, sample_size = sample_size)\n",
    "        samples.append(sample)\n",
    "    return samples\n",
    "\n",
    "def create_product_df(df, col_list):\n",
    "    pairs = df[col_list].values\n",
    "    pairs.sort(axis = 1)\n",
    "    df['product_pair'] =['|'.join(arr) for arr in pairs]\n",
    "    \n",
    "    return df\n",
    "\n",
    "def combine_val_and_neg_edges(val, neg_samples):\n",
    "    neg_samples['edge'] = 0\n",
    "    val['edge'] = 1\n",
    "    \n",
    "    VAL_COLS = ['product1', 'product2', 'edge']\n",
    "    neg_samples = neg_samples[VAL_COLS]\n",
    "    val = val[VAL_COLS]\n",
    "    \n",
    "    val = pd.concat([val, neg_samples])\n",
    "    \n",
    "    print(f'Final val df size = {val.shape[0]}')\n",
    "    \n",
    "    return val"
   ]
  },
  {
   "cell_type": "code",
   "execution_count": 21,
   "id": "36128e26-a481-42fb-a5be-abd53cc08a75",
   "metadata": {},
   "outputs": [
    {
     "name": "stdout",
     "output_type": "stream",
     "text": [
      "Neg Sample : 0\n"
     ]
    }
   ],
   "source": [
    "neg_samples = collect_samples(val_product_arr, \n",
    "                              sample_size=2, \n",
    "                              n_samples=int(1.1 * n_val_samples))\n",
    "neg_samples_df = pd.DataFrame(neg_samples, columns=['product1', 'product2'])\n",
    "neg_samples_df.dropna(inplace=True)"
   ]
  },
  {
   "cell_type": "code",
   "execution_count": 22,
   "id": "9c5c15e0-ef3a-43da-8bbc-068a9031128d",
   "metadata": {},
   "outputs": [],
   "source": [
    "neg_samples_df = create_product_df(neg_samples_df, \n",
    "                                   col_list = ['product1', 'product2'])"
   ]
  },
  {
   "cell_type": "code",
   "execution_count": 23,
   "id": "c4862e89-b7fb-4aa1-bd53-2be75f569293",
   "metadata": {},
   "outputs": [
    {
     "name": "stdout",
     "output_type": "stream",
     "text": [
      "Size of the negative sample df = 792545\n"
     ]
    }
   ],
   "source": [
    "print(f'Size of the negative sample df = {neg_samples_df.shape[0]}')"
   ]
  },
  {
   "cell_type": "code",
   "execution_count": 24,
   "id": "744002c4-df5d-49fd-b179-4dde7f1da1ef",
   "metadata": {},
   "outputs": [
    {
     "name": "stdout",
     "output_type": "stream",
     "text": [
      "Size of negative samples df after removing valid pairs = 792508\n"
     ]
    }
   ],
   "source": [
    "neg_samples_df = neg_samples_df[~neg_samples_df['product_pair'].isin(valid_product_pairs)]\n",
    "print(f'Size of negative samples df after removing valid pairs = {neg_samples_df.shape[0]}')"
   ]
  },
  {
   "cell_type": "code",
   "execution_count": 25,
   "id": "d2ec79de-cebb-444a-833e-d6c95e7a94a8",
   "metadata": {},
   "outputs": [],
   "source": [
    "neg_samples_df = neg_samples_df.iloc[:n_val_samples].copy()"
   ]
  },
  {
   "cell_type": "code",
   "execution_count": 26,
   "id": "cf788f6c-3df6-407f-984d-433b22d4551d",
   "metadata": {},
   "outputs": [
    {
     "name": "stdout",
     "output_type": "stream",
     "text": [
      "Final val df size = 1440998\n"
     ]
    },
    {
     "name": "stderr",
     "output_type": "stream",
     "text": [
      "/tmp/ipykernel_22487/3639360503.py:28: SettingWithCopyWarning: \n",
      "A value is trying to be set on a copy of a slice from a DataFrame.\n",
      "Try using .loc[row_indexer,col_indexer] = value instead\n",
      "\n",
      "See the caveats in the documentation: https://pandas.pydata.org/pandas-docs/stable/user_guide/indexing.html#returning-a-view-versus-a-copy\n",
      "  val['edge'] = 1\n"
     ]
    }
   ],
   "source": [
    "val = combine_val_and_neg_edges(val, neg_samples_df)"
   ]
  },
  {
   "cell_type": "code",
   "execution_count": 27,
   "id": "57c172d1-64b3-4c78-aa05-4c3f667c2808",
   "metadata": {},
   "outputs": [
    {
     "data": {
      "text/html": [
       "<div>\n",
       "<style scoped>\n",
       "    .dataframe tbody tr th:only-of-type {\n",
       "        vertical-align: middle;\n",
       "    }\n",
       "\n",
       "    .dataframe tbody tr th {\n",
       "        vertical-align: top;\n",
       "    }\n",
       "\n",
       "    .dataframe thead th {\n",
       "        text-align: right;\n",
       "    }\n",
       "</style>\n",
       "<table border=\"1\" class=\"dataframe\">\n",
       "  <thead>\n",
       "    <tr style=\"text-align: right;\">\n",
       "      <th></th>\n",
       "      <th>product1</th>\n",
       "      <th>product2</th>\n",
       "      <th>edge</th>\n",
       "    </tr>\n",
       "  </thead>\n",
       "  <tbody>\n",
       "    <tr>\n",
       "      <th>1414411</th>\n",
       "      <td>b00mmzfrhw</td>\n",
       "      <td>b01mzyoj76</td>\n",
       "      <td>1</td>\n",
       "    </tr>\n",
       "    <tr>\n",
       "      <th>2080999</th>\n",
       "      <td>b014lrkdwm</td>\n",
       "      <td>b071hb4bpr</td>\n",
       "      <td>1</td>\n",
       "    </tr>\n",
       "    <tr>\n",
       "      <th>560068</th>\n",
       "      <td>b005l8vf3w</td>\n",
       "      <td>b00rkbb94s</td>\n",
       "      <td>1</td>\n",
       "    </tr>\n",
       "    <tr>\n",
       "      <th>2684943</th>\n",
       "      <td>b01es8uwfm</td>\n",
       "      <td>b00bd8i3ei</td>\n",
       "      <td>1</td>\n",
       "    </tr>\n",
       "    <tr>\n",
       "      <th>1918376</th>\n",
       "      <td>b00zw80dt8</td>\n",
       "      <td>b01eaiv5h4</td>\n",
       "      <td>1</td>\n",
       "    </tr>\n",
       "  </tbody>\n",
       "</table>\n",
       "</div>"
      ],
      "text/plain": [
       "           product1    product2  edge\n",
       "1414411  b00mmzfrhw  b01mzyoj76     1\n",
       "2080999  b014lrkdwm  b071hb4bpr     1\n",
       "560068   b005l8vf3w  b00rkbb94s     1\n",
       "2684943  b01es8uwfm  b00bd8i3ei     1\n",
       "1918376  b00zw80dt8  b01eaiv5h4     1"
      ]
     },
     "execution_count": 27,
     "metadata": {},
     "output_type": "execute_result"
    }
   ],
   "source": [
    "val.head()"
   ]
  },
  {
   "cell_type": "code",
   "execution_count": 28,
   "id": "1b9d74e6-f769-4fbb-97d9-7e4d114a0369",
   "metadata": {},
   "outputs": [
    {
     "data": {
      "text/html": [
       "<div>\n",
       "<style scoped>\n",
       "    .dataframe tbody tr th:only-of-type {\n",
       "        vertical-align: middle;\n",
       "    }\n",
       "\n",
       "    .dataframe tbody tr th {\n",
       "        vertical-align: top;\n",
       "    }\n",
       "\n",
       "    .dataframe thead th {\n",
       "        text-align: right;\n",
       "    }\n",
       "</style>\n",
       "<table border=\"1\" class=\"dataframe\">\n",
       "  <thead>\n",
       "    <tr style=\"text-align: right;\">\n",
       "      <th></th>\n",
       "      <th>product1</th>\n",
       "      <th>product2</th>\n",
       "      <th>weight</th>\n",
       "      <th>product_pair</th>\n",
       "    </tr>\n",
       "  </thead>\n",
       "  <tbody>\n",
       "    <tr>\n",
       "      <th>1033747</th>\n",
       "      <td>b00f37z8q6</td>\n",
       "      <td>b00priwjay</td>\n",
       "      <td>1.0</td>\n",
       "      <td>b00f37z8q6|b00priwjay</td>\n",
       "    </tr>\n",
       "    <tr>\n",
       "      <th>573036</th>\n",
       "      <td>b005p9g7dk</td>\n",
       "      <td>b00fzpdg1k</td>\n",
       "      <td>1.0</td>\n",
       "      <td>b005p9g7dk|b00fzpdg1k</td>\n",
       "    </tr>\n",
       "    <tr>\n",
       "      <th>396472</th>\n",
       "      <td>b003sw13wq</td>\n",
       "      <td>b004yi8eso</td>\n",
       "      <td>1.0</td>\n",
       "      <td>b003sw13wq|b004yi8eso</td>\n",
       "    </tr>\n",
       "    <tr>\n",
       "      <th>473085</th>\n",
       "      <td>b004rym2he</td>\n",
       "      <td>b00v7cbh6g</td>\n",
       "      <td>1.0</td>\n",
       "      <td>b004rym2he|b00v7cbh6g</td>\n",
       "    </tr>\n",
       "    <tr>\n",
       "      <th>1186362</th>\n",
       "      <td>b00idan8h6</td>\n",
       "      <td>b009tnagda</td>\n",
       "      <td>1.0</td>\n",
       "      <td>b00idan8h6|b009tnagda</td>\n",
       "    </tr>\n",
       "  </tbody>\n",
       "</table>\n",
       "</div>"
      ],
      "text/plain": [
       "           product1    product2  weight           product_pair\n",
       "1033747  b00f37z8q6  b00priwjay     1.0  b00f37z8q6|b00priwjay\n",
       "573036   b005p9g7dk  b00fzpdg1k     1.0  b005p9g7dk|b00fzpdg1k\n",
       "396472   b003sw13wq  b004yi8eso     1.0  b003sw13wq|b004yi8eso\n",
       "473085   b004rym2he  b00v7cbh6g     1.0  b004rym2he|b00v7cbh6g\n",
       "1186362  b00idan8h6  b009tnagda     1.0  b00idan8h6|b009tnagda"
      ]
     },
     "execution_count": 28,
     "metadata": {},
     "output_type": "execute_result"
    }
   ],
   "source": [
    "train.head()"
   ]
  },
  {
   "cell_type": "code",
   "execution_count": 29,
   "id": "3edd9caa-0407-45e5-a8e0-a99ba422159b",
   "metadata": {},
   "outputs": [],
   "source": [
    "train = train[['product1', 'product2', 'weight']].copy()"
   ]
  },
  {
   "cell_type": "code",
   "execution_count": 30,
   "id": "84826fd0-c242-461c-a2b3-0911ac56cfb6",
   "metadata": {},
   "outputs": [
    {
     "name": "stdout",
     "output_type": "stream",
     "text": [
      "Train size = 2161497\n",
      "Val Size = 1440998\n"
     ]
    }
   ],
   "source": [
    "print(f'Train size = {train.shape[0]}')\n",
    "print(f'Val Size = {val.shape[0]}')"
   ]
  },
  {
   "cell_type": "code",
   "execution_count": 31,
   "id": "811e70a1-9e5e-48e5-92f6-e5c224ee6c30",
   "metadata": {},
   "outputs": [],
   "source": [
    "input_filename = Path(read_path).resolve().stem"
   ]
  },
  {
   "cell_type": "code",
   "execution_count": 32,
   "id": "4b0e25ad-6329-481f-8d11-a7309c96822c",
   "metadata": {},
   "outputs": [],
   "source": [
    "train.to_csv(f'../data/interim/{input_filename}_train.csv', index = False)\n",
    "val.to_csv(f'../data/interim/{input_filename}_val.csv', index = False)\n",
    "\n",
    "train.to_csv(f'../data/interim/{input_filename}_train.edgelist', \n",
    "             sep = ' ',\n",
    "             index = False,\n",
    "             header = False)"
   ]
  },
  {
   "cell_type": "code",
   "execution_count": null,
   "id": "0ec862a0-3beb-4fb8-83a4-04f63fd170a2",
   "metadata": {},
   "outputs": [],
   "source": []
  }
 ],
 "metadata": {
  "kernelspec": {
   "display_name": "Python [conda env:gml]",
   "language": "python",
   "name": "conda-env-gml-py"
  },
  "language_info": {
   "codemirror_mode": {
    "name": "ipython",
    "version": 3
   },
   "file_extension": ".py",
   "mimetype": "text/x-python",
   "name": "python",
   "nbconvert_exporter": "python",
   "pygments_lexer": "ipython3",
   "version": "3.8.13"
  }
 },
 "nbformat": 4,
 "nbformat_minor": 5
}
