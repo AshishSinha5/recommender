{
 "cells": [
  {
   "cell_type": "code",
   "execution_count": 3,
   "id": "9c5dcd5d-0ccd-4b7c-8236-a08853ef600c",
   "metadata": {},
   "outputs": [],
   "source": [
    "import argparse\n",
    "import csv\n",
    "import gzip\n",
    "from typing import List\n",
    "from ast import literal_eval\n",
    "\n",
    "import numpy as np\n",
    "import pandas as pd\n",
    "from pandas.api.types import is_object_dtype\n",
    "from pprint import pprint\n",
    "from tqdm import tqdm"
   ]
  },
  {
   "cell_type": "code",
   "execution_count": 4,
   "id": "db5ee3f4-733f-4a4e-a840-c926274f98ca",
   "metadata": {},
   "outputs": [],
   "source": [
    "import networkx\n",
    "import scipy as sc"
   ]
  },
  {
   "cell_type": "code",
   "execution_count": 9,
   "id": "4ae691b4-bd67-4c7b-baf2-0a4719d0ac38",
   "metadata": {},
   "outputs": [],
   "source": [
    "from sklearn.model_selection import train_test_split"
   ]
  },
  {
   "cell_type": "code",
   "execution_count": 14,
   "id": "683662ba-936d-4564-a882-09faef0d82ed",
   "metadata": {},
   "outputs": [],
   "source": [
    "read_path = '../data/interim/meta_Electronics_edges.csv'\n",
    "df = pd.read_csv(read_path)"
   ]
  },
  {
   "cell_type": "code",
   "execution_count": 15,
   "id": "2afa5e4a-7b51-4442-99ac-9cfcfe0af470",
   "metadata": {},
   "outputs": [],
   "source": [
    "df.rename(columns = {'product1.1' : 'product2'}, inplace = True)"
   ]
  },
  {
   "cell_type": "code",
   "execution_count": 16,
   "id": "a8be1eda-32f5-4da8-b2de-ba5cb8acabff",
   "metadata": {},
   "outputs": [
    {
     "data": {
      "text/html": [
       "<div>\n",
       "<style scoped>\n",
       "    .dataframe tbody tr th:only-of-type {\n",
       "        vertical-align: middle;\n",
       "    }\n",
       "\n",
       "    .dataframe tbody tr th {\n",
       "        vertical-align: top;\n",
       "    }\n",
       "\n",
       "    .dataframe thead th {\n",
       "        text-align: right;\n",
       "    }\n",
       "</style>\n",
       "<table border=\"1\" class=\"dataframe\">\n",
       "  <thead>\n",
       "    <tr style=\"text-align: right;\">\n",
       "      <th></th>\n",
       "      <th>product1</th>\n",
       "      <th>product2</th>\n",
       "      <th>weight</th>\n",
       "      <th>product_pair</th>\n",
       "    </tr>\n",
       "  </thead>\n",
       "  <tbody>\n",
       "    <tr>\n",
       "      <th>0</th>\n",
       "      <td>0060009810</td>\n",
       "      <td>0060009810</td>\n",
       "      <td>1.0</td>\n",
       "      <td>0060009810|039914157x</td>\n",
       "    </tr>\n",
       "    <tr>\n",
       "      <th>1</th>\n",
       "      <td>0060009810</td>\n",
       "      <td>0060009810</td>\n",
       "      <td>1.0</td>\n",
       "      <td>0060009810|0425167798</td>\n",
       "    </tr>\n",
       "    <tr>\n",
       "      <th>2</th>\n",
       "      <td>0060219602</td>\n",
       "      <td>0060219602</td>\n",
       "      <td>1.5</td>\n",
       "      <td>0060219602|0060219394</td>\n",
       "    </tr>\n",
       "    <tr>\n",
       "      <th>3</th>\n",
       "      <td>0060219602</td>\n",
       "      <td>0060219602</td>\n",
       "      <td>0.5</td>\n",
       "      <td>0060219602|0060219475</td>\n",
       "    </tr>\n",
       "    <tr>\n",
       "      <th>4</th>\n",
       "      <td>0060219602</td>\n",
       "      <td>0060219602</td>\n",
       "      <td>1.5</td>\n",
       "      <td>0060219602|0060219521</td>\n",
       "    </tr>\n",
       "  </tbody>\n",
       "</table>\n",
       "</div>"
      ],
      "text/plain": [
       "     product1    product2  weight           product_pair\n",
       "0  0060009810  0060009810     1.0  0060009810|039914157x\n",
       "1  0060009810  0060009810     1.0  0060009810|0425167798\n",
       "2  0060219602  0060219602     1.5  0060219602|0060219394\n",
       "3  0060219602  0060219602     0.5  0060219602|0060219475\n",
       "4  0060219602  0060219602     1.5  0060219602|0060219521"
      ]
     },
     "execution_count": 16,
     "metadata": {},
     "output_type": "execute_result"
    }
   ],
   "source": [
    "df.head()"
   ]
  },
  {
   "cell_type": "code",
   "execution_count": 17,
   "id": "e83fa55b-547f-4889-aa01-989dc77f736a",
   "metadata": {},
   "outputs": [],
   "source": [
    "val_prop = 0.25"
   ]
  },
  {
   "cell_type": "code",
   "execution_count": 18,
   "id": "9b32e850-2d34-42d8-9576-3ea72ccc3db2",
   "metadata": {},
   "outputs": [
    {
     "name": "stdout",
     "output_type": "stream",
     "text": [
      "No. of samples in validation = 720499\n"
     ]
    }
   ],
   "source": [
    "n_val_samples = int(val_prop*df.shape[0])\n",
    "print(f'No. of samples in validation = {n_val_samples}')"
   ]
  },
  {
   "cell_type": "code",
   "execution_count": 19,
   "id": "efb98166-1f41-4866-b936-55af388258a0",
   "metadata": {},
   "outputs": [],
   "source": [
    "train, val = train_test_split(df, test_size=int(n_val_samples), random_state=42)"
   ]
  },
  {
   "cell_type": "code",
   "execution_count": 20,
   "id": "00ce1114-e1ae-4977-a787-37b026696e29",
   "metadata": {},
   "outputs": [
    {
     "name": "stdout",
     "output_type": "stream",
     "text": [
      "No. of valid product pair - 2881996\n"
     ]
    }
   ],
   "source": [
    "valid_product_pairs = set(df['product_pair'])\n",
    "print(f'No. of valid product pair - {len(valid_product_pairs)}')"
   ]
  },
  {
   "cell_type": "code",
   "execution_count": 21,
   "id": "353bcc4e-3775-4f03-95ec-7ac1944ab5a4",
   "metadata": {},
   "outputs": [],
   "source": [
    "val_product_arr = np.array(list(set(val['product1']).union(set(val['product2']))))"
   ]
  },
  {
   "cell_type": "code",
   "execution_count": 22,
   "id": "35e18525-363d-449c-a9d2-09bfa75e7ee7",
   "metadata": {},
   "outputs": [
    {
     "data": {
      "text/plain": [
       "array(['b003tfdolk', 'b00x47ur2m', 'b00ojnaxtm', ..., 'b01cfktrqk',\n",
       "       'b00bye98d6', 'b00p0fdi7m'], dtype='<U10')"
      ]
     },
     "execution_count": 22,
     "metadata": {},
     "output_type": "execute_result"
    }
   ],
   "source": [
    "def get_sample(item_array, n_iter = None, sample_size = 2):\n",
    "    pass\n",
    "def collect_samples(item_array, sample_size, n_samples):\n",
    "    samples = []\n",
    "    for i in range(0, n_samples):\n",
    "        if i % 1000000 == 0:\n",
    "            print(f'Neg Sample : {i}')\n",
    "        sample = get_sample(item_array, n_iter = i, sample_size = sample_size)\n",
    "        samples.append(sample)\n",
    "    return samples"
   ]
  },
  {
   "cell_type": "code",
   "execution_count": null,
   "id": "36128e26-a481-42fb-a5be-abd53cc08a75",
   "metadata": {},
   "outputs": [],
   "source": []
  }
 ],
 "metadata": {
  "kernelspec": {
   "display_name": "Python [conda env:gml]",
   "language": "python",
   "name": "conda-env-gml-py"
  },
  "language_info": {
   "codemirror_mode": {
    "name": "ipython",
    "version": 3
   },
   "file_extension": ".py",
   "mimetype": "text/x-python",
   "name": "python",
   "nbconvert_exporter": "python",
   "pygments_lexer": "ipython3",
   "version": "3.8.13"
  }
 },
 "nbformat": 4,
 "nbformat_minor": 5
}
