{
 "cells": [
  {
   "cell_type": "code",
   "execution_count": 1,
   "metadata": {},
   "outputs": [],
   "source": [
    "import numpy as np\n",
    "from sklearn.metrics import jaccard_score\n",
    "from collections import defaultdict\n",
    "import json\n",
    "import random\n",
    "from tqdm import tqdm\n",
    "from sklearn.model_selection import train_test_split\n",
    "import sys\n",
    "import random\n",
    "from operator import itemgetter\n",
    "import matplotlib.pyplot as plt\n",
    "plt.style.use('ggplot')"
   ]
  },
  {
   "cell_type": "code",
   "execution_count": 11,
   "metadata": {},
   "outputs": [],
   "source": [
    "# precicion @ k\n",
    "def precision_at_k(scores:list, y_true:list, k:int = 5):\n",
    "    \"\"\"\n",
    "    Function to cumpute the presision at k\n",
    "\n",
    "    Parameters:\n",
    "        scores : list of predicted scores for user item interations\n",
    "        y_true : list of true label whether the user has interacted with the item or not\n",
    "        k : top k items based on confidence to consider\n",
    "\n",
    "    Returns: precision value at k\n",
    "    \"\"\"\n",
    "    assert len(scores) == len(y_true), \"scores and true label to list should be of same size\"\n",
    "    k = min(k, len(scores))\n",
    "    sorted_scores = sorted(list(zip(scores, y_true)))\n",
    "    return np.sum([int(y) for score, y in sorted_scores[:k]])/k\n",
    "\n",
    "# recall @ k \n",
    "def recall_at_k(scores:list, y_true:list, k:int = 5):\n",
    "    \"\"\"\n",
    "    Function to compute the recall at k\n",
    "\n",
    "    Parameters:\n",
    "        scores : list of predicted scores for user item interations\n",
    "        y_true : list of true label whether the user has interacted with the item or not\n",
    "        k : top k items based on confidence to consider\n",
    "\n",
    "    Returns: recall value at k\n",
    "    \"\"\"\n",
    "    assert len(scores) == len(y_true), \"scores and true label to list should be of same size\"\n",
    "    k = min(k, len(scores))\n",
    "    sorted_scores = sorted(list(zip(scores, y_true)))\n",
    "    return np.sum([int(y) for score, y in sorted_scores[:k]])/np.sum(y_true)\n",
    "    \n",
    "\n",
    "# mean reciprocal rank\n",
    "def mean_reciprocal_rank(scores:list, y_true:list):\n",
    "    \"\"\"\n",
    "    Function to compute the recall at k\n",
    "\n",
    "    Parameters:\n",
    "        scores : list of predicted scores for user item interations\n",
    "        y_true : list of true label whether the user has interacted with the item or not\n",
    "\n",
    "    Returns mean reciprocal rank value\n",
    "    \"\"\"\n",
    "    assert len(scores) == len(y_true)\n",
    "\n",
    "    \n",
    "\n",
    "    pass\n",
    "\n",
    "# cummulative gain\n",
    "def cummulative_gain():\n",
    "    pass\n",
    "\n",
    "# normalized cumulative gain\n",
    "def normalized_cumulative_gain():\n",
    "    pass"
   ]
  },
  {
   "cell_type": "code",
   "execution_count": 12,
   "metadata": {},
   "outputs": [
    {
     "ename": "AssertionError",
     "evalue": "scores and true label to list should be of same size",
     "output_type": "error",
     "traceback": [
      "\u001b[0;31m---------------------------------------------------------------------------\u001b[0m",
      "\u001b[0;31mAssertionError\u001b[0m                            Traceback (most recent call last)",
      "Cell \u001b[0;32mIn[12], line 3\u001b[0m\n\u001b[1;32m      1\u001b[0m scores \u001b[39m=\u001b[39m [\u001b[39m0.1\u001b[39m, \u001b[39m0.3\u001b[39m, \u001b[39m0.6\u001b[39m, \u001b[39m0.01\u001b[39m, \u001b[39m0.5\u001b[39m, \u001b[39m0.2\u001b[39m]\n\u001b[1;32m      2\u001b[0m y_true \u001b[39m=\u001b[39m [\u001b[39mTrue\u001b[39;00m, \u001b[39mFalse\u001b[39;00m, \u001b[39mTrue\u001b[39;00m, \u001b[39mTrue\u001b[39;00m, \u001b[39mTrue\u001b[39;00m, \u001b[39mFalse\u001b[39;00m, \u001b[39mFalse\u001b[39;00m]\n\u001b[0;32m----> 3\u001b[0m \u001b[39mprint\u001b[39m(precision_at_k(scores, y_true))\n\u001b[1;32m      4\u001b[0m \u001b[39mprint\u001b[39m(recall_at_k(scores, y_true))\n",
      "Cell \u001b[0;32mIn[11], line 13\u001b[0m, in \u001b[0;36mprecision_at_k\u001b[0;34m(scores, y_true, k)\u001b[0m\n\u001b[1;32m      2\u001b[0m \u001b[39mdef\u001b[39;00m \u001b[39mprecision_at_k\u001b[39m(scores:\u001b[39mlist\u001b[39m, y_true:\u001b[39mlist\u001b[39m, k:\u001b[39mint\u001b[39m \u001b[39m=\u001b[39m \u001b[39m5\u001b[39m):\n\u001b[1;32m      3\u001b[0m     \u001b[39m\"\"\"\u001b[39;00m\n\u001b[1;32m      4\u001b[0m \u001b[39m    Function to cumpute the presision at k\u001b[39;00m\n\u001b[1;32m      5\u001b[0m \n\u001b[0;32m   (...)\u001b[0m\n\u001b[1;32m     11\u001b[0m \u001b[39m    Returns: precision value at k\u001b[39;00m\n\u001b[1;32m     12\u001b[0m \u001b[39m    \"\"\"\u001b[39;00m\n\u001b[0;32m---> 13\u001b[0m     \u001b[39massert\u001b[39;00m \u001b[39mlen\u001b[39m(scores) \u001b[39m==\u001b[39m \u001b[39mlen\u001b[39m(y_true), \u001b[39m\"\u001b[39m\u001b[39mscores and true label to list should be of same size\u001b[39m\u001b[39m\"\u001b[39m\n\u001b[1;32m     14\u001b[0m     k \u001b[39m=\u001b[39m \u001b[39mmin\u001b[39m(k, \u001b[39mlen\u001b[39m(scores))\n\u001b[1;32m     15\u001b[0m     sorted_scores \u001b[39m=\u001b[39m \u001b[39msorted\u001b[39m(\u001b[39mlist\u001b[39m(\u001b[39mzip\u001b[39m(scores, y_true)))\n",
      "\u001b[0;31mAssertionError\u001b[0m: scores and true label to list should be of same size"
     ]
    }
   ],
   "source": [
    "scores = [0.1, 0.3, 0.6, 0.01, 0.5, 0.2]\n",
    "y_true = [True, False, True, True, True, False, False]\n",
    "print(precision_at_k(scores, y_true))\n",
    "print(recall_at_k(scores, y_true))"
   ]
  },
  {
   "cell_type": "code",
   "execution_count": null,
   "metadata": {},
   "outputs": [],
   "source": []
  }
 ],
 "metadata": {
  "kernelspec": {
   "display_name": "gml",
   "language": "python",
   "name": "python3"
  },
  "language_info": {
   "codemirror_mode": {
    "name": "ipython",
    "version": 3
   },
   "file_extension": ".py",
   "mimetype": "text/x-python",
   "name": "python",
   "nbconvert_exporter": "python",
   "pygments_lexer": "ipython3",
   "version": "3.8.13"
  },
  "orig_nbformat": 4
 },
 "nbformat": 4,
 "nbformat_minor": 2
}
