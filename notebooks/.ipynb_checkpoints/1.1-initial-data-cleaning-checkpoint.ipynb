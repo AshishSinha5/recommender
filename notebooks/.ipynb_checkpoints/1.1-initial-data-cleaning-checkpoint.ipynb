{
 "cells": [
  {
   "cell_type": "code",
   "execution_count": 1,
   "id": "a0d907ea-8152-4787-8d1e-9b7651b24557",
   "metadata": {},
   "outputs": [],
   "source": [
    "import json\n",
    "import os\n",
    "import sys\n",
    "import pandas as pd\n",
    "import numpy as np\n",
    "import matplotlib.pyplot as plt\n",
    "from collections import defaultdict\n",
    "from tqdm import tqdm\n",
    "from pprint import pprint"
   ]
  },
  {
   "cell_type": "code",
   "execution_count": 2,
   "id": "ecd05dc3-10ea-432f-bde7-55dcd9f39f36",
   "metadata": {},
   "outputs": [],
   "source": [
    "WIDTH = 7\n",
    "PRECISION = 3\n",
    "TYPE = \"f\""
   ]
  },
  {
   "cell_type": "code",
   "execution_count": 3,
   "id": "ff403189-0c90-4861-9b07-aa53d94ce747",
   "metadata": {},
   "outputs": [],
   "source": [
    "sys.path.append('/home/ashish/workspace/recommender/')"
   ]
  },
  {
   "cell_type": "code",
   "execution_count": 4,
   "id": "4a6a0584-90b9-42bb-ab23-2a95ce287ac5",
   "metadata": {},
   "outputs": [],
   "source": [
    "data_path = '../data/raw/RC_2023-01_2.json'\n",
    "with open(data_path, 'rb') as f:\n",
    "    comments = json.load(f)"
   ]
  },
  {
   "cell_type": "code",
   "execution_count": 5,
   "id": "4eadd4e0-d34d-4ad9-8093-4707adf8b83d",
   "metadata": {},
   "outputs": [
    {
     "name": "stdout",
     "output_type": "stream",
     "text": [
      "No. of comments in the data - 500000\n"
     ]
    }
   ],
   "source": [
    "print(f'No. of comments in the data - {len(comments)}')"
   ]
  },
  {
   "cell_type": "markdown",
   "id": "7b2b72d1-47cc-473f-a875-a7a3cb65ac80",
   "metadata": {},
   "source": [
    "## Data Cleaning and Dala Loss Analysis after cleaning "
   ]
  },
  {
   "cell_type": "markdown",
   "id": "5920b256-170f-4c7c-95f6-fd6ba41e2bc6",
   "metadata": {},
   "source": [
    "### Removing ['deleted'] users"
   ]
  },
  {
   "cell_type": "code",
   "execution_count": 6,
   "id": "a2fa834b-d110-419a-a0c5-4e6cf9eb02b2",
   "metadata": {},
   "outputs": [
    {
     "name": "stderr",
     "output_type": "stream",
     "text": [
      "100%|██████████████████████████████████████████████████████████████████████████████████████████████████████████████| 500000/500000 [00:00<00:00, 1278329.53it/s]\n"
     ]
    }
   ],
   "source": [
    "comments_del_rm = []\n",
    "for comment in tqdm(comments):\n",
    "    if comment['author'] == '[deleted]':\n",
    "        continue\n",
    "    comments_del_rm.append(comment)\n",
    "comments = comments_del_rm\n",
    "del(comments_del_rm)"
   ]
  },
  {
   "cell_type": "code",
   "execution_count": 7,
   "id": "6ee250e2-7bc6-484a-8c78-447bb7011bc0",
   "metadata": {},
   "outputs": [
    {
     "name": "stdout",
     "output_type": "stream",
     "text": [
      "No. of comments after removing [deleted] comments - 458358\n"
     ]
    }
   ],
   "source": [
    "print(f'No. of comments after removing [deleted] comments - {len(comments)}')"
   ]
  },
  {
   "cell_type": "markdown",
   "id": "c17b2d03-01f7-4b37-8be5-f5380fa6a40f",
   "metadata": {},
   "source": [
    "### Removing subreddits that contain less than threshold no. of comments"
   ]
  },
  {
   "cell_type": "code",
   "execution_count": 8,
   "id": "277dadcf-0643-467d-90b8-81562fe58ad1",
   "metadata": {},
   "outputs": [
    {
     "name": "stderr",
     "output_type": "stream",
     "text": [
      "100%|██████████████████████████████████████████████████████████████████████████████████████████████████████████████| 458358/458358 [00:00<00:00, 1161332.35it/s]\n"
     ]
    }
   ],
   "source": [
    "comments_per_subreddit = defaultdict(int)\n",
    "for comment in tqdm(comments):\n",
    "    subreddit_id = comment['subreddit_id']\n",
    "    comments_per_subreddit[subreddit_id] +=1"
   ]
  },
  {
   "cell_type": "code",
   "execution_count": 9,
   "id": "9f1c096b-82d2-42c7-aa0e-232fab1b24d5",
   "metadata": {},
   "outputs": [],
   "source": [
    "COMMENT_THRESHOLD = 10"
   ]
  },
  {
   "cell_type": "code",
   "execution_count": 10,
   "id": "4db37315-9f60-4ce9-ba85-884589e2d462",
   "metadata": {},
   "outputs": [
    {
     "name": "stderr",
     "output_type": "stream",
     "text": [
      "100%|████████████████████████████████████████████████████████████████████████████████████████████████████████████████| 25452/25452 [00:00<00:00, 1005807.83it/s]\n"
     ]
    }
   ],
   "source": [
    "comments_lost = 0\n",
    "subreddits_lost = 0\n",
    "for subreddit_id, n_comments in tqdm(comments_per_subreddit.items()):\n",
    "    if n_comments < COMMENT_THRESHOLD:\n",
    "        comments_lost += n_comments\n",
    "        subreddits_lost += 1"
   ]
  },
  {
   "cell_type": "code",
   "execution_count": 11,
   "id": "a57ab5f5-5215-45f0-b867-3435012769df",
   "metadata": {},
   "outputs": [],
   "source": [
    "remaining_comments = len(comments) - comments_lost\n",
    "remaining_subreddits  = len(comments_per_subreddit) - subreddits_lost"
   ]
  },
  {
   "cell_type": "code",
   "execution_count": 12,
   "id": "4aa07862-2cd7-4a90-b83a-1fde64e69811",
   "metadata": {},
   "outputs": [
    {
     "name": "stdout",
     "output_type": "stream",
     "text": [
      "Remaining data points: 407380 (/458358)\n"
     ]
    }
   ],
   "source": [
    "print(f'Remaining data points: {remaining_comments} (/{len(comments)})')"
   ]
  },
  {
   "cell_type": "code",
   "execution_count": 13,
   "id": "ccbf3667-3460-4f8b-9c2a-c7c5936411bf",
   "metadata": {},
   "outputs": [
    {
     "name": "stdout",
     "output_type": "stream",
     "text": [
      "remaining_subreddits : 6217 (/25452)\n"
     ]
    }
   ],
   "source": [
    "print(f'remaining_subreddits : {remaining_subreddits} (/{len(comments_per_subreddit)})')"
   ]
  },
  {
   "cell_type": "code",
   "execution_count": 14,
   "id": "f20ec959-697d-4875-96ed-6683c768f492",
   "metadata": {},
   "outputs": [
    {
     "name": "stdout",
     "output_type": "stream",
     "text": [
      "24.43% of the communities contain 88.88% of comments\n"
     ]
    }
   ],
   "source": [
    "print(f'{remaining_subreddits/len(comments_per_subreddit)*100:,.2f}% of the communities contain {remaining_comments/len(comments)*100:,.2f}% of comments')"
   ]
  },
  {
   "cell_type": "code",
   "execution_count": 15,
   "id": "41ebe96a-bc93-4d36-ad8f-6fde5c0d8bd8",
   "metadata": {},
   "outputs": [
    {
     "name": "stdout",
     "output_type": "stream",
     "text": [
      "Loosing 50978 data points out of 458358 (11.12%)\n"
     ]
    }
   ],
   "source": [
    "print(f'Loosing {comments_lost} data points out of {len(comments)} ({comments_lost/len(comments)*100:,.2f}%)')"
   ]
  },
  {
   "cell_type": "code",
   "execution_count": 16,
   "id": "b416a4c8-c29a-4b9c-b349-55f43419a65f",
   "metadata": {},
   "outputs": [
    {
     "name": "stdout",
     "output_type": "stream",
     "text": [
      "Loosing 19235 communities out of 25452 (75.57%)\n"
     ]
    }
   ],
   "source": [
    "print(f'Loosing {subreddits_lost} communities out of {len(comments_per_subreddit)} ({subreddits_lost/len(comments_per_subreddit)*100:,.2f}%)')"
   ]
  },
  {
   "cell_type": "code",
   "execution_count": 17,
   "id": "79a2e4c8-1e93-4ee4-a050-e413d538f2a8",
   "metadata": {},
   "outputs": [
    {
     "name": "stderr",
     "output_type": "stream",
     "text": [
      "100%|██████████████████████████████████████████████████████████████████████████████████████████████████████████████| 458358/458358 [00:00<00:00, 1024483.68it/s]"
     ]
    },
    {
     "name": "stdout",
     "output_type": "stream",
     "text": [
      "407380\n"
     ]
    },
    {
     "name": "stderr",
     "output_type": "stream",
     "text": [
      "\n"
     ]
    }
   ],
   "source": [
    "comment_rm_sr_thr = []\n",
    "for comment in tqdm(comments):\n",
    "    if comments_per_subreddit[comment['subreddit_id']] < COMMENT_THRESHOLD:\n",
    "        continue\n",
    "    comment_rm_sr_thr.append(comment)\n",
    "# comments = comment_rm_sr_thr\n",
    "# del(comment_rm_sr_thr)\n",
    "print(len(comment_rm_sr_thr))"
   ]
  },
  {
   "cell_type": "markdown",
   "id": "212859db-7177-4a8e-9a8e-44b2b9b03edd",
   "metadata": {},
   "source": [
    "### Removing users who are inactive i.e. have less than threshold number of comments"
   ]
  },
  {
   "cell_type": "code",
   "execution_count": 22,
   "id": "792141b6-c137-49ea-aa20-57c493b54d33",
   "metadata": {},
   "outputs": [
    {
     "name": "stderr",
     "output_type": "stream",
     "text": [
      "100%|███████████████████████████████████████████████████████████████████████████████████████████████████████████████| 458358/458358 [00:00<00:00, 757782.24it/s]\n"
     ]
    }
   ],
   "source": [
    "comments_per_user = defaultdict(int)\n",
    "for comment in tqdm(comments):\n",
    "    author_id = comment['author_fullname']\n",
    "    comments_per_user[author_id] +=1"
   ]
  },
  {
   "cell_type": "code",
   "execution_count": 31,
   "id": "d6f3369b-1a23-4a58-8690-4e805bdf702b",
   "metadata": {},
   "outputs": [],
   "source": [
    "COMMENT_THRESHOLD = 2"
   ]
  },
  {
   "cell_type": "code",
   "execution_count": 32,
   "id": "e0c2b91d-f798-4838-9913-5b4e5b3897a2",
   "metadata": {},
   "outputs": [
    {
     "name": "stderr",
     "output_type": "stream",
     "text": [
      "100%|██████████████████████████████████████████████████████████████████████████████████████████████████████████████| 221755/221755 [00:00<00:00, 1872895.27it/s]\n"
     ]
    }
   ],
   "source": [
    "comments_lost = 0\n",
    "users_lost = 0\n",
    "for author_id, n_comments in tqdm(comments_per_user.items()):\n",
    "    if n_comments < COMMENT_THRESHOLD:\n",
    "        comments_lost += n_comments\n",
    "        users_lost += 1"
   ]
  },
  {
   "cell_type": "code",
   "execution_count": 33,
   "id": "c105e13b-81fe-42e0-b60b-bf8d2b0e115a",
   "metadata": {},
   "outputs": [],
   "source": [
    "remaining_comments = len(comments) - comments_lost\n",
    "remaining_users  = len(comments_per_user) - users_lost"
   ]
  },
  {
   "cell_type": "code",
   "execution_count": 34,
   "id": "dbe25cde-e965-451d-bdd9-7c4004b8537f",
   "metadata": {},
   "outputs": [
    {
     "name": "stdout",
     "output_type": "stream",
     "text": [
      "Remaining data points: 314599 (/458358)\n"
     ]
    }
   ],
   "source": [
    "print(f'Remaining data points: {remaining_comments} (/{len(comments)})')"
   ]
  },
  {
   "cell_type": "code",
   "execution_count": 35,
   "id": "fad4e5dc-b4b6-4b47-a890-14e77f3decb4",
   "metadata": {},
   "outputs": [
    {
     "name": "stdout",
     "output_type": "stream",
     "text": [
      "Remaining Users: 77996 (/221755)\n"
     ]
    }
   ],
   "source": [
    "print(f'Remaining Users: {remaining_users} (/{len(comments_per_user)})')"
   ]
  },
  {
   "cell_type": "code",
   "execution_count": 36,
   "id": "c3512f32-255e-44c8-868e-83074f37d907",
   "metadata": {},
   "outputs": [
    {
     "name": "stdout",
     "output_type": "stream",
     "text": [
      "35.17% of the users account for 68.64% of comments\n"
     ]
    }
   ],
   "source": [
    "print(f'{remaining_users/len(comments_per_user)*100:,.2f}% of the users account for {remaining_comments/len(comments)*100:,.2f}% of comments')"
   ]
  },
  {
   "cell_type": "code",
   "execution_count": 37,
   "id": "2d1b792a-bdde-4671-a335-8cf1c1da15cd",
   "metadata": {},
   "outputs": [
    {
     "name": "stdout",
     "output_type": "stream",
     "text": [
      "Loosing 143759 data points out of 458358 (31.36%)\n"
     ]
    }
   ],
   "source": [
    "print(f'Loosing {comments_lost} data points out of {len(comments)} ({comments_lost/len(comments)*100:,.2f}%)')"
   ]
  },
  {
   "cell_type": "code",
   "execution_count": 38,
   "id": "571d7131-d2f5-49da-b10d-e0bf593eaa05",
   "metadata": {},
   "outputs": [
    {
     "name": "stdout",
     "output_type": "stream",
     "text": [
      "Loosing 143759 users out of 221755 (64.83%)\n"
     ]
    }
   ],
   "source": [
    "print(f'Loosing {users_lost} users out of {len(comments_per_user)} ({users_lost/len(comments_per_user)*100:,.2f}%)')"
   ]
  },
  {
   "cell_type": "code",
   "execution_count": 39,
   "id": "876e4954-8d41-48c7-90fe-1a6dfeb39225",
   "metadata": {},
   "outputs": [
    {
     "name": "stderr",
     "output_type": "stream",
     "text": [
      "100%|███████████████████████████████████████████████████████████████████████████████████████████████████████████████| 458358/458358 [00:00<00:00, 975519.71it/s]"
     ]
    },
    {
     "name": "stdout",
     "output_type": "stream",
     "text": [
      "314599\n"
     ]
    },
    {
     "name": "stderr",
     "output_type": "stream",
     "text": [
      "\n"
     ]
    }
   ],
   "source": [
    "comment_rm_au_thr = []\n",
    "for comment in tqdm(comments):\n",
    "    if comments_per_user[comment['author_fullname']] < COMMENT_THRESHOLD:\n",
    "        continue\n",
    "    comment_rm_au_thr.append(comment)\n",
    "# comments = comment_rm_sr_thr\n",
    "# del(comment_rm_sr_thr)\n",
    "print(len(comment_rm_au_thr))"
   ]
  },
  {
   "cell_type": "code",
   "execution_count": 42,
   "id": "9a8a47ff-f331-4cd8-b7d8-f9cb2aae121a",
   "metadata": {},
   "outputs": [
    {
     "data": {
      "text/plain": [
       "0.370802"
      ]
     },
     "execution_count": 42,
     "metadata": {},
     "output_type": "execute_result"
    }
   ],
   "source": [
    "(500000 - 314599)/500000"
   ]
  },
  {
   "cell_type": "raw",
   "id": "6297303e-e0df-4f61-a55b-76ed9d5cae61",
   "metadata": {},
   "source": [
    "If we do not remove inactive users our models will suffer from heavy cold start problem"
   ]
  },
  {
   "cell_type": "markdown",
   "id": "1e38e4a8-8c3f-455d-86e0-6795dd4cadd0",
   "metadata": {},
   "source": [
    "## Data Dump"
   ]
  },
  {
   "cell_type": "code",
   "execution_count": 130,
   "id": "150b9a81-2f1e-421d-98f8-ef6f6a72ea3b",
   "metadata": {},
   "outputs": [],
   "source": [
    "data_dump_path = '../data/cleaned/' + str(data_path.split('/')[-1])\n",
    "with open(data_dump_path, 'w') as f:\n",
    "    json.dump(comments, f)"
   ]
  },
  {
   "cell_type": "code",
   "execution_count": null,
   "id": "dfcf2688-bc75-41e2-ba1e-826e1f697e66",
   "metadata": {},
   "outputs": [],
   "source": []
  }
 ],
 "metadata": {
  "kernelspec": {
   "display_name": "Python 3 (ipykernel)",
   "language": "python",
   "name": "python3"
  },
  "language_info": {
   "codemirror_mode": {
    "name": "ipython",
    "version": 3
   },
   "file_extension": ".py",
   "mimetype": "text/x-python",
   "name": "python",
   "nbconvert_exporter": "python",
   "pygments_lexer": "ipython3",
   "version": "3.8.13"
  }
 },
 "nbformat": 4,
 "nbformat_minor": 5
}
