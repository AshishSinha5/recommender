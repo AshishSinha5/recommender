{
 "cells": [
  {
   "cell_type": "code",
   "execution_count": 17,
   "id": "18dd1711-de92-4f9c-9a95-7ee9e816855f",
   "metadata": {},
   "outputs": [],
   "source": [
    "import argparse\n",
    "import csv\n",
    "import gzip\n",
    "from typing import List\n",
    "from ast import literal_eval\n",
    "\n",
    "import numpy as np\n",
    "import pandas as pd\n",
    "from pandas.api.types import is_object_dtype\n",
    "from pprint import pprint\n",
    "from tqdm import tqdm"
   ]
  },
  {
   "cell_type": "code",
   "execution_count": 21,
   "id": "6f32d6a8-199f-4f7e-a3bc-d4649ac881fe",
   "metadata": {},
   "outputs": [
    {
     "name": "stderr",
     "output_type": "stream",
     "text": [
      "/tmp/ipykernel_16120/1118743978.py:3: DtypeWarning: Columns (14) have mixed types. Specify dtype option on import or set low_memory=False.\n",
      "  df = pd.read_csv(read_path, usecols = META_COLS, converters = {'also_buy' : literal_eval,\n"
     ]
    }
   ],
   "source": [
    "read_path = '../data/interim/meta_Electronics.csv'\n",
    "META_COLS = ['asin', 'category', 'title', 'description', 'price', 'brand', 'also_buy', 'also_view']\n",
    "df = pd.read_csv(read_path, usecols = META_COLS, converters = {'also_buy' : literal_eval,\n",
    "                                                              'also_view' : literal_eval, \n",
    "                                                              'category' : literal_eval,\n",
    "                                                              'description' : literal_eval,})"
   ]
  },
  {
   "cell_type": "code",
   "execution_count": 24,
   "id": "3ee5cb93-0297-4149-b0a6-90ca716deef3",
   "metadata": {},
   "outputs": [],
   "source": [
    "df['asin']  = df['asin'].astype(str)"
   ]
  },
  {
   "cell_type": "code",
   "execution_count": 25,
   "id": "25722bfd-b8ff-44ec-a2e5-6bef388b8982",
   "metadata": {
    "tags": []
   },
   "outputs": [
    {
     "data": {
      "text/html": [
       "<div>\n",
       "<style scoped>\n",
       "    .dataframe tbody tr th:only-of-type {\n",
       "        vertical-align: middle;\n",
       "    }\n",
       "\n",
       "    .dataframe tbody tr th {\n",
       "        vertical-align: top;\n",
       "    }\n",
       "\n",
       "    .dataframe thead th {\n",
       "        text-align: right;\n",
       "    }\n",
       "</style>\n",
       "<table border=\"1\" class=\"dataframe\">\n",
       "  <thead>\n",
       "    <tr style=\"text-align: right;\">\n",
       "      <th></th>\n",
       "      <th>category</th>\n",
       "      <th>description</th>\n",
       "      <th>title</th>\n",
       "      <th>also_buy</th>\n",
       "      <th>brand</th>\n",
       "      <th>also_view</th>\n",
       "      <th>price</th>\n",
       "      <th>asin</th>\n",
       "    </tr>\n",
       "  </thead>\n",
       "  <tbody>\n",
       "    <tr>\n",
       "      <th>0</th>\n",
       "      <td>[Electronics, Camera &amp;amp; Photo, Video Survei...</td>\n",
       "      <td>[The following camera brands and models have b...</td>\n",
       "      <td>Genuine Geovision 1 Channel 3rd Party NVR IP S...</td>\n",
       "      <td>[]</td>\n",
       "      <td>GeoVision</td>\n",
       "      <td>[]</td>\n",
       "      <td>$65.00</td>\n",
       "      <td>0011300000</td>\n",
       "    </tr>\n",
       "    <tr>\n",
       "      <th>1</th>\n",
       "      <td>[Electronics, Camera &amp;amp; Photo]</td>\n",
       "      <td>[This second edition of the Handbook of Astron...</td>\n",
       "      <td>Books \"Handbook of Astronomical Image Processi...</td>\n",
       "      <td>[0999470906]</td>\n",
       "      <td>33 Books Co.</td>\n",
       "      <td>[0943396670, 1138055360, 0999470906]</td>\n",
       "      <td>NaN</td>\n",
       "      <td>0043396828</td>\n",
       "    </tr>\n",
       "    <tr>\n",
       "      <th>2</th>\n",
       "      <td>[Electronics, eBook Readers &amp;amp; Accessories,...</td>\n",
       "      <td>[A zesty tale. (Publishers Weekly)&lt;br /&gt;&lt;br /&gt;...</td>\n",
       "      <td>One Hot Summer</td>\n",
       "      <td>[0425167798, 039914157X]</td>\n",
       "      <td>Visit Amazon's Carolina Garcia Aguilera Page</td>\n",
       "      <td>[]</td>\n",
       "      <td>$11.49</td>\n",
       "      <td>0060009810</td>\n",
       "    </tr>\n",
       "    <tr>\n",
       "      <th>3</th>\n",
       "      <td>[Electronics, eBook Readers &amp; Accessories, eBo...</td>\n",
       "      <td>[]</td>\n",
       "      <td>Hurray for Hattie Rabbit: Story and pictures (...</td>\n",
       "      <td>[0060219521, 0060219580, 0060219394]</td>\n",
       "      <td>Visit Amazon's Dick Gackenbach Page</td>\n",
       "      <td>[0060219521, 0060219475, 0060219394]</td>\n",
       "      <td>.a-section.a-spacing-mini{margin-bottom:6px!im...</td>\n",
       "      <td>0060219602</td>\n",
       "    </tr>\n",
       "    <tr>\n",
       "      <th>4</th>\n",
       "      <td>[Electronics, eBook Readers &amp; Accessories, eBo...</td>\n",
       "      <td>[&amp;#8220;sex.lies.murder.fame. is brillllli&amp;#82...</td>\n",
       "      <td>sex.lies.murder.fame.: A Novel</td>\n",
       "      <td>[]</td>\n",
       "      <td>Visit Amazon's Lolita Files Page</td>\n",
       "      <td>[]</td>\n",
       "      <td>$13.95</td>\n",
       "      <td>0060786817</td>\n",
       "    </tr>\n",
       "  </tbody>\n",
       "</table>\n",
       "</div>"
      ],
      "text/plain": [
       "                                            category  \\\n",
       "0  [Electronics, Camera &amp; Photo, Video Survei...   \n",
       "1                  [Electronics, Camera &amp; Photo]   \n",
       "2  [Electronics, eBook Readers &amp; Accessories,...   \n",
       "3  [Electronics, eBook Readers & Accessories, eBo...   \n",
       "4  [Electronics, eBook Readers & Accessories, eBo...   \n",
       "\n",
       "                                         description  \\\n",
       "0  [The following camera brands and models have b...   \n",
       "1  [This second edition of the Handbook of Astron...   \n",
       "2  [A zesty tale. (Publishers Weekly)<br /><br />...   \n",
       "3                                                 []   \n",
       "4  [&#8220;sex.lies.murder.fame. is brillllli&#82...   \n",
       "\n",
       "                                               title  \\\n",
       "0  Genuine Geovision 1 Channel 3rd Party NVR IP S...   \n",
       "1  Books \"Handbook of Astronomical Image Processi...   \n",
       "2                                     One Hot Summer   \n",
       "3  Hurray for Hattie Rabbit: Story and pictures (...   \n",
       "4                     sex.lies.murder.fame.: A Novel   \n",
       "\n",
       "                               also_buy  \\\n",
       "0                                    []   \n",
       "1                          [0999470906]   \n",
       "2              [0425167798, 039914157X]   \n",
       "3  [0060219521, 0060219580, 0060219394]   \n",
       "4                                    []   \n",
       "\n",
       "                                          brand  \\\n",
       "0                                     GeoVision   \n",
       "1                                  33 Books Co.   \n",
       "2  Visit Amazon's Carolina Garcia Aguilera Page   \n",
       "3           Visit Amazon's Dick Gackenbach Page   \n",
       "4              Visit Amazon's Lolita Files Page   \n",
       "\n",
       "                              also_view  \\\n",
       "0                                    []   \n",
       "1  [0943396670, 1138055360, 0999470906]   \n",
       "2                                    []   \n",
       "3  [0060219521, 0060219475, 0060219394]   \n",
       "4                                    []   \n",
       "\n",
       "                                               price        asin  \n",
       "0                                             $65.00  0011300000  \n",
       "1                                                NaN  0043396828  \n",
       "2                                             $11.49  0060009810  \n",
       "3  .a-section.a-spacing-mini{margin-bottom:6px!im...  0060219602  \n",
       "4                                             $13.95  0060786817  "
      ]
     },
     "execution_count": 25,
     "metadata": {},
     "output_type": "execute_result"
    }
   ],
   "source": [
    "df.head()"
   ]
  },
  {
   "cell_type": "code",
   "execution_count": null,
   "id": "ddd82c8b-6d06-4fa4-afa3-39d4282955fb",
   "metadata": {},
   "outputs": [],
   "source": []
  }
 ],
 "metadata": {
  "kernelspec": {
   "display_name": "Python [conda env:attach]",
   "language": "python",
   "name": "conda-env-attach-py"
  },
  "language_info": {
   "codemirror_mode": {
    "name": "ipython",
    "version": 3
   },
   "file_extension": ".py",
   "mimetype": "text/x-python",
   "name": "python",
   "nbconvert_exporter": "python",
   "pygments_lexer": "ipython3",
   "version": "3.10.4"
  }
 },
 "nbformat": 4,
 "nbformat_minor": 5
}
