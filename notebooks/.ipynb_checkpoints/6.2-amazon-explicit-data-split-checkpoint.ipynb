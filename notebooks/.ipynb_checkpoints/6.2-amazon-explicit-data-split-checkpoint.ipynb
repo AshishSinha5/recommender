{
 "cells": [
  {
   "cell_type": "code",
   "execution_count": 1,
   "id": "9c5dcd5d-0ccd-4b7c-8236-a08853ef600c",
   "metadata": {},
   "outputs": [],
   "source": [
    "import argparse\n",
    "import csv\n",
    "import gzip\n",
    "from typing import List\n",
    "from ast import literal_eval\n",
    "\n",
    "import numpy as np\n",
    "import pandas as pd\n",
    "from pandas.api.types import is_object_dtype\n",
    "from pprint import pprint\n",
    "from tqdm import tqdm"
   ]
  },
  {
   "cell_type": "code",
   "execution_count": null,
   "id": "683662ba-936d-4564-a882-09faef0d82ed",
   "metadata": {},
   "outputs": [],
   "source": []
  }
 ],
 "metadata": {
  "kernelspec": {
   "display_name": "Python [conda env:gml]",
   "language": "python",
   "name": "conda-env-gml-py"
  },
  "language_info": {
   "codemirror_mode": {
    "name": "ipython",
    "version": 3
   },
   "file_extension": ".py",
   "mimetype": "text/x-python",
   "name": "python",
   "nbconvert_exporter": "python",
   "pygments_lexer": "ipython3",
   "version": "3.8.13"
  }
 },
 "nbformat": 4,
 "nbformat_minor": 5
}
