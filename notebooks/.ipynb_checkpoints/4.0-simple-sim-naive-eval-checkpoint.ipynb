{
 "cells": [
  {
   "cell_type": "code",
   "execution_count": 1,
   "metadata": {},
   "outputs": [],
   "source": [
    "import numpy as np\n",
    "from sklearn.metrics import jaccard_score\n",
    "from collections import defaultdict\n",
    "import json\n",
    "import random\n",
    "from tqdm import tqdm\n",
    "from sklearn.model_selection import train_test_split\n",
    "import sys\n",
    "import random\n",
    "from operator import itemgetter"
   ]
  },
  {
   "cell_type": "code",
   "execution_count": 15,
   "metadata": {},
   "outputs": [],
   "source": [
    "import matplotlib.pyplot as plt"
   ]
  },
  {
   "cell_type": "code",
   "execution_count": 25,
   "metadata": {},
   "outputs": [],
   "source": [
    "plt.style.use('ggplot')"
   ]
  },
  {
   "cell_type": "code",
   "execution_count": 2,
   "metadata": {},
   "outputs": [],
   "source": [
    "data_path = '../data/cleaned/RC_2023-01_2.json'\n",
    "with open(data_path, 'r') as fh:\n",
    "    comments = json.load(fh)"
   ]
  },
  {
   "cell_type": "markdown",
   "metadata": {},
   "source": [
    "### Simple Data Stats"
   ]
  },
  {
   "cell_type": "code",
   "execution_count": 4,
   "metadata": {},
   "outputs": [
    {
     "name": "stdout",
     "output_type": "stream",
     "text": [
      "No. of comments in the data - 314599\n"
     ]
    }
   ],
   "source": [
    "print(f'No. of comments in the data - {len(comments)}')"
   ]
  },
  {
   "cell_type": "code",
   "execution_count": 5,
   "metadata": {},
   "outputs": [
    {
     "name": "stdout",
     "output_type": "stream",
     "text": [
      "No. of unique subreddits : 18645\n"
     ]
    }
   ],
   "source": [
    "n_subreddit = len(set([comment['subreddit_id'] for comment in comments]))\n",
    "print(f'No. of unique subreddits : {n_subreddit}')"
   ]
  },
  {
   "cell_type": "code",
   "execution_count": 6,
   "metadata": {},
   "outputs": [
    {
     "name": "stdout",
     "output_type": "stream",
     "text": [
      "No. of unique users : 77996\n"
     ]
    }
   ],
   "source": [
    "n_users = len(set([comment['author'] for comment in comments]))\n",
    "print(f'No. of unique users : {n_users}')"
   ]
  },
  {
   "attachments": {},
   "cell_type": "markdown",
   "metadata": {},
   "source": [
    "### Leave One Out Splitting"
   ]
  },
  {
   "cell_type": "code",
   "execution_count": 87,
   "metadata": {},
   "outputs": [],
   "source": [
    "## Utility Functions\n",
    "\n",
    "def plot_comment_distribution(itemsperuser):\n",
    "    count, frequency = np.unique([len(items) for user, items in itemsperuser.items()], return_counts=True)\n",
    "    plt.bar(np.log(count), frequency)\n",
    "    plt.show()\n",
    "\n",
    "def get_item_by_idx_list(ls:list, idx:list):\n",
    "    return list(itemgetter(*idx)(ls))\n",
    "\n",
    "def get_users(comments:list, idx:list = None):\n",
    "    users = set()\n",
    "    if not (idx is None):\n",
    "        comments = get_item_by_idx_list(comments, idx)\n",
    "    for comment in comments:\n",
    "        users.add(comment['author_fullname'])\n",
    "    return users\n",
    "\n",
    "def get_users_per_item(comments:list, idx:list = None):\n",
    "    if not (idx is None):\n",
    "        comments = get_item_by_idx_list(comments, idx)\n",
    "    usersperitem = defaultdict(set)\n",
    "    for comment in comments:\n",
    "        user = comment['author_fullname']\n",
    "        item = comment['subreddit_id']\n",
    "        usersperitem[item].add(user)\n",
    "    return usersperitem\n",
    "\n",
    "def get_items_per_users(comments:list, idx:list = None):\n",
    "    if not (idx is None):\n",
    "        comments = get_item_by_idx_list(comments, idx)\n",
    "    itemsperuser = defaultdict(set)\n",
    "    for comment in comments:\n",
    "        user = comment['author_fullname']\n",
    "        item = comment['subreddit_id']\n",
    "        itemsperuser[user].add(item)\n",
    "    return itemsperuser\n",
    "\n",
    "def get_item_map(comments):\n",
    "    item_name = defaultdict(str)\n",
    "    for comment in comments:\n",
    "        item = comment['subreddit_id']\n",
    "        item_name[item] = comment['subreddit']\n",
    "    return item_name\n",
    "\n",
    "def get_item_id(comments):\n",
    "    pass"
   ]
  },
  {
   "cell_type": "code",
   "execution_count": 88,
   "metadata": {},
   "outputs": [],
   "source": [
    "## Spliting Fucntion\n",
    "\n",
    "def leave_one_out_split(comments: list):\n",
    "    # authors = get_authors(data)\n",
    "    author_idx = defaultdict(list)\n",
    "    author_subreddit = defaultdict(set)\n",
    "    train_idx, test_idx = [], []\n",
    "    for i, comment in tqdm(enumerate(comments)):\n",
    "        author = comment['author_fullname']\n",
    "        subreddit = comment['subreddit_id']\n",
    "        if subreddit not in author_subreddit[author]:\n",
    "            author_subreddit[author].add(subreddit)\n",
    "            author_idx[author].append(i)\n",
    "    # print(author_idx[author])\n",
    "    for author, _idx in tqdm(author_idx.items()):\n",
    "        # print(_idx)\n",
    "        if len(_idx) >= 2:\n",
    "            train_idx.extend(_idx[:-1])\n",
    "            test_idx.append(_idx[-1])\n",
    "    return train_idx, test_idx"
   ]
  },
  {
   "cell_type": "code",
   "execution_count": 89,
   "metadata": {},
   "outputs": [
    {
     "name": "stderr",
     "output_type": "stream",
     "text": [
      "314599it [00:00, 692992.65it/s]\n",
      "100%|██████████| 77996/77996 [00:00<00:00, 1519682.14it/s]"
     ]
    },
    {
     "name": "stdout",
     "output_type": "stream",
     "text": [
      "No. of training Samples - 71210\n",
      "No. of test samples - 41258\n"
     ]
    },
    {
     "name": "stderr",
     "output_type": "stream",
     "text": [
      "\n"
     ]
    }
   ],
   "source": [
    "train_idx, test_idx = leave_one_out_split(comments=comments)\n",
    "print(f'No. of training Samples - {len(train_idx)}')\n",
    "print(f'No. of test samples - {len(test_idx)}')"
   ]
  },
  {
   "cell_type": "code",
   "execution_count": 90,
   "metadata": {},
   "outputs": [],
   "source": [
    "item_name = get_item_map(comments=comments)\n",
    "users = get_users(comments)"
   ]
  },
  {
   "cell_type": "code",
   "execution_count": 91,
   "metadata": {},
   "outputs": [],
   "source": [
    "itemsperuser = get_items_per_users(comments=comments)\n",
    "usersperitem = get_users_per_item(comments=comments)"
   ]
  },
  {
   "cell_type": "code",
   "execution_count": 92,
   "metadata": {},
   "outputs": [
    {
     "data": {
      "text/plain": [
       "array([   1,    2,    3,    4,    5,    6,    7,    8,    9,   10,   11,\n",
       "         12,   13,   14,   15,   16,   17,   18,   19,   20,   21,   22,\n",
       "         23,   24,   25,   26,   27,   28,   29,   30,   32,   34,   35,\n",
       "         38,   41,   42,   44,   52,   53,   58,   72,   73,   85,  147,\n",
       "       2904])"
      ]
     },
     "execution_count": 92,
     "metadata": {},
     "output_type": "execute_result"
    }
   ],
   "source": [
    "np.unique([len(items) for user, items in itemsperuser.items()], return_counts=True)[0]"
   ]
  },
  {
   "cell_type": "code",
   "execution_count": 93,
   "metadata": {},
   "outputs": [
    {
     "data": {
      "image/png": "[encoded data removed]",
      "text/plain": [
       "<Figure size 640x480 with 1 Axes>"
      ]
     },
     "metadata": {},
     "output_type": "display_data"
    }
   ],
   "source": [
    "count, frequency = np.unique([len(items) for user, items in itemsperuser.items()], return_counts=True)\n",
    "plt.bar(np.log(count), frequency)\n",
    "plt.show()"
   ]
  },
  {
   "cell_type": "code",
   "execution_count": 94,
   "metadata": {},
   "outputs": [],
   "source": [
    "itemsperuser_train = get_items_per_users(comments, idx = train_idx)\n",
    "usersperitem_train = get_users_per_item(comments, idx=train_idx)\n",
    "\n",
    "itemsperuser_test = get_items_per_users(comments, idx=test_idx)\n",
    "usersperitem_test = get_users_per_item(comments, idx=test_idx)"
   ]
  },
  {
   "cell_type": "code",
   "execution_count": 95,
   "metadata": {},
   "outputs": [
    {
     "data": {
      "image/png": "[encoded data removed]",
      "text/plain": [
       "<Figure size 640x480 with 1 Axes>"
      ]
     },
     "metadata": {},
     "output_type": "display_data"
    }
   ],
   "source": [
    "plot_comment_distribution(itemsperuser_train)"
   ]
  },
  {
   "cell_type": "code",
   "execution_count": 96,
   "metadata": {},
   "outputs": [],
   "source": [
    "## Model Fucntion\n",
    "\n",
    "def Jaccard(s1, s2):\n",
    "    numer = len(s1.intersection(s2))\n",
    "    denom = len(s1.union(s2))\n",
    "    if denom == 0:\n",
    "        return 0\n",
    "    return numer / denom\n",
    "\n",
    "def score(u, itemHistory, itemsperuser):\n",
    "    userHistory = itemsperuser[u]\n",
    "    bestsim = None\n",
    "    for v in itemHistory:\n",
    "        if u == v:\n",
    "            continue\n",
    "        sim = Jaccard(userHistory, itemsperuser[v])\n",
    "        if bestsim == None or sim > bestsim:\n",
    "            bestsim = sim\n",
    "    if bestsim == None:\n",
    "        return 0\n",
    "    return bestsim\n",
    "\n",
    "def rec(u, itemsperuser, usersperitem):\n",
    "    history = itemsperuser[u]\n",
    "    bestitem = None\n",
    "    bestscore = None\n",
    "    for i in item_name:\n",
    "        if i in history:\n",
    "            continue\n",
    "        s = score(u, usersperitem[i], itemsperuser)\n",
    "        if bestitem == None or s > bestscore:\n",
    "            bestitem = i\n",
    "            bestscore = s\n",
    "    return bestitem, bestscore"
   ]
  },
  {
   "cell_type": "code",
   "execution_count": 112,
   "metadata": {},
   "outputs": [
    {
     "name": "stdout",
     "output_type": "stream",
     "text": [
      "recommended - truerateme\n",
      "user history\n",
      "RoastMe\n",
      "army\n",
      "Rateme\n",
      "amiugly\n",
      "firstimpression\n",
      "test_set - preppers\n"
     ]
    }
   ],
   "source": [
    "while True:\n",
    "    u = random.sample(users, 1)[0]\n",
    "    if len(itemsperuser_train[u]) > 3:\n",
    "        break\n",
    "item, similarity_score = rec(u, itemsperuser_train, usersperitem_train)\n",
    "print(f'recommended - {item_name[item]}')\n",
    "print('user history')\n",
    "for item in itemsperuser_train[u]:\n",
    "    print(item_name[item])\n",
    "\n",
    "test_item = list(itemsperuser_test[u])[0]\n",
    "print(f'test_set - {item_name[str(test_item)]}')"
   ]
  },
  {
   "cell_type": "code",
   "execution_count": 115,
   "metadata": {},
   "outputs": [
    {
     "data": {
      "text/plain": [
       "1"
      ]
     },
     "execution_count": 115,
     "metadata": {},
     "output_type": "execute_result"
    }
   ],
   "source": [
    "np.sum(np.array([1,2,3])== np.array([0,2,1]))"
   ]
  },
  {
   "cell_type": "code",
   "execution_count": 122,
   "metadata": {},
   "outputs": [],
   "source": [
    "## naive evaluation function\n",
    "def naive_eval(pred:list, true:list):\n",
    "    return np.sum(np.array(pred)== np.array(true))/len(pred)"
   ]
  },
  {
   "cell_type": "code",
   "execution_count": 120,
   "metadata": {},
   "outputs": [
    {
     "name": "stderr",
     "output_type": "stream",
     "text": [
      "/tmp/ipykernel_3769352/3779637221.py:2: DeprecationWarning: This function is deprecated. Please call randint(0, 77996 + 1) instead\n",
      "  random_users = get_item_by_idx_list(list(users), np.random.random_integers(low = 0, high = len(users), size = int(0.1*len(users))))\n",
      "100%|██████████| 7799/7799 [01:44<00:00, 74.92it/s] \n"
     ]
    }
   ],
   "source": [
    "true, pred = [], []\n",
    "random_users = get_item_by_idx_list(list(users), np.random.random_integers(low = 0, high = len(users), size = int(0.1*len(users))))\n",
    "for u in tqdm(random_users):\n",
    "    if np.random.random() < 0.5:\n",
    "        continue\n",
    "    if len(itemsperuser_train[u]) < 3:\n",
    "        continue\n",
    "    item, similarity_score = rec(u, itemsperuser_train, usersperitem_train)\n",
    "    # print(f'recommended - {item_name[item]}')\n",
    "    # print('user history')\n",
    "    # for item in itemsperuser_train[u]:\n",
    "    #     print(item_name[item])\n",
    "    test_item = list(itemsperuser_test[u])[0]\n",
    "    pred.append(item)\n",
    "    true.append(test_item)"
   ]
  },
  {
   "cell_type": "code",
   "execution_count": 128,
   "metadata": {},
   "outputs": [
    {
     "name": "stdout",
     "output_type": "stream",
     "text": [
      "The model predicted 0.64% queries correctly\n"
     ]
    }
   ],
   "source": [
    "naive_metric = naive_eval(pred, true)\n",
    "print(f'The model predicted {naive_metric*100:,.2f}% queries correctly')"
   ]
  },
  {
   "cell_type": "code",
   "execution_count": null,
   "metadata": {},
   "outputs": [],
   "source": []
  }
 ],
 "metadata": {
  "kernelspec": {
   "display_name": "gml",
   "language": "python",
   "name": "python3"
  },
  "language_info": {
   "codemirror_mode": {
    "name": "ipython",
    "version": 3
   },
   "file_extension": ".py",
   "mimetype": "text/x-python",
   "name": "python",
   "nbconvert_exporter": "python",
   "pygments_lexer": "ipython3",
   "version": "3.8.13"
  },
  "orig_nbformat": 4
 },
 "nbformat": 4,
 "nbformat_minor": 2
}
